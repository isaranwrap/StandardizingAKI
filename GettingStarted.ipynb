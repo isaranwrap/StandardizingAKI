{
 "cells": [
  {
   "cell_type": "markdown",
   "metadata": {},
   "source": [
    "# Getting started"
   ]
  },
  {
   "cell_type": "code",
   "execution_count": 94,
   "metadata": {},
   "outputs": [],
   "source": [
    "import pandas as pd\n",
    "import numpy as np\n",
    "import random\n",
    "\n",
    "import akiFlagger"
   ]
  },
  {
   "cell_type": "markdown",
   "metadata": {},
   "source": [
    "### Let's start off by creating some toy data"
   ]
  },
  {
   "cell_type": "code",
   "execution_count": 95,
   "metadata": {},
   "outputs": [
    {
     "name": "stdout",
     "output_type": "stream",
     "text": [
      "Number of patients: 100\n",
      "Number of admissions: 100\n",
      "Number of encounters: 606\n"
     ]
    },
    {
     "data": {
      "text/html": [
       "<div>\n",
       "<style scoped>\n",
       "    .dataframe tbody tr th:only-of-type {\n",
       "        vertical-align: middle;\n",
       "    }\n",
       "\n",
       "    .dataframe tbody tr th {\n",
       "        vertical-align: top;\n",
       "    }\n",
       "\n",
       "    .dataframe thead th {\n",
       "        text-align: right;\n",
       "    }\n",
       "</style>\n",
       "<table border=\"1\" class=\"dataframe\">\n",
       "  <thead>\n",
       "    <tr style=\"text-align: right;\">\n",
       "      <th></th>\n",
       "      <th>mrn</th>\n",
       "      <th>admn</th>\n",
       "      <th>enc</th>\n",
       "    </tr>\n",
       "  </thead>\n",
       "  <tbody>\n",
       "    <tr>\n",
       "      <th>0</th>\n",
       "      <td>12732</td>\n",
       "      <td>2020-02-27 11:42:42</td>\n",
       "      <td>25741.0</td>\n",
       "    </tr>\n",
       "    <tr>\n",
       "      <th>1</th>\n",
       "      <td>19845</td>\n",
       "      <td>2020-05-12 06:02:54</td>\n",
       "      <td>81382.0</td>\n",
       "    </tr>\n",
       "    <tr>\n",
       "      <th>2</th>\n",
       "      <td>13264</td>\n",
       "      <td>2020-01-10 11:16:57</td>\n",
       "      <td>89464.0</td>\n",
       "    </tr>\n",
       "    <tr>\n",
       "      <th>3</th>\n",
       "      <td>14859</td>\n",
       "      <td>2020-06-07 12:27:38</td>\n",
       "      <td>75180.0</td>\n",
       "    </tr>\n",
       "    <tr>\n",
       "      <th>4</th>\n",
       "      <td>19225</td>\n",
       "      <td>2020-03-26 21:16:49</td>\n",
       "      <td>94917.0</td>\n",
       "    </tr>\n",
       "  </tbody>\n",
       "</table>\n",
       "</div>"
      ],
      "text/plain": [
       "     mrn                admn      enc\n",
       "0  12732 2020-02-27 11:42:42  25741.0\n",
       "1  19845 2020-05-12 06:02:54  81382.0\n",
       "2  13264 2020-01-10 11:16:57  89464.0\n",
       "3  14859 2020-06-07 12:27:38  75180.0\n",
       "4  19225 2020-03-26 21:16:49  94917.0"
      ]
     },
     "execution_count": 95,
     "metadata": {},
     "output_type": "execute_result"
    }
   ],
   "source": [
    "np.random.seed(0) #seed for reproducibility\n",
    "#pick admission dates from Jan 1, 2020 to July 1, 2020 (6 month period)\n",
    "date_range = (pd.to_datetime('2020-01-01').value // 10**9, pd.to_datetime('2020-07-01').value // 10**9) \n",
    "\n",
    "#Generate random MRN #s, admission dates, and encounters\n",
    "#Generate between 3 and 10 encounters for each patient\n",
    "mrns = np.random.randint(10000, 20000, 100)\n",
    "admns = pd.to_datetime(np.random.randint(date_range[0], date_range[1], 100), unit = 's')\n",
    "encs = [np.random.randint(10000, 99999, np.random.randint(3,10)) for mrn, admn in zip(mrns, admns)]\n",
    "\n",
    "#Combine the two dataframes\n",
    "d1 = pd.DataFrame([mrns, admns]).T\n",
    "d2 = pd.DataFrame(encs)\n",
    "\n",
    "d1.columns = ['mrn', 'admn']\n",
    "d2 = d2.add_prefix('enc_')\n",
    "\n",
    "df = pd.concat([d1, d2], axis=1)\n",
    "df = pd.melt(df, id_vars = ['mrn', 'admn'], value_name = 'enc').drop('variable', axis=1)\n",
    "\n",
    "#Remove the duplicated & null values and reset the index\n",
    "df = df[np.logical_and(~df.enc.isnull(), ~df.enc.duplicated())].reset_index(drop=True) \n",
    "print('Number of patients: {}\\nNumber of admissions: {}\\nNumber of encounters: {}'.format(df.mrn.unique().shape[0],\n",
    "                                                                                          df.admn.unique().shape[0],\n",
    "                                                                                          df.enc.unique().shape[0]))\n",
    "df.head()"
   ]
  },
  {
   "cell_type": "code",
   "execution_count": 102,
   "metadata": {
    "scrolled": true
   },
   "outputs": [
    {
     "data": {
      "text/html": [
       "<div>\n",
       "<style scoped>\n",
       "    .dataframe tbody tr th:only-of-type {\n",
       "        vertical-align: middle;\n",
       "    }\n",
       "\n",
       "    .dataframe tbody tr th {\n",
       "        vertical-align: top;\n",
       "    }\n",
       "\n",
       "    .dataframe thead th {\n",
       "        text-align: right;\n",
       "    }\n",
       "</style>\n",
       "<table border=\"1\" class=\"dataframe\">\n",
       "  <thead>\n",
       "    <tr style=\"text-align: right;\">\n",
       "      <th></th>\n",
       "      <th>mrn</th>\n",
       "      <th>admn</th>\n",
       "      <th>enc</th>\n",
       "      <th>time</th>\n",
       "    </tr>\n",
       "  </thead>\n",
       "  <tbody>\n",
       "    <tr>\n",
       "      <th>0</th>\n",
       "      <td>12732</td>\n",
       "      <td>2020-02-27 11:42:42</td>\n",
       "      <td>25741.0</td>\n",
       "      <td>2020-02-29 05:42:42</td>\n",
       "    </tr>\n",
       "    <tr>\n",
       "      <th>1</th>\n",
       "      <td>19845</td>\n",
       "      <td>2020-05-12 06:02:54</td>\n",
       "      <td>81382.0</td>\n",
       "      <td>2020-05-15 12:02:54</td>\n",
       "    </tr>\n",
       "    <tr>\n",
       "      <th>2</th>\n",
       "      <td>13264</td>\n",
       "      <td>2020-01-10 11:16:57</td>\n",
       "      <td>89464.0</td>\n",
       "      <td>2020-01-07 11:16:57</td>\n",
       "    </tr>\n",
       "    <tr>\n",
       "      <th>3</th>\n",
       "      <td>14859</td>\n",
       "      <td>2020-06-07 12:27:38</td>\n",
       "      <td>75180.0</td>\n",
       "      <td>2020-06-06 00:27:38</td>\n",
       "    </tr>\n",
       "    <tr>\n",
       "      <th>4</th>\n",
       "      <td>19225</td>\n",
       "      <td>2020-03-26 21:16:49</td>\n",
       "      <td>94917.0</td>\n",
       "      <td>2020-03-29 03:16:49</td>\n",
       "    </tr>\n",
       "    <tr>\n",
       "      <th>...</th>\n",
       "      <td>...</td>\n",
       "      <td>...</td>\n",
       "      <td>...</td>\n",
       "      <td>...</td>\n",
       "    </tr>\n",
       "    <tr>\n",
       "      <th>601</th>\n",
       "      <td>18448</td>\n",
       "      <td>2020-03-09 17:00:54</td>\n",
       "      <td>55387.0</td>\n",
       "      <td>2020-03-05 17:00:54</td>\n",
       "    </tr>\n",
       "    <tr>\n",
       "      <th>602</th>\n",
       "      <td>11634</td>\n",
       "      <td>2020-02-20 11:04:24</td>\n",
       "      <td>57456.0</td>\n",
       "      <td>2020-02-23 11:04:24</td>\n",
       "    </tr>\n",
       "    <tr>\n",
       "      <th>603</th>\n",
       "      <td>16521</td>\n",
       "      <td>2020-03-10 23:00:27</td>\n",
       "      <td>83735.0</td>\n",
       "      <td>2020-03-14 17:00:27</td>\n",
       "    </tr>\n",
       "    <tr>\n",
       "      <th>604</th>\n",
       "      <td>17742</td>\n",
       "      <td>2020-06-25 21:38:55</td>\n",
       "      <td>39764.0</td>\n",
       "      <td>2020-06-30 15:38:55</td>\n",
       "    </tr>\n",
       "    <tr>\n",
       "      <th>605</th>\n",
       "      <td>12787</td>\n",
       "      <td>2020-02-21 10:48:33</td>\n",
       "      <td>49228.0</td>\n",
       "      <td>2020-02-23 10:48:33</td>\n",
       "    </tr>\n",
       "  </tbody>\n",
       "</table>\n",
       "<p>606 rows × 4 columns</p>\n",
       "</div>"
      ],
      "text/plain": [
       "       mrn                admn      enc                time\n",
       "0    12732 2020-02-27 11:42:42  25741.0 2020-02-29 05:42:42\n",
       "1    19845 2020-05-12 06:02:54  81382.0 2020-05-15 12:02:54\n",
       "2    13264 2020-01-10 11:16:57  89464.0 2020-01-07 11:16:57\n",
       "3    14859 2020-06-07 12:27:38  75180.0 2020-06-06 00:27:38\n",
       "4    19225 2020-03-26 21:16:49  94917.0 2020-03-29 03:16:49\n",
       "..     ...                 ...      ...                 ...\n",
       "601  18448 2020-03-09 17:00:54  55387.0 2020-03-05 17:00:54\n",
       "602  11634 2020-02-20 11:04:24  57456.0 2020-02-23 11:04:24\n",
       "603  16521 2020-03-10 23:00:27  83735.0 2020-03-14 17:00:27\n",
       "604  17742 2020-06-25 21:38:55  39764.0 2020-06-30 15:38:55\n",
       "605  12787 2020-02-21 10:48:33  49228.0 2020-02-23 10:48:33\n",
       "\n",
       "[606 rows x 4 columns]"
      ]
     },
     "execution_count": 102,
     "metadata": {},
     "output_type": "execute_result"
    }
   ],
   "source": [
    "df['time'] = df.admn + np.array([random.choice(time_deltas) for i in range(df.shape[0])])\n",
    "df"
   ]
  },
  {
   "cell_type": "code",
   "execution_count": 93,
   "metadata": {},
   "outputs": [
    {
     "data": {
      "text/plain": [
       "TimedeltaIndex(['-5 days +00:00:00', '-5 days +06:00:00', '-5 days +12:00:00',\n",
       "                '-5 days +18:00:00', '-4 days +00:00:00', '-4 days +06:00:00',\n",
       "                '-4 days +12:00:00', '-4 days +18:00:00', '-3 days +00:00:00',\n",
       "                '-3 days +06:00:00', '-3 days +12:00:00', '-3 days +18:00:00',\n",
       "                '-2 days +00:00:00', '-2 days +06:00:00', '-2 days +12:00:00',\n",
       "                '-2 days +18:00:00', '-1 days +00:00:00', '-1 days +06:00:00',\n",
       "                '-1 days +12:00:00', '-1 days +18:00:00',   '0 days 00:00:00',\n",
       "                  '0 days 06:00:00',   '0 days 12:00:00',   '0 days 18:00:00',\n",
       "                  '1 days 00:00:00',   '1 days 06:00:00',   '1 days 12:00:00',\n",
       "                  '1 days 18:00:00',   '2 days 00:00:00',   '2 days 06:00:00',\n",
       "                  '2 days 12:00:00',   '2 days 18:00:00',   '3 days 00:00:00',\n",
       "                  '3 days 06:00:00',   '3 days 12:00:00',   '3 days 18:00:00',\n",
       "                  '4 days 00:00:00',   '4 days 06:00:00',   '4 days 12:00:00',\n",
       "                  '4 days 18:00:00',   '5 days 00:00:00'],\n",
       "               dtype='timedelta64[ns]', freq='6H')"
      ]
     },
     "execution_count": 93,
     "metadata": {},
     "output_type": "execute_result"
    }
   ],
   "source": [
    "time_deltas = pd.timedelta_range(start='-5 days', end='5 days', freq='6H')\n",
    "time_deltas"
   ]
  },
  {
   "cell_type": "code",
   "execution_count": null,
   "metadata": {},
   "outputs": [],
   "source": []
  }
 ],
 "metadata": {
  "kernelspec": {
   "display_name": "Python 3",
   "language": "python",
   "name": "python3"
  },
  "language_info": {
   "codemirror_mode": {
    "name": "ipython",
    "version": 3
   },
   "file_extension": ".py",
   "mimetype": "text/x-python",
   "name": "python",
   "nbconvert_exporter": "python",
   "pygments_lexer": "ipython3",
   "version": "3.7.3"
  }
 },
 "nbformat": 4,
 "nbformat_minor": 2
}
