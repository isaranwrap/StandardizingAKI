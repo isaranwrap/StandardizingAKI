{
 "cells": [
  {
   "cell_type": "markdown",
   "metadata": {},
   "source": [
    "## Imports"
   ]
  },
  {
   "cell_type": "code",
   "execution_count": 74,
   "metadata": {},
   "outputs": [],
   "source": [
    "import pandas as pd\n",
    "import numpy as np\n",
    "import datetime, random\n",
    "\n",
    "from multiprocessing import Pool\n",
    "import time\n",
    "import os"
   ]
  },
  {
   "cell_type": "markdown",
   "metadata": {},
   "source": [
    "## Reading in files; managing columns"
   ]
  },
  {
   "cell_type": "code",
   "execution_count": 126,
   "metadata": {
    "code_folding": [
     9
    ],
    "scrolled": true
   },
   "outputs": [
    {
     "name": "stdout",
     "output_type": "stream",
     "text": [
      "(127254, 10)\n",
      "Wall time: 24.6 s\n"
     ]
    }
   ],
   "source": [
    "%%time\n",
    "df = pd.read_csv(r'H:\\Data\\Standardized AKI definition\\dataset\\output.csv')\n",
    "df['time'] = pd.to_datetime(df.time)\n",
    "df = df.drop(['Unnamed: 0'], axis=1)\n",
    "\n",
    "yu = pd.read_csv(r'H:\\Data\\Standardized AKI definition\\dataset\\aki flagger covid creatinines with covidtest.csv')\n",
    "yu['pat_mrn_id'] = yu.pat_mrn_id.str.strip('MR').astype('int') #indexing with integers is quicker\n",
    "yu['time'] = pd.to_datetime(yu.time)\n",
    "yu['covidtest'] = yu.covidtest.astype('bool')\n",
    "yu.columns = ['mrn', #Renaming columns for ease\n",
    "              'pat_enc_id',\n",
    "              'time',\n",
    "              'creat',\n",
    "              'enc',\n",
    "              'running_aki_stage',\n",
    "              'historical_aki_stage',\n",
    "              'covid'] \n",
    "\n",
    "yu['running_aki'] = yu.running_aki_stage > 0 \n",
    "yu['historical_aki'] = yu.historical_aki_stage > 0\n",
    "\n",
    "yu = yu.groupby('enc').apply(lambda d: d[~d.time.duplicated()])\n",
    "yu = yu.reset_index(drop=True)\n",
    "\n",
    "print(yu.shape)"
   ]
  },
  {
   "cell_type": "code",
   "execution_count": 127,
   "metadata": {
    "scrolled": false
   },
   "outputs": [
    {
     "name": "stdout",
     "output_type": "stream",
     "text": [
      "True\n",
      "True\n",
      "True\n",
      "Subset shape: (127254, 17) Yu's df shape: (127254, 10)\n",
      "Wall time: 34.6 s\n"
     ]
    }
   ],
   "source": [
    "%%time\n",
    "df_subset = df.set_index(['mrn', 'enc', 'time']).loc[yu.set_index(['mrn','enc','time']).index]\n",
    "df_subset = df_subset.reset_index().groupby('enc').apply(lambda d: d[~d.time.duplicated()])\n",
    "df_subset = df_subset.reset_index(drop=True)\n",
    "print(np.all(df_subset.time == yu.time))\n",
    "print(np.all(df_subset.enc == yu.enc))\n",
    "print(np.all(df_subset.mrn == yu.mrn))\n",
    "print('Subset shape:',df_subset.shape, 'Yu\\'s df shape:',yu.shape)\n",
    "df_subset.loc[df_subset.rollingwindow_aki.isnull(), 'rollingwindow_aki'] = 0\n",
    "df_subset.loc[df_subset.backcalc_aki.isnull(), 'backcalc_aki'] = 0"
   ]
  },
  {
   "cell_type": "markdown",
   "metadata": {},
   "source": [
    "### Check mismatch \n",
    "\n",
    "###### Back-calc match: 127105 / 127254; 99.88%\n",
    "\n",
    "###### Rolling-window match: 127215 / 127254; 99.97%"
   ]
  },
  {
   "cell_type": "code",
   "execution_count": 128,
   "metadata": {
    "scrolled": false
   },
   "outputs": [
    {
     "name": "stdout",
     "output_type": "stream",
     "text": [
      "Back-calc match: 127105 / 127254 ; 0.9988291134266899\n",
      "Rolling-window match: 127215 / 127254 ; 0.9996935263331604\n"
     ]
    }
   ],
   "source": [
    "print('Back-calc match:', (df_subset.backcalc_aki == yu.historical_aki).sum(), '/', df_subset.shape[0],\n",
    "      ';',(df_subset.backcalc_aki == yu.historical_aki).sum() / df_subset.shape[0])\n",
    "print('Rolling-window match:', (df_subset.rollingwindow_aki == yu.running_aki).sum(), '/', yu.shape[0],\n",
    "      ';', (df_subset.rollingwindow_aki == yu.running_aki).sum() / yu.shape[0])"
   ]
  },
  {
   "cell_type": "markdown",
   "metadata": {},
   "source": [
    "### Back-calc mismatch\n",
    "\n",
    "657313, 4143535"
   ]
  },
  {
   "cell_type": "code",
   "execution_count": 144,
   "metadata": {
    "scrolled": true
   },
   "outputs": [
    {
     "data": {
      "text/plain": [
       "array([ 657313, 4143535,  197069,  197069,  197069,  197069, 1248799,\n",
       "       3232988, 3232988, 3232988, 3232988, 5356360, 3542945, 2483162,\n",
       "       4488514, 6476714, 5548292, 5031590, 2499045, 6408233, 1090433,\n",
       "       5895234,   53504, 2130749, 4171429, 1177106, 1854532,   69460,\n",
       "       3670657, 1652965, 5565198, 1729355, 5904941, 1801029, 6428971,\n",
       "       6428971, 1130875, 1281700, 5955510,  659481, 5901458,   46813,\n",
       "       1046434, 1870208,  463111,  463111,  463111, 3491149, 5034627,\n",
       "        113292, 3235213, 5543343, 5963419, 2727979,   33230, 2127519,\n",
       "         85146, 1836310, 5140831,  385219,  899502, 5450735, 3626664,\n",
       "       1710520,  658845,  658845,  658845, 1437576, 6024049, 1741452,\n",
       "       4614648, 3405350, 3385480, 5021392, 4952780, 5153405, 5153405,\n",
       "       5153405, 5153405, 2075680, 2075680, 6501816, 2815476, 2182049,\n",
       "       2532499,  445947,  934131, 1757980, 4514643,  566792, 2314043,\n",
       "       1169533, 1596792, 3063014, 4461359, 1955929, 1374009, 3235213,\n",
       "       2258170, 3912253, 1152842, 2013312, 5754224, 3196042,  328129,\n",
       "       2461351, 1042199, 3028464, 4753289, 4637812, 5315062, 2071298,\n",
       "       1730590, 1884308, 1885242, 4360204, 4827398, 4770084, 1151134,\n",
       "       6509023, 1746750,  120058, 1439779, 1550840,  810644,   39180,\n",
       "       1469444, 2480407, 2099852, 2910389, 1954064,  943398, 5044180,\n",
       "       1111876, 2426586, 1626798, 4753289, 1949147, 2140631, 4317001,\n",
       "       1899005, 2629357,  718507, 6060138,  750182, 4915791, 5722924,\n",
       "       1345026, 4816136])"
      ]
     },
     "execution_count": 144,
     "metadata": {},
     "output_type": "execute_result"
    }
   ],
   "source": [
    "yu.iloc[np.where(df_subset.backcalc_aki != yu.historical_aki)[0]].mrn.values"
   ]
  },
  {
   "cell_type": "code",
   "execution_count": 145,
   "metadata": {},
   "outputs": [],
   "source": [
    "#df_subset.iloc[np.where(df_subset.backcalc_aki != yu.historical_aki)[0]]"
   ]
  },
  {
   "cell_type": "markdown",
   "metadata": {},
   "source": [
    "### Rolling-window mismatch\n",
    "\n",
    "We mismatch on mrn: 6496928, 6500618, 5446541, ..."
   ]
  },
  {
   "cell_type": "code",
   "execution_count": 148,
   "metadata": {},
   "outputs": [],
   "source": [
    "#yu.iloc[np.where(df_subset.rollingwindow_aki != yu.running_aki)[0]]"
   ]
  },
  {
   "cell_type": "code",
   "execution_count": 149,
   "metadata": {},
   "outputs": [],
   "source": [
    "#df_subset.iloc[np.where(df_subset.rollingwindow_aki != yu.running_aki)[0]]"
   ]
  },
  {
   "cell_type": "markdown",
   "metadata": {},
   "source": []
  },
  {
   "cell_type": "markdown",
   "metadata": {},
   "source": []
  },
  {
   "cell_type": "markdown",
   "metadata": {},
   "source": []
  },
  {
   "cell_type": "markdown",
   "metadata": {},
   "source": [
    "## Reading in other dataframes, trying to make heads and tails of what data is included and what isn't"
   ]
  },
  {
   "cell_type": "code",
   "execution_count": 124,
   "metadata": {},
   "outputs": [
    {
     "name": "stdout",
     "output_type": "stream",
     "text": [
      "(1089, 3)\n",
      "(127272, 8)\n",
      "(127272, 6)\n",
      "(25265, 5)\n",
      "(299718, 12) (215121, 17)\n"
     ]
    }
   ],
   "source": [
    "yu_covid_mrn = pd.read_csv(os.path.join(baseFolder, 'aki flagger covid creatinines with covidtest mrn.csv'))\n",
    "print(yu_covid_mrn.shape)\n",
    "\n",
    "yu_covid = pd.read_csv(os.path.join(baseFolder, 'aki flagger covid creatinines with covidtest.csv'))\n",
    "print(yu_covid.shape)\n",
    "\n",
    "yu = pd.read_csv(os.path.join(baseFolder, 'aki flagger covid creatinines.csv')) #these were all tested for covid\n",
    "print(yu.shape)\n",
    "\n",
    "covid_test_result = pd.read_csv(os.path.join(baseFolder, 'covid test result.csv'))\n",
    "covid_test_result['mrn'] = covid_test_result.pat_mrn_id.str.strip('MR').astype('int')\n",
    "covid_test_result['covidtest'] = covid_test_result.covidtest.astype('bool')\n",
    "print(covid_test_result.shape)\n",
    "\n",
    "covid_creats = pd.read_csv(os.path.join(baseFolder, 'covid creatinines.csv'))\n",
    "\n",
    "covid_creats['mrn'] = covid_creats.pat_mrn_id.str.strip('MR').astype('int')\n",
    "print(covid_creats.shape, df.shape)"
   ]
  },
  {
   "cell_type": "code",
   "execution_count": 233,
   "metadata": {
    "scrolled": true
   },
   "outputs": [
    {
     "name": "stdout",
     "output_type": "stream",
     "text": [
      "Wall time: 1min 25s\n"
     ]
    }
   ],
   "source": [
    "%%time\n",
    "indices = [df.mrn[indx] in covid_test_result.mrn.values for indx in range(df.shape[0])]\n",
    "yu_indices = [yu.mrn[indx] in covid_test_result.mrn.values for indx in range(yu.shape[0])]\n",
    "cc_indices = [covid_creats.mrn[indx] in yu.mrn.values for indx in range(covid_creats.shape[0])]\n",
    "df_indices = [df.mrn[indx] in yu.mrn.values for indx in range(df.shape[0])]\n",
    "df_enc_indices = [df.enc[indx] in yu.enc.values for indx in range(df.shape[0])]\n",
    "covid_mrn_indices = [df.mrn[indx] in covid_result.mrn.values for indx in range(df.shape[0])]\n",
    "covid_enc_indices = [df.enc[indx] in covidpos.enc.values for indx in range(df.shape[0])]"
   ]
  },
  {
   "cell_type": "code",
   "execution_count": 4,
   "metadata": {
    "scrolled": true
   },
   "outputs": [
    {
     "name": "stdout",
     "output_type": "stream",
     "text": [
      "covid_result shape: (25265, 4) df shape: (295435, 17) yu shape: (127254, 10)\n",
      "yu encs: 15730 yu mrns: 13821\n",
      "covid+ tests: 4688\n",
      "covid encs: 17441 covid mrns: 15454\n",
      "Wall time: 120 ms\n"
     ]
    }
   ],
   "source": [
    "%%time\n",
    "baseFolder = r'H:\\Data\\Standardized AKI definition\\dataset'\n",
    "covid_result = pd.read_csv(os.path.join(baseFolder, 'covid test result.csv'))\n",
    "covid_result['mrn'] = covid_result.pat_mrn_id.str.strip('MR').astype('int')\n",
    "covid_result['enc'] = covid_result.enc_id\n",
    "covid_result['covidtest'] = covid_result.covidtest.astype('bool')\n",
    "covid_result['time'] = pd.to_datetime(covid_result.time)\n",
    "covid_result = covid_result.drop(['pat_enc_csn_id','pat_mrn_id', 'enc_id'], axis=1)\n",
    "\n",
    "print('covid_result shape:',covid_result.shape, 'df shape:',df.shape,'yu shape:',yu.shape)\n",
    "print('yu encs:', yu.enc.unique().shape[0], 'yu mrns:', yu.mrn.unique().shape[0])\n",
    "print('covid+ tests:', covid_result.covidtest.sum())\n",
    "print('covid encs:',covid_result.enc.unique().shape[0], 'covid mrns:',covid_result.mrn.unique().shape[0])"
   ]
  }
 ],
 "metadata": {
  "kernelspec": {
   "display_name": "Python 3",
   "language": "python",
   "name": "python3"
  },
  "language_info": {
   "codemirror_mode": {
    "name": "ipython",
    "version": 3
   },
   "file_extension": ".py",
   "mimetype": "text/x-python",
   "name": "python",
   "nbconvert_exporter": "python",
   "pygments_lexer": "ipython3",
   "version": "3.6.10"
  }
 },
 "nbformat": 4,
 "nbformat_minor": 4
}
