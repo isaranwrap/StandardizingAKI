{
 "cells": [
  {
   "cell_type": "markdown",
   "metadata": {},
   "source": [
    "## Imports"
   ]
  },
  {
   "cell_type": "code",
   "execution_count": 1,
   "metadata": {},
   "outputs": [],
   "source": [
    "import pandas as pd\n",
    "import numpy as np\n",
    "import datetime, random\n",
    "\n",
    "from multiprocessing import Pool\n",
    "import time\n",
    "\n",
    "#Potentially useful \n",
    "#MRNs - ENC\n",
    "#2307280 - 205472336"
   ]
  },
  {
   "cell_type": "markdown",
   "metadata": {},
   "source": [
    "## Functions"
   ]
  },
  {
   "cell_type": "code",
   "execution_count": 198,
   "metadata": {
    "code_folding": [
     0,
     18,
     52
    ]
   },
   "outputs": [],
   "source": [
    "def returnAKIpatients(df, aki_calc_type = 'rolling_window', keep_cols = True):\n",
    "    \n",
    "    if aki_calc_type == 'both':\n",
    "        df = df.groupby('enc', sort=False).apply(lambda d: addRollingWindowAKI(d))\n",
    "        df = df.reset_index('enc', drop=True).reset_index()\n",
    "        \n",
    "        df = df.groupby('mrn', sort=False).apply(lambda d: addBaselineCreat(d))\n",
    "        df = df.groupby('enc', sort=False).apply(lambda d: addBackCalcAKI(d))\n",
    "        \n",
    "    elif aki_calc_type == 'rolling_window':\n",
    "        df = df.groupby('enc', sort=False).apply(lambda d: addRollingWindowAKI(d))\n",
    "        \n",
    "    elif aki_calc_type == 'back_calculate':\n",
    "        df = df.groupby('mrn', sort=False).apply(lambda d: addBaselineCreat(d))\n",
    "        df = df.groupby('enc', sort=False).apply(lambda d: addBackCalcAKI(d)) \n",
    "    \n",
    "    return df\n",
    "\n",
    "def addBaselineCreat(df):\n",
    "    '''\n",
    "    Adds the baseline creatinine to a dataframe. The baseline creatinine is defined as the median of the outpatient \n",
    "     creatinine values from 365 to 7 days prior to admission.\n",
    "    \n",
    "    Input: dataframe (typically of a single patient)\n",
    "    Output: dataframe with baseline creatinine column added in\n",
    "    '''\n",
    "    t_m1y = (df.admission - datetime.timedelta(days=365)).values\n",
    "    t_m7d = (df.admission - datetime.timedelta(days=7)).values\n",
    "    \n",
    "    df['baseline_creat'] = [df[~df.inpatient].set_index('time').sort_index().loc[t_m1y[indx]:t_m7d[indx]].creat.median() for indx in range(df.shape[0])]\n",
    "    \n",
    "    return df\n",
    "\n",
    "def addBackCalcAKI(df):\n",
    "    '''\n",
    "    Adds the back-calculated AKI conditions, the KDIGO standards on the outpatient values;\n",
    "     i.e. a 50% increase from baseline creatinine in <7 days\n",
    "    \n",
    "    Input: dataframe (typically of a single encounter)\n",
    "    Output: dataframe with back-calculated aki values added in\n",
    "    '''\n",
    "    backcalc_aki = np.empty(df.shape[0])\n",
    "    backcalc_aki[:] = np.nan\n",
    "    \n",
    "    df = df.sort_values('time')\n",
    "    df_lf = df.set_index('time').loc[df.admission.values[0]:(df.admission + datetime.timedelta(days=7)).values[0]]\n",
    "    backcalc_aki[:df_lf.shape[0]] = df_lf.creat > 1.5*df_lf.baseline_creat\n",
    "    \n",
    "    df['backcalc_aki'] = backcalc_aki\n",
    "    \n",
    "    return df \n",
    "\n",
    "def addRollingWindowAKI(df):\n",
    "    '''\n",
    "    Adds the AKI conditions based on rolling window definition: 0.3 creat increase in < 48 hrs OR 50% increase in < 7 days\n",
    "    \n",
    "    Input: dataframe (typically of a single encounter)\n",
    "    Output: dataframe with rolling-window aki values added in\n",
    "    '''\n",
    "    df = df.set_index('time').sort_index()\n",
    "    df = df[~df.duplicated()]\n",
    "    \n",
    "    df['mincreat_48hr'] = df.creat.rolling(pd.Timedelta('2days'), min_periods=1).min().values\n",
    "    df['mincreat_7day'] = df.creat.rolling(pd.Timedelta('7days'), min_periods=1).min().values\n",
    "\n",
    "    df['deltacreat_48hr'] = np.round(df.creat - df.mincreat_48hr, decimals = 3)\n",
    "    df['deltacreat_7day'] = np.round(df.creat - df.mincreat_7day, decimals = 3)\n",
    "\n",
    "    df['rollingwindow_aki'] = (df.deltacreat_48hr >= 0.3) | (df.deltacreat_7day > 0.5*df.mincreat_7day)\n",
    "    \n",
    "    return df"
   ]
  },
  {
   "cell_type": "markdown",
   "metadata": {},
   "source": [
    "## Reading in file; managing columns"
   ]
  },
  {
   "cell_type": "code",
   "execution_count": 199,
   "metadata": {},
   "outputs": [
    {
     "ename": "AttributeError",
     "evalue": "'DataFrame' object has no attribute 'admission'",
     "output_type": "error",
     "traceback": [
      "\u001b[1;31m---------------------------------------------------------------------------\u001b[0m",
      "\u001b[1;31mAttributeError\u001b[0m                            Traceback (most recent call last)",
      "\u001b[1;32m<ipython-input-199-821767e84387>\u001b[0m in \u001b[0;36m<module>\u001b[1;34m\u001b[0m\n\u001b[0;32m      3\u001b[0m \u001b[0mbackcalc_aki\u001b[0m\u001b[1;33m[\u001b[0m\u001b[1;33m:\u001b[0m\u001b[1;33m]\u001b[0m \u001b[1;33m=\u001b[0m \u001b[0mnp\u001b[0m\u001b[1;33m.\u001b[0m\u001b[0mnan\u001b[0m\u001b[1;33m\u001b[0m\u001b[1;33m\u001b[0m\u001b[0m\n\u001b[0;32m      4\u001b[0m \u001b[0mtmp\u001b[0m \u001b[1;33m=\u001b[0m \u001b[0mtmp\u001b[0m\u001b[1;33m.\u001b[0m\u001b[0msort_values\u001b[0m\u001b[1;33m(\u001b[0m\u001b[1;34m'time'\u001b[0m\u001b[1;33m)\u001b[0m\u001b[1;33m\u001b[0m\u001b[1;33m\u001b[0m\u001b[0m\n\u001b[1;32m----> 5\u001b[1;33m \u001b[0mtmp2\u001b[0m \u001b[1;33m=\u001b[0m \u001b[0mtmp\u001b[0m\u001b[1;33m.\u001b[0m\u001b[0mset_index\u001b[0m\u001b[1;33m(\u001b[0m\u001b[1;34m'time'\u001b[0m\u001b[1;33m)\u001b[0m\u001b[1;33m.\u001b[0m\u001b[0msort_index\u001b[0m\u001b[1;33m(\u001b[0m\u001b[1;33m)\u001b[0m\u001b[1;33m.\u001b[0m\u001b[0mloc\u001b[0m\u001b[1;33m[\u001b[0m\u001b[0mtmp\u001b[0m\u001b[1;33m.\u001b[0m\u001b[0madmission\u001b[0m\u001b[1;33m.\u001b[0m\u001b[0mvalues\u001b[0m\u001b[1;33m[\u001b[0m\u001b[1;36m0\u001b[0m\u001b[1;33m]\u001b[0m\u001b[1;33m:\u001b[0m\u001b[1;33m(\u001b[0m\u001b[0mtmp\u001b[0m\u001b[1;33m.\u001b[0m\u001b[0madmission\u001b[0m \u001b[1;33m+\u001b[0m \u001b[0mdatetime\u001b[0m\u001b[1;33m.\u001b[0m\u001b[0mtimedelta\u001b[0m\u001b[1;33m(\u001b[0m\u001b[0mdays\u001b[0m\u001b[1;33m=\u001b[0m\u001b[1;36m7\u001b[0m\u001b[1;33m)\u001b[0m\u001b[1;33m)\u001b[0m\u001b[1;33m.\u001b[0m\u001b[0mvalues\u001b[0m\u001b[1;33m[\u001b[0m\u001b[1;36m0\u001b[0m\u001b[1;33m]\u001b[0m\u001b[1;33m]\u001b[0m\u001b[1;33m\u001b[0m\u001b[1;33m\u001b[0m\u001b[0m\n\u001b[0m\u001b[0;32m      6\u001b[0m \u001b[0mbackcalc_aki\u001b[0m\u001b[1;33m[\u001b[0m\u001b[1;33m:\u001b[0m\u001b[0mtmp2\u001b[0m\u001b[1;33m.\u001b[0m\u001b[0mshape\u001b[0m\u001b[1;33m[\u001b[0m\u001b[1;36m0\u001b[0m\u001b[1;33m]\u001b[0m\u001b[1;33m]\u001b[0m \u001b[1;33m=\u001b[0m \u001b[0mtmp2\u001b[0m\u001b[1;33m.\u001b[0m\u001b[0mcreat\u001b[0m \u001b[1;33m>\u001b[0m \u001b[1;36m1.5\u001b[0m\u001b[1;33m*\u001b[0m\u001b[0mtmp2\u001b[0m\u001b[1;33m.\u001b[0m\u001b[0mbaseline_creat\u001b[0m\u001b[1;33m\u001b[0m\u001b[1;33m\u001b[0m\u001b[0m\n\u001b[0;32m      7\u001b[0m \u001b[0mtmp\u001b[0m\u001b[1;33m[\u001b[0m\u001b[1;34m'backcalc_aki'\u001b[0m\u001b[1;33m]\u001b[0m \u001b[1;33m=\u001b[0m \u001b[0mbackcalc_aki\u001b[0m\u001b[1;33m\u001b[0m\u001b[1;33m\u001b[0m\u001b[0m\n",
      "\u001b[1;32mE:\\Anaconda3\\lib\\site-packages\\pandas\\core\\generic.py\u001b[0m in \u001b[0;36m__getattr__\u001b[1;34m(self, name)\u001b[0m\n\u001b[0;32m   5065\u001b[0m             \u001b[1;32mif\u001b[0m \u001b[0mself\u001b[0m\u001b[1;33m.\u001b[0m\u001b[0m_info_axis\u001b[0m\u001b[1;33m.\u001b[0m\u001b[0m_can_hold_identifiers_and_holds_name\u001b[0m\u001b[1;33m(\u001b[0m\u001b[0mname\u001b[0m\u001b[1;33m)\u001b[0m\u001b[1;33m:\u001b[0m\u001b[1;33m\u001b[0m\u001b[1;33m\u001b[0m\u001b[0m\n\u001b[0;32m   5066\u001b[0m                 \u001b[1;32mreturn\u001b[0m \u001b[0mself\u001b[0m\u001b[1;33m[\u001b[0m\u001b[0mname\u001b[0m\u001b[1;33m]\u001b[0m\u001b[1;33m\u001b[0m\u001b[1;33m\u001b[0m\u001b[0m\n\u001b[1;32m-> 5067\u001b[1;33m             \u001b[1;32mreturn\u001b[0m \u001b[0mobject\u001b[0m\u001b[1;33m.\u001b[0m\u001b[0m__getattribute__\u001b[0m\u001b[1;33m(\u001b[0m\u001b[0mself\u001b[0m\u001b[1;33m,\u001b[0m \u001b[0mname\u001b[0m\u001b[1;33m)\u001b[0m\u001b[1;33m\u001b[0m\u001b[1;33m\u001b[0m\u001b[0m\n\u001b[0m\u001b[0;32m   5068\u001b[0m \u001b[1;33m\u001b[0m\u001b[0m\n\u001b[0;32m   5069\u001b[0m     \u001b[1;32mdef\u001b[0m \u001b[0m__setattr__\u001b[0m\u001b[1;33m(\u001b[0m\u001b[0mself\u001b[0m\u001b[1;33m,\u001b[0m \u001b[0mname\u001b[0m\u001b[1;33m,\u001b[0m \u001b[0mvalue\u001b[0m\u001b[1;33m)\u001b[0m\u001b[1;33m:\u001b[0m\u001b[1;33m\u001b[0m\u001b[1;33m\u001b[0m\u001b[0m\n",
      "\u001b[1;31mAttributeError\u001b[0m: 'DataFrame' object has no attribute 'admission'"
     ]
    }
   ],
   "source": [
    "tmp = out.loc[out.enc == 205472336]\n",
    "backcalc_aki = np.empty(tmp.shape[0])\n",
    "backcalc_aki[:] = np.nan\n",
    "tmp = tmp.sort_values('time')\n",
    "tmp2 = tmp.set_index('time').sort_index().loc[tmp.admission.values[0]:(tmp.admission + datetime.timedelta(days=7)).values[0]]\n",
    "backcalc_aki[:tmp2.shape[0]] = tmp2.creat > 1.5*tmp2.baseline_creat\n",
    "tmp['backcalc_aki'] = backcalc_aki\n",
    "tmp"
   ]
  },
  {
   "cell_type": "code",
   "execution_count": 200,
   "metadata": {},
   "outputs": [
    {
     "name": "stdout",
     "output_type": "stream",
     "text": [
      "Shape: (299718, 14)\n",
      "pat_mrn_id                object\n",
      "pat_enc_csn_id             int64\n",
      "time              datetime64[ns]\n",
      "creatinine               float64\n",
      "age                      float64\n",
      "sex                         bool\n",
      "race                        bool\n",
      "enc_id                     int64\n",
      "admission         datetime64[ns]\n",
      "discharge         datetime64[ns]\n",
      "inpatient                   bool\n",
      "mrn                        int32\n",
      "enc                        int64\n",
      "creat                    float64\n",
      "dtype: object\n"
     ]
    }
   ],
   "source": [
    "covid_df = pd.read_csv(r'H:\\Data\\Standardized AKI definition\\dataset\\covid creatinines.csv')\n",
    "covid_df['mrn'] = covid_df.pat_mrn_id.str.strip('MR').astype('int')\n",
    "covid_df['enc'] = covid_df.enc_id\n",
    "covid_df['time'] = pd.to_datetime(covid_df.time)\n",
    "covid_df['sex'] = covid_df.sex.astype('bool')\n",
    "covid_df['race'] = covid_df.race.astype('bool')\n",
    "covid_df['inpatient'] = covid_df.inpatient.astype('bool')\n",
    "covid_df['creat'] = covid_df['creatinine']\n",
    "covid_df['admission'] = pd.to_datetime(covid_df.admission)\n",
    "covid_df['discharge'] = pd.to_datetime(covid_df.discharge)\n",
    "print('Shape:', covid_df.shape)\n",
    "print(covid_df.dtypes)"
   ]
  },
  {
   "cell_type": "code",
   "execution_count": 201,
   "metadata": {},
   "outputs": [],
   "source": [
    "df = covid_df[['mrn', 'enc', 'time', 'creat', 'age', 'sex', 'race', 'inpatient', 'admission', 'discharge']]"
   ]
  },
  {
   "cell_type": "code",
   "execution_count": 202,
   "metadata": {},
   "outputs": [
    {
     "name": "stdout",
     "output_type": "stream",
     "text": [
      "Wall time: 15min 48s\n"
     ]
    }
   ],
   "source": [
    "%%time\n",
    "out = returnAKIpatients(df, aki_calc_type = 'both')"
   ]
  },
  {
   "cell_type": "markdown",
   "metadata": {},
   "source": [
    "## Adding Baseline Creat & Back-calculated AKI values"
   ]
  },
  {
   "cell_type": "code",
   "execution_count": 5,
   "metadata": {
    "scrolled": true
   },
   "outputs": [
    {
     "name": "stdout",
     "output_type": "stream",
     "text": [
      "Wall time: 2min 26s\n"
     ]
    },
    {
     "data": {
      "text/html": [
       "<div>\n",
       "<style scoped>\n",
       "    .dataframe tbody tr th:only-of-type {\n",
       "        vertical-align: middle;\n",
       "    }\n",
       "\n",
       "    .dataframe tbody tr th {\n",
       "        vertical-align: top;\n",
       "    }\n",
       "\n",
       "    .dataframe thead th {\n",
       "        text-align: right;\n",
       "    }\n",
       "</style>\n",
       "<table border=\"1\" class=\"dataframe\">\n",
       "  <thead>\n",
       "    <tr style=\"text-align: right;\">\n",
       "      <th></th>\n",
       "      <th>mrn</th>\n",
       "      <th>enc</th>\n",
       "      <th>time</th>\n",
       "      <th>creat</th>\n",
       "      <th>age</th>\n",
       "      <th>sex</th>\n",
       "      <th>race</th>\n",
       "      <th>inpatient</th>\n",
       "      <th>mincreat_48hr</th>\n",
       "      <th>mincreat_7day</th>\n",
       "      <th>deltacreat_48hr</th>\n",
       "      <th>deltacreat_7day</th>\n",
       "      <th>aki</th>\n",
       "    </tr>\n",
       "  </thead>\n",
       "  <tbody>\n",
       "    <tr>\n",
       "      <th>0</th>\n",
       "      <td>1000026</td>\n",
       "      <td>214990932</td>\n",
       "      <td>2020-03-13 16:20:00</td>\n",
       "      <td>0.50</td>\n",
       "      <td>18.945205</td>\n",
       "      <td>True</td>\n",
       "      <td>False</td>\n",
       "      <td>False</td>\n",
       "      <td>0.50</td>\n",
       "      <td>0.50</td>\n",
       "      <td>0.0</td>\n",
       "      <td>0.00</td>\n",
       "      <td>False</td>\n",
       "    </tr>\n",
       "    <tr>\n",
       "      <th>1</th>\n",
       "      <td>1000026</td>\n",
       "      <td>214990932</td>\n",
       "      <td>2020-04-07 20:38:00</td>\n",
       "      <td>0.56</td>\n",
       "      <td>18.945205</td>\n",
       "      <td>True</td>\n",
       "      <td>False</td>\n",
       "      <td>False</td>\n",
       "      <td>0.56</td>\n",
       "      <td>0.56</td>\n",
       "      <td>0.0</td>\n",
       "      <td>0.00</td>\n",
       "      <td>False</td>\n",
       "    </tr>\n",
       "    <tr>\n",
       "      <th>2</th>\n",
       "      <td>1000026</td>\n",
       "      <td>214990932</td>\n",
       "      <td>2020-04-10 18:29:00</td>\n",
       "      <td>0.59</td>\n",
       "      <td>18.945205</td>\n",
       "      <td>True</td>\n",
       "      <td>False</td>\n",
       "      <td>True</td>\n",
       "      <td>0.59</td>\n",
       "      <td>0.56</td>\n",
       "      <td>0.0</td>\n",
       "      <td>0.03</td>\n",
       "      <td>False</td>\n",
       "    </tr>\n",
       "    <tr>\n",
       "      <th>3</th>\n",
       "      <td>1000026</td>\n",
       "      <td>214990932</td>\n",
       "      <td>2020-04-12 07:46:00</td>\n",
       "      <td>0.56</td>\n",
       "      <td>18.945205</td>\n",
       "      <td>True</td>\n",
       "      <td>False</td>\n",
       "      <td>True</td>\n",
       "      <td>0.56</td>\n",
       "      <td>0.56</td>\n",
       "      <td>0.0</td>\n",
       "      <td>0.00</td>\n",
       "      <td>False</td>\n",
       "    </tr>\n",
       "    <tr>\n",
       "      <th>4</th>\n",
       "      <td>1000162</td>\n",
       "      <td>219003501</td>\n",
       "      <td>2020-05-21 23:27:00</td>\n",
       "      <td>0.50</td>\n",
       "      <td>34.052055</td>\n",
       "      <td>True</td>\n",
       "      <td>False</td>\n",
       "      <td>True</td>\n",
       "      <td>0.50</td>\n",
       "      <td>0.50</td>\n",
       "      <td>0.0</td>\n",
       "      <td>0.00</td>\n",
       "      <td>False</td>\n",
       "    </tr>\n",
       "  </tbody>\n",
       "</table>\n",
       "</div>"
      ],
      "text/plain": [
       "       mrn        enc                time  creat        age   sex   race  \\\n",
       "0  1000026  214990932 2020-03-13 16:20:00   0.50  18.945205  True  False   \n",
       "1  1000026  214990932 2020-04-07 20:38:00   0.56  18.945205  True  False   \n",
       "2  1000026  214990932 2020-04-10 18:29:00   0.59  18.945205  True  False   \n",
       "3  1000026  214990932 2020-04-12 07:46:00   0.56  18.945205  True  False   \n",
       "4  1000162  219003501 2020-05-21 23:27:00   0.50  34.052055  True  False   \n",
       "\n",
       "   inpatient  mincreat_48hr  mincreat_7day  deltacreat_48hr  deltacreat_7day  \\\n",
       "0      False           0.50           0.50              0.0             0.00   \n",
       "1      False           0.56           0.56              0.0             0.00   \n",
       "2       True           0.59           0.56              0.0             0.03   \n",
       "3       True           0.56           0.56              0.0             0.00   \n",
       "4       True           0.50           0.50              0.0             0.00   \n",
       "\n",
       "     aki  \n",
       "0  False  \n",
       "1  False  \n",
       "2  False  \n",
       "3  False  \n",
       "4  False  "
      ]
     },
     "execution_count": 5,
     "metadata": {},
     "output_type": "execute_result"
    }
   ],
   "source": [
    "%%time\n",
    "out_rw = returnAKIpatients(df, aki_calc_type = 'rolling_window')"
   ]
  },
  {
   "cell_type": "code",
   "execution_count": 6,
   "metadata": {},
   "outputs": [
    {
     "name": "stdout",
     "output_type": "stream",
     "text": [
      "Wall time: 15min 5s\n"
     ]
    }
   ],
   "source": [
    "%%time\n",
    "out_bc = returnAKIpatients(df, aki_calc_type = 'back_calculate')"
   ]
  },
  {
   "cell_type": "code",
   "execution_count": 153,
   "metadata": {},
   "outputs": [
    {
     "name": "stdout",
     "output_type": "stream",
     "text": [
      "Wall time: 14min 55s\n"
     ]
    }
   ],
   "source": [
    "%%time\n",
    "out = returnAKIpatients(df, aki_calc_type = 'both')"
   ]
  },
  {
   "cell_type": "code",
   "execution_count": 160,
   "metadata": {},
   "outputs": [],
   "source": [
    "#out.to_csv(r'H:\\Data\\Standardized AKI definition\\dataset\\output.csv')"
   ]
  },
  {
   "cell_type": "markdown",
   "metadata": {},
   "source": [
    "## Two criterion for rolling-window definition of AKI:\n",
    "\n",
    "#### *$creat \\uparrow$ of 0.3 in < 48 hrs* OR *$creat \\uparrow$ of 50% in < 7 days*"
   ]
  },
  {
   "cell_type": "code",
   "execution_count": 8,
   "metadata": {},
   "outputs": [
    {
     "data": {
      "text/plain": [
       "array([ 89.80781217,  86.13568724, 103.64216515, 106.16394424,\n",
       "       103.53574924, 115.61690503,  90.53939627,  86.40789028,\n",
       "        88.19213917,  93.91623928])"
      ]
     },
     "execution_count": 8,
     "metadata": {},
     "output_type": "execute_result"
    }
   ],
   "source": [
    "def eGFR(creat, age, black, female):\n",
    "    '''\n",
    "    Calculates the estimated glomerular filtration rate based on the serum creatinine levels, age, sex, and race (black or not black);\n",
    "    Based on the formula in the paper A New Equation to Estimate Glomerular Filtration Rate (Levey et. Al, 2009) linked below\n",
    "    \n",
    "    https://pubmed.ncbi.nlm.nih.gov/19414839/\n",
    "    \n",
    "    '''\n",
    "    #Term 2 - np.clip(creat/(0.9-0.2*female, a_min=1, a_max=None) is the same as taking min(1, creat/k)\n",
    "    #Term 3 - np.clip(creat/(0.9-0.2*female, a_min=None, a_max=None) is the same as taking max(1, creat/k)\n",
    "    #where k is the data-derived constant given in the paper: 0.7 for females and 0.9 for males\n",
    "    \n",
    "    return 141*(np.clip(creat/(0.9-0.2*female), a_min=1, a_max=None)**(-0.411+0.082*female))*(np.clip(creat/(0.9-0.2*female), a_min=None, a_max=1)**-1.209)*(0.993**age)*(1+female*0.018)*(1+black*0.159)\n",
    "\n",
    "#Sample test data\n",
    "creat = np.random.normal(loc=1, scale=0.2, size=10)\n",
    "age = np.random.normal(loc=55, scale=10, size=10)\n",
    "black = np.random.rand(10) > 0.5\n",
    "female = np.random.rand(10) > 0.5\n",
    "\n",
    "eGFR(creat, age, black, female) \n",
    "#values seem pretty reasonable (80-120)"
   ]
  },
  {
   "cell_type": "code",
   "execution_count": null,
   "metadata": {},
   "outputs": [],
   "source": []
  }
 ],
 "metadata": {
  "kernelspec": {
   "display_name": "Python 3",
   "language": "python",
   "name": "python3"
  },
  "language_info": {
   "codemirror_mode": {
    "name": "ipython",
    "version": 3
   },
   "file_extension": ".py",
   "mimetype": "text/x-python",
   "name": "python",
   "nbconvert_exporter": "python",
   "pygments_lexer": "ipython3",
   "version": "3.6.10"
  }
 },
 "nbformat": 4,
 "nbformat_minor": 4
}
