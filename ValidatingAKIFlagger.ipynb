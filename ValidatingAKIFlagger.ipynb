{
 "cells": [
  {
   "cell_type": "markdown",
   "metadata": {},
   "source": [
    "## Imports"
   ]
  },
  {
   "cell_type": "code",
   "execution_count": 74,
   "metadata": {},
   "outputs": [],
   "source": [
    "import pandas as pd\n",
    "import numpy as np\n",
    "import datetime, random\n",
    "\n",
    "from multiprocessing import Pool\n",
    "import time\n",
    "import os"
   ]
  },
  {
   "cell_type": "markdown",
   "metadata": {},
   "source": [
    "## Reading in files; managing columns"
   ]
  },
  {
   "cell_type": "code",
   "execution_count": 189,
   "metadata": {
    "code_folding": [
     9
    ],
    "scrolled": true
   },
   "outputs": [
    {
     "name": "stdout",
     "output_type": "stream",
     "text": [
      "(127254, 10)\n",
      "Wall time: 24.8 s\n"
     ]
    }
   ],
   "source": [
    "%%time\n",
    "df = pd.read_csv(r'H:\\Data\\Standardized AKI definition\\dataset\\output.csv')\n",
    "df['time'] = pd.to_datetime(df.time)\n",
    "df = df.drop(['Unnamed: 0'], axis=1)\n",
    "\n",
    "yu = pd.read_csv(r'H:\\Data\\Standardized AKI definition\\dataset\\aki flagger covid creatinines with covidtest.csv')\n",
    "yu['pat_mrn_id'] = yu.pat_mrn_id.str.strip('MR').astype('int') #indexing with integers is quicker\n",
    "yu['time'] = pd.to_datetime(yu.time)\n",
    "yu['covidtest'] = yu.covidtest.astype('bool')\n",
    "yu.columns = ['mrn', #Renaming columns for ease\n",
    "              'pat_enc_id',\n",
    "              'time',\n",
    "              'creat',\n",
    "              'enc',\n",
    "              'running_aki_stage',\n",
    "              'historical_aki_stage',\n",
    "              'covid'] \n",
    "\n",
    "yu['running_aki'] = yu.running_aki_stage > 0 \n",
    "yu['historical_aki'] = yu.historical_aki_stage > 0\n",
    "\n",
    "yu = yu.groupby('enc').apply(lambda d: d[~d.time.duplicated()])\n",
    "yu = yu.reset_index(drop=True)\n",
    "\n",
    "print(yu.shape)"
   ]
  },
  {
   "cell_type": "code",
   "execution_count": 190,
   "metadata": {
    "scrolled": false
   },
   "outputs": [
    {
     "name": "stdout",
     "output_type": "stream",
     "text": [
      "True\n",
      "True\n",
      "True\n",
      "Subset shape: (127254, 17) Yu's df shape: (127254, 10)\n",
      "Wall time: 34 s\n"
     ]
    }
   ],
   "source": [
    "%%time\n",
    "df_subset = df.set_index(['mrn', 'enc', 'time']).loc[yu.set_index(['mrn','enc','time']).index]\n",
    "df_subset = df_subset.reset_index().groupby('enc').apply(lambda d: d[~d.time.duplicated()])\n",
    "df_subset = df_subset.reset_index(drop=True)\n",
    "print(np.all(df_subset.time == yu.time))\n",
    "print(np.all(df_subset.enc == yu.enc))\n",
    "print(np.all(df_subset.mrn == yu.mrn))\n",
    "print('Subset shape:',df_subset.shape, 'Yu\\'s df shape:',yu.shape)\n",
    "df_subset.loc[df_subset.rollingwindow_aki.isnull(), 'rollingwindow_aki'] = 0\n",
    "df_subset.loc[df_subset.backcalc_aki.isnull(), 'backcalc_aki'] = 0"
   ]
  },
  {
   "cell_type": "markdown",
   "metadata": {},
   "source": [
    "### Check mismatch \n",
    "\n",
    "###### Back-calc match: 127105 / 127254; 99.92%\n",
    "\n",
    "###### Rolling-window match: 127215 / 127254; 99.97%"
   ]
  },
  {
   "cell_type": "code",
   "execution_count": 191,
   "metadata": {
    "scrolled": false
   },
   "outputs": [
    {
     "name": "stdout",
     "output_type": "stream",
     "text": [
      "Back-calc match: 127175 / 127254 ; 0.9993791943671712\n",
      "Rolling-window match: 127215 / 127254 ; 0.9996935263331604\n"
     ]
    }
   ],
   "source": [
    "print('Back-calc match:', (df_subset.backcalc_aki == yu.historical_aki).sum(), '/', df_subset.shape[0],\n",
    "      ';',(df_subset.backcalc_aki == yu.historical_aki).sum() / df_subset.shape[0])\n",
    "print('Rolling-window match:', (df_subset.rollingwindow_aki == yu.running_aki).sum(), '/', yu.shape[0],\n",
    "      ';', (df_subset.rollingwindow_aki == yu.running_aki).sum() / yu.shape[0])"
   ]
  },
  {
   "cell_type": "markdown",
   "metadata": {},
   "source": [
    "### Back-calc mismatch\n",
    "\n",
    "1248799, 4488514"
   ]
  },
  {
   "cell_type": "code",
   "execution_count": 216,
   "metadata": {
    "scrolled": true
   },
   "outputs": [
    {
     "name": "stdout",
     "output_type": "stream",
     "text": [
      "(79, 10)\n",
      "0\n"
     ]
    }
   ],
   "source": [
    "yu_mismatch = yu.iloc[np.where(df_subset.backcalc_aki != yu.historical_aki)[0]] #we don't match on 75 patients\n",
    "print(yu_mismatch.shape)\n",
    "print(yu_mismatch.historical_aki.sum()) # He says they're all false"
   ]
  },
  {
   "cell_type": "code",
   "execution_count": 215,
   "metadata": {},
   "outputs": [
    {
     "name": "stdout",
     "output_type": "stream",
     "text": [
      "(79, 17)\n",
      "79\n"
     ]
    }
   ],
   "source": [
    "df_mismatch = df_subset.iloc[np.where(df_subset.backcalc_aki != yu.historical_aki)[0]]\n",
    "print(df_mismatch.shape)\n",
    "print(df_mismatch.backcalc_aki.sum()) # I say they're all true"
   ]
  },
  {
   "cell_type": "markdown",
   "metadata": {},
   "source": [
    "### Rolling-window mismatch\n",
    "\n",
    "We mismatch on mrn: 6496928, 6500618, 5446541, ..."
   ]
  },
  {
   "cell_type": "code",
   "execution_count": 213,
   "metadata": {},
   "outputs": [
    {
     "name": "stdout",
     "output_type": "stream",
     "text": [
      "(39, 10)\n",
      "0\n"
     ]
    }
   ],
   "source": [
    "yu_mismatch = yu.iloc[np.where(df_subset.rollingwindow_aki != yu.running_aki)[0]]\n",
    "print(yu_mismatch.shape)\n",
    "print(yu_mismatch.running_aki.sum()) #Again, he says all false"
   ]
  },
  {
   "cell_type": "code",
   "execution_count": 214,
   "metadata": {},
   "outputs": [
    {
     "name": "stdout",
     "output_type": "stream",
     "text": [
      "(39, 17)\n",
      "39\n"
     ]
    }
   ],
   "source": [
    "df_mismatch = df_subset.iloc[np.where(df_subset.rollingwindow_aki != yu.running_aki)[0]]\n",
    "print(df_mismatch.shape)\n",
    "print(df_mismatch.rollingwindow_aki.sum())  #Again, I say all True"
   ]
  },
  {
   "cell_type": "markdown",
   "metadata": {},
   "source": []
  },
  {
   "cell_type": "markdown",
   "metadata": {},
   "source": []
  },
  {
   "cell_type": "markdown",
   "metadata": {},
   "source": []
  },
  {
   "cell_type": "markdown",
   "metadata": {},
   "source": [
    "## Reading in other dataframes, trying to make heads and tails of what data is included and what isn't"
   ]
  },
  {
   "cell_type": "code",
   "execution_count": 124,
   "metadata": {},
   "outputs": [
    {
     "name": "stdout",
     "output_type": "stream",
     "text": [
      "(1089, 3)\n",
      "(127272, 8)\n",
      "(127272, 6)\n",
      "(25265, 5)\n",
      "(299718, 12) (215121, 17)\n"
     ]
    }
   ],
   "source": [
    "yu_covid_mrn = pd.read_csv(os.path.join(baseFolder, 'aki flagger covid creatinines with covidtest mrn.csv'))\n",
    "print(yu_covid_mrn.shape)\n",
    "\n",
    "yu_covid = pd.read_csv(os.path.join(baseFolder, 'aki flagger covid creatinines with covidtest.csv'))\n",
    "print(yu_covid.shape)\n",
    "\n",
    "yu = pd.read_csv(os.path.join(baseFolder, 'aki flagger covid creatinines.csv')) #these were all tested for covid\n",
    "print(yu.shape)\n",
    "\n",
    "covid_test_result = pd.read_csv(os.path.join(baseFolder, 'covid test result.csv'))\n",
    "covid_test_result['mrn'] = covid_test_result.pat_mrn_id.str.strip('MR').astype('int')\n",
    "covid_test_result['covidtest'] = covid_test_result.covidtest.astype('bool')\n",
    "print(covid_test_result.shape)\n",
    "\n",
    "covid_creats = pd.read_csv(os.path.join(baseFolder, 'covid creatinines.csv'))\n",
    "\n",
    "covid_creats['mrn'] = covid_creats.pat_mrn_id.str.strip('MR').astype('int')\n",
    "print(covid_creats.shape, df.shape)"
   ]
  },
  {
   "cell_type": "code",
   "execution_count": 233,
   "metadata": {
    "scrolled": true
   },
   "outputs": [
    {
     "name": "stdout",
     "output_type": "stream",
     "text": [
      "Wall time: 1min 25s\n"
     ]
    }
   ],
   "source": [
    "%%time\n",
    "indices = [df.mrn[indx] in covid_test_result.mrn.values for indx in range(df.shape[0])]\n",
    "yu_indices = [yu.mrn[indx] in covid_test_result.mrn.values for indx in range(yu.shape[0])]\n",
    "cc_indices = [covid_creats.mrn[indx] in yu.mrn.values for indx in range(covid_creats.shape[0])]\n",
    "df_indices = [df.mrn[indx] in yu.mrn.values for indx in range(df.shape[0])]\n",
    "df_enc_indices = [df.enc[indx] in yu.enc.values for indx in range(df.shape[0])]\n",
    "covid_mrn_indices = [df.mrn[indx] in covid_result.mrn.values for indx in range(df.shape[0])]\n",
    "covid_enc_indices = [df.enc[indx] in covidpos.enc.values for indx in range(df.shape[0])]"
   ]
  },
  {
   "cell_type": "code",
   "execution_count": 4,
   "metadata": {
    "scrolled": true
   },
   "outputs": [
    {
     "name": "stdout",
     "output_type": "stream",
     "text": [
      "covid_result shape: (25265, 4) df shape: (295435, 17) yu shape: (127254, 10)\n",
      "yu encs: 15730 yu mrns: 13821\n",
      "covid+ tests: 4688\n",
      "covid encs: 17441 covid mrns: 15454\n",
      "Wall time: 120 ms\n"
     ]
    }
   ],
   "source": [
    "%%time\n",
    "baseFolder = r'H:\\Data\\Standardized AKI definition\\dataset'\n",
    "covid_result = pd.read_csv(os.path.join(baseFolder, 'covid test result.csv'))\n",
    "covid_result['mrn'] = covid_result.pat_mrn_id.str.strip('MR').astype('int')\n",
    "covid_result['enc'] = covid_result.enc_id\n",
    "covid_result['covidtest'] = covid_result.covidtest.astype('bool')\n",
    "covid_result['time'] = pd.to_datetime(covid_result.time)\n",
    "covid_result = covid_result.drop(['pat_enc_csn_id','pat_mrn_id', 'enc_id'], axis=1)\n",
    "\n",
    "print('covid_result shape:',covid_result.shape, 'df shape:',df.shape,'yu shape:',yu.shape)\n",
    "print('yu encs:', yu.enc.unique().shape[0], 'yu mrns:', yu.mrn.unique().shape[0])\n",
    "print('covid+ tests:', covid_result.covidtest.sum())\n",
    "print('covid encs:',covid_result.enc.unique().shape[0], 'covid mrns:',covid_result.mrn.unique().shape[0])"
   ]
  }
 ],
 "metadata": {
  "kernelspec": {
   "display_name": "Python 3",
   "language": "python",
   "name": "python3"
  },
  "language_info": {
   "codemirror_mode": {
    "name": "ipython",
    "version": 3
   },
   "file_extension": ".py",
   "mimetype": "text/x-python",
   "name": "python",
   "nbconvert_exporter": "python",
   "pygments_lexer": "ipython3",
   "version": "3.6.10"
  }
 },
 "nbformat": 4,
 "nbformat_minor": 4
}
