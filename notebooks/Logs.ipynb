{
 "cells": [
  {
   "cell_type": "markdown",
   "metadata": {},
   "source": [
    "## Release Date: March 14, 2022\n",
    "---"
   ]
  },
  {
   "cell_type": "markdown",
   "metadata": {},
   "source": [
    "# 🎉 🎉 🎉\n",
    "---\n",
    "The AKI Flagger is officially [live](https://github.com/isaranwrap/StandardizingAKI) now! The fully open-sourced computational tool is available to the public and anyone within the medical scientific and research community is free to use the software for their scientific endeavors. This tool is of most use to the internal medicine and specifically nephrology community; those who deal with patients in a hospitalized setting and especially in ICU units and post-surgical operations.\n",
    "# 🎉 🎉 🎉\n",
    "---"
   ]
  },
  {
   "cell_type": "code",
   "execution_count": null,
   "metadata": {},
   "outputs": [],
   "source": []
  }
 ],
 "metadata": {
  "kernelspec": {
   "display_name": "Python 3",
   "language": "python",
   "name": "python3"
  },
  "language_info": {
   "codemirror_mode": {
    "name": "ipython",
    "version": 3
   },
   "file_extension": ".py",
   "mimetype": "text/x-python",
   "name": "python",
   "nbconvert_exporter": "python",
   "pygments_lexer": "ipython3",
   "version": "3.7.6"
  }
 },
 "nbformat": 4,
 "nbformat_minor": 4
}
