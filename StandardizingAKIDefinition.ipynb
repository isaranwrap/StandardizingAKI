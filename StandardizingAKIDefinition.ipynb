{
 "cells": [
  {
   "cell_type": "markdown",
   "metadata": {},
   "source": [
    "## Imports"
   ]
  },
  {
   "cell_type": "code",
   "execution_count": 1,
   "metadata": {},
   "outputs": [],
   "source": [
    "import pandas as pd\n",
    "import numpy as np\n",
    "import datetime, random\n",
    "\n",
    "from multiprocessing import Pool\n",
    "import time"
   ]
  },
  {
   "cell_type": "markdown",
   "metadata": {},
   "source": [
    "## Two criterion for rolling-window definition of AKI\n",
    "____\n",
    "\n",
    "Based on the measured creatinine time series\n",
    "\n",
    "* *$creat \\uparrow$ 0.3 in < 48 hrs* \n",
    "* *$creat \\uparrow$ of 50% in < 7 days*\n",
    "\n",
    "## Back-calculated definition of AKI\n",
    "_____\n",
    "\n",
    "First, calculate the baseline creatinine which is the *median* of outpatient creatinine values from 365 - 7 days prior to admission. Based on the imputed baseline creatinine value, apply the second KDIGO guideline:\n",
    "\n",
    "* *$creat \\uparrow$ of 50% in < 7 days*\n",
    "\n",
    "## eGFR-imputation of baseline creatinine \n",
    "_______\n",
    "\n",
    "If there are no outpatient creatinine measurements in the 365 - 7 day time period prior to admission, impute a baseline creatinine value based on age, sex, and race. Using an eGFR of 75, impute the baseline creatinine value. "
   ]
  },
  {
   "cell_type": "markdown",
   "metadata": {},
   "source": [
    "## Functions"
   ]
  },
  {
   "cell_type": "code",
   "execution_count": 2,
   "metadata": {
    "code_folding": [
     63,
     84,
     103,
     134,
     145
    ]
   },
   "outputs": [],
   "source": [
    "def returnAKIpatients(df, \n",
    "                      aki_calc_type = 'both', keep_extra_cols = True, \n",
    "                      cond1time = '48hours', cond2time = '168hours', eGFR_impute = False, add_stages=True):\n",
    "    '''\n",
    "    Example function with types documented in the docstring.\n",
    "\n",
    "    `PEP 484`_ type annotations are supported. If attribute, parameter, and\n",
    "    return types are annotated according to `PEP 484`_, they do not need to be\n",
    "    included in the docstring:\n",
    "\n",
    "    Parameters\n",
    "    ----------\n",
    "    param1 : int\n",
    "        The first parameter.\n",
    "    param2 : str\n",
    "        The second parameter.\n",
    "\n",
    "    Returns\n",
    "    -------\n",
    "    df\n",
    "        dataframe with AKI patients added in \n",
    "\n",
    "    .. _PEP 484:\n",
    "        https://www.python.org/dev/peps/pep-0484/\n",
    "\n",
    "\n",
    "    '''\n",
    "    \n",
    "    #First, check if column names (mrn, enc, creatinine, admission & time) are as we want it\n",
    "    assert ('mrn' or 'MRN' or 'pat_mrn_id' or 'PAT_MRN_ID') in df.columns\n",
    "    #assert ('enc' or 'ENC' or 'pat_enc_csn_id' or 'PAT_ENC_CSN_ID') in df.columns\n",
    "    \n",
    "    if aki_calc_type == 'both': \n",
    "        df = df.groupby('mrn', sort=False).apply(lambda d: addRollingWindowAKI(d,#enc vs mrn\n",
    "                                                                              cond1time = cond1time,\n",
    "                                                                              cond2time = cond2time))\n",
    "        df = df.reset_index('mrn', drop=True).reset_index()\n",
    "        \n",
    "        df = df.groupby('mrn', sort=False).apply(lambda d: addBaselineCreat(d, \n",
    "                                                                            eGFR_impute=eGFR_impute))\n",
    "        \n",
    "        df = df.groupby('enc', sort=False).apply(lambda d: addBackCalcAKI(d,\n",
    "                                                                         cond2time = cond2time))\n",
    "        \n",
    "        df = df.reset_index('enc', drop=True).reset_index()\n",
    "        \n",
    "    elif aki_calc_type == 'rolling_window':\n",
    "        df = df.groupby('mrn', sort=False).apply(lambda d: addRollingWindowAKI(d,\n",
    "                                                                              cond1time = cond1time,\n",
    "                                                                              cond2time = cond2time))\n",
    "        \n",
    "    elif aki_calc_type == 'back_calculate':\n",
    "        df = df.groupby('mrn', sort=False).apply(lambda d: addBaselineCreat(d,\n",
    "                                                                           eGFR_impute = eGFR_impute))\n",
    "        df = df.groupby('enc', sort=False).apply(lambda d: addBackCalcAKI(d,\n",
    "                                                                        cond2time = cond2time)) \n",
    "    \n",
    "    if not keep_extra_cols:\n",
    "        df = df.drop(['mincreat_48hr', 'mincreat_7day',\n",
    "                      'deltacreat_48hr', 'deltacreat_7day',\n",
    "                      'baseline_creat'], axis=1)\n",
    "    return df\n",
    "\n",
    "def addBaselineCreat(df, eGFR_impute = False):\n",
    "    '''\n",
    "    Adds the baseline creatinine to a dataframe. The baseline creatinine is defined as the median of the outpatient \n",
    "     creatinine values from 365 to 7 days prior to admission.\n",
    "    \n",
    "    Input: dataframe (typically of a single patient)\n",
    "    Output: dataframe with baseline creatinine column added in\n",
    "    '''\n",
    "    split_dfs = list()\n",
    "    for adm in df.admission.unique():\n",
    "        adm_df = df.loc[df.admission == adm]\n",
    "        adm_df['baseline_creat'] = adm_df[~adm_df.inpatient].set_index('time').loc[adm - pd.Timedelta(days=365):adm - pd.Timedelta(days=7)].creat.median()\n",
    "        split_dfs.append(adm_df)\n",
    "    \n",
    "    df = pd.concat(split_dfs)\n",
    "    \n",
    "    if eGFR_impute:\n",
    "            df.loc[df.baseline_creat.isnull(), 'baseline_creat'] = df[df.baseline_creat.isnull()].apply(lambda d: eGFRbasedCreatImputation(d.age, d.sex, d.race), axis=1)\n",
    "            \n",
    "    return df\n",
    "\n",
    "def addBackCalcAKI(df, \n",
    "                   cond2time = '168hours'):\n",
    "    '''\n",
    "    Adds the back-calculated AKI conditions, the KDIGO standards on the outpatient values;\n",
    "    i.e. a 50% increase from baseline creatinine in <7 days\n",
    "    \n",
    "    Input: dataframe (typically of a single encounter)\n",
    "    Output: dataframe with back-calculated aki values added in\n",
    "    '''\n",
    "    #backcalc_aki = np.empty(df.shape[0])\n",
    "    #backcalc_aki[:] = np.nan\n",
    "    \n",
    "    df = df.reset_index(drop=True).set_index('time')\n",
    "    df = df[~df.index.duplicated()]\n",
    "    df_lf = df.loc[(df.admission - datetime.timedelta(hours=6)).values[0]:(df.admission + pd.Timedelta(cond2time)).values[0]]\n",
    "    df.loc[df_lf.index, 'backcalc_aki'] = df_lf.creat >= np.round(1.5*df_lf.baseline_creat, decimals=5)\n",
    "    \n",
    "    return df \n",
    "\n",
    "def addRollingWindowAKI(df, add_stages = True,\n",
    "                        cond1time = '48hours', cond2time = '168hours'):\n",
    "    '''\n",
    "    Adds the AKI conditions based on rolling window definition: 0.3 creat increase in < 48 hrs OR 50% increase in < 7 days\n",
    "    \n",
    "    Input: dataframe (typically of a single encounter)\n",
    "    Output: dataframe with rolling-window aki values added in\n",
    "    '''\n",
    "    #df = df[~df.duplicated()]\n",
    "    df = df.set_index('time').sort_index()\n",
    "    #df = df[~df.duplicated()]\n",
    "    df_rw = df.loc[df.admission[0] - pd.Timedelta(hours=172):]\n",
    "    minc_48, minc_7d = np.empty(df.shape[0]), np.empty(df.shape[0])\n",
    "    minc_48[:], minc_7d[:] = np.nan, np.nan\n",
    "    minc_48[df.shape[0]-df_rw.shape[0]:] = df_rw.creat.rolling(pd.Timedelta(cond1time), min_periods=1).min().values\n",
    "    minc_7d[df.shape[0]-df_rw.shape[0]:] = df_rw.creat.rolling(pd.Timedelta(cond2time), min_periods=1).min().values\n",
    "    \n",
    "    df['mincreat_48hr'] = minc_48\n",
    "    df['mincreat_7day'] = minc_7d\n",
    "    \n",
    "    df['deltacreat_48hr'] = np.round(df.creat - df.mincreat_48hr, decimals = 5)\n",
    "    df['deltacreat_7day'] = np.round(df.creat - df.mincreat_7day, decimals = 5)\n",
    "\n",
    "    df['rollingwindow_aki'] = (df.deltacreat_48hr >= 0.3) | (df.deltacreat_7day >= 0.5*df.mincreat_7day)\n",
    "    \n",
    "    if add_stages:\n",
    "        df['stage1'] = (df.deltacreat_48hr >= 0.3) | (df.deltacreat_7day >= 0.5*df.mincreat_7day)\n",
    "        df['stage2'] = df.deltacreat_48hr >= 2*df.deltacreat_48hr\n",
    "        df['stage3'] = df.deltacreat_48hr >= 3*df.deltacreat_48hr\n",
    "    return df\n",
    "\n",
    "def eGFRbasedCreatImputation(age, sex, race):\n",
    "    kappa  = (0.9 - 0.2*sex)\n",
    "    alpha  = (-0.411+0.082*sex)\n",
    "    creat_over_kappa = 75/(141*(1 + 0.018*sex)*(1 + 0.159*race)*0.993**age)\n",
    "    \n",
    "    if creat_over_kappa < 1:\n",
    "        creat = kappa*creat_over_kappa**(-1/1.209)\n",
    "    elif creat_over_kappa >= 1:\n",
    "        creat = kappa*creat_over_kappa**(1/alpha)\n",
    "    return creat\n",
    "\n",
    "def eGFR(creat, age, female, black):\n",
    "    '''\n",
    "    Calculates the estimated glomerular filtration rate based on the serum creatinine levels, age, sex, and race (black or not black);\n",
    "    Based on the formula in the paper A New Equation to Estimate Glomerular Filtration Rate (Levey et. Al, 2009) linked below\n",
    "    \n",
    "    Equation: https://www.niddk.nih.gov/health-information/professionals/clinical-tools-patient-management/kidney-disease/laboratory-evaluation/glomerular-filtration-rate/estimating\n",
    "    Full paper: https://pubmed.ncbi.nlm.nih.gov/19414839/\n",
    "    \n",
    "    \n",
    "    '''\n",
    "    min_ck = np.clip(creat/(0.9-0.2*female), a_min=None, a_max=1) #Equivalent to min(cr/k, 1)\n",
    "    max_ck = np.clip(creat/(0.9-0.2*female), a_min=1, a_max=None) #Equivalent to max(cr/k, 1)\n",
    "    \n",
    "    alpha = (-0.411+0.082*female)\n",
    "    \n",
    "    egfr = 141*(0.993**age)*(min_ck**alpha)*(max_ck**-1.209)*(1+female*0.018)*(1+black*0.159)\n",
    "    \n",
    "    return np.round(egfr, decimals=5) #Helper function to ensure eGFRBasedImputation() works as expected"
   ]
  },
  {
   "cell_type": "markdown",
   "metadata": {},
   "source": [
    "## Reading in file; cleaning data frame for returnAKIpatients() input"
   ]
  },
  {
   "cell_type": "code",
   "execution_count": 3,
   "metadata": {
    "scrolled": true
   },
   "outputs": [
    {
     "name": "stdout",
     "output_type": "stream",
     "text": [
      "Shape: (454300, 16)\n",
      "pat_mrn_id                 object\n",
      "PAT_ENC_CSN_ID              int64\n",
      "time               datetime64[ns]\n",
      "creatinine                float64\n",
      "hosp_admsn_time            object\n",
      "hosp_disch_time            object\n",
      "enc_id                      int64\n",
      "admission          datetime64[ns]\n",
      "discharge          datetime64[ns]\n",
      "age                       float64\n",
      "sex                          bool\n",
      "race                         bool\n",
      "inpatient                    bool\n",
      "mrn                         int32\n",
      "enc                         int64\n",
      "creat                     float64\n",
      "dtype: object\n"
     ]
    }
   ],
   "source": [
    "covid_df = pd.read_csv(r'H:\\Data\\Standardized AKI definition\\dataset\\covid creatinines.csv')\n",
    "covid_df['mrn'] = covid_df.pat_mrn_id.str.strip('MR').astype('int')\n",
    "covid_df['enc'] = covid_df.enc_id\n",
    "covid_df['time'] = pd.to_datetime(covid_df.time)\n",
    "covid_df['sex'] = covid_df.sex.astype('bool')\n",
    "covid_df['race'] = covid_df.race.astype('bool')\n",
    "covid_df['inpatient'] = covid_df.inpatient.astype('bool')\n",
    "covid_df['creat'] = covid_df['creatinine']\n",
    "covid_df['admission'] = pd.to_datetime(covid_df.admission)\n",
    "covid_df['discharge'] = pd.to_datetime(covid_df.discharge)\n",
    "print('Shape:', covid_df.shape)\n",
    "print(covid_df.dtypes)"
   ]
  },
  {
   "cell_type": "code",
   "execution_count": 4,
   "metadata": {
    "scrolled": true
   },
   "outputs": [
    {
     "name": "stdout",
     "output_type": "stream",
     "text": [
      "Wall time: 29.1 s\n"
     ]
    }
   ],
   "source": [
    "%%time\n",
    "df = covid_df[['mrn', 'enc', 'time', 'creat', 'age', 'sex', 'race', 'inpatient', 'admission', 'discharge']]\n",
    "df = df[~df.duplicated()] #The rows where the pat_enc_csn_id was lumped into enc_id become duplicates\n",
    "df = df.groupby('enc', sort=False).apply(lambda d: d.sort_values('time'))\n",
    "df = df.reset_index(drop=True)"
   ]
  },
  {
   "cell_type": "markdown",
   "metadata": {},
   "source": [
    "## Adding Rolling-window & Back-calculated AKI values"
   ]
  },
  {
   "cell_type": "code",
   "execution_count": 6,
   "metadata": {
    "scrolled": true
   },
   "outputs": [
    {
     "name": "stdout",
     "output_type": "stream",
     "text": [
      "Wall time: 6min 1s\n"
     ]
    }
   ],
   "source": [
    "%%time\n",
    "out_rw = returnAKIpatients(df, aki_calc_type = 'rolling_window')"
   ]
  },
  {
   "cell_type": "code",
   "execution_count": 6,
   "metadata": {},
   "outputs": [
    {
     "name": "stdout",
     "output_type": "stream",
     "text": [
      "Wall time: 3min 59s\n"
     ]
    }
   ],
   "source": [
    "%%time\n",
    "out_bc = returnAKIpatients(df, aki_calc_type = 'back_calculate')"
   ]
  },
  {
   "cell_type": "code",
   "execution_count": 455,
   "metadata": {},
   "outputs": [
    {
     "name": "stdout",
     "output_type": "stream",
     "text": [
      "Wall time: 11min 10s\n"
     ]
    }
   ],
   "source": [
    "%%time\n",
    "out2 = returnAKIpatients(df, cond1time='52hours', cond2time='172hours', eGFR_impute=True)"
   ]
  },
  {
   "cell_type": "code",
   "execution_count": 461,
   "metadata": {},
   "outputs": [],
   "source": [
    "out2.to_csv(r'H:\\Data\\Standardized AKI definition\\dataset\\output2.csv')"
   ]
  },
  {
   "cell_type": "code",
   "execution_count": 462,
   "metadata": {},
   "outputs": [
    {
     "name": "stdout",
     "output_type": "stream",
     "text": [
      "Wall time: 10min 3s\n"
     ]
    }
   ],
   "source": [
    "%%time\n",
    "out = returnAKIpatients(df, cond1time='52hours', cond2time='172hours')"
   ]
  },
  {
   "cell_type": "markdown",
   "metadata": {},
   "source": [
    "## Mismatch cases"
   ]
  },
  {
   "cell_type": "code",
   "execution_count": 10,
   "metadata": {},
   "outputs": [],
   "source": [
    "tmp = out.loc[out.enc == 205472336]\n",
    "backcalc_aki = np.empty(tmp.shape[0])\n",
    "backcalc_aki[:] = np.nan\n",
    "tmp = tmp.sort_values('time')\n",
    "tmp2 = tmp.set_index('time').sort_index().loc[tmp.admission.values[0]:(tmp.admission + datetime.timedelta(days=7)).values[0]]\n",
    "backcalc_aki[:tmp2.shape[0]] = tmp2.creat > 1.5*tmp2.baseline_creat\n",
    "tmp['backcalc_aki'] = backcalc_aki"
   ]
  },
  {
   "cell_type": "code",
   "execution_count": 90,
   "metadata": {},
   "outputs": [],
   "source": [
    "tmp = df[df.mrn == 2307280]\n",
    "tmp = tmp.groupby('enc', sort=False).apply(lambda d: addRollingWindowAKI(d, cond1time='52hours', cond2time='172hours'))\n",
    "tmp = tmp.reset_index('enc', drop=True).reset_index()\n",
    "\n",
    "tmp = tmp.groupby('mrn', sort=False).apply(lambda d: addBaselineCreat(d))\n",
    "tmp = tmp.groupby('enc', sort=False).apply(lambda d: addBackCalcAKI(d))\n",
    "tmp        \n",
    "tmp = tmp.reset_index(drop=True)"
   ]
  },
  {
   "cell_type": "code",
   "execution_count": 12,
   "metadata": {},
   "outputs": [],
   "source": [
    "tmp = df[375:475]\n",
    "tmp = tmp.groupby('enc', sort=False).apply(lambda d: addRollingWindowAKI(d,\n",
    "                                                                         cond1time = '52hours',\n",
    "                                                                         cond2time = '172hours'))\n",
    "tmp = tmp.reset_index('enc', drop=True).reset_index()\n",
    "\n",
    "tmp = tmp.groupby('mrn', sort=False).apply(lambda d: addBaselineCreat(d))\n",
    "tmp = tmp.groupby('enc', sort=False).apply(lambda d: addBackCalcAKI(d))"
   ]
  },
  {
   "cell_type": "code",
   "execution_count": 92,
   "metadata": {},
   "outputs": [],
   "source": [
    "t = df.loc[df.mrn == 3660621]\n",
    "t = t.set_index('time')\n",
    "t2 = t.loc[t.admission[0] - pd.Timedelta(hours=172):]\n",
    "#t2.creat.rolling(pd.Timedelta('52hours'), min_periods=1).min().values.shape\n",
    "minc_48 = np.empty(t.shape[0])\n",
    "minc_48[:] = np.nan\n",
    "minc_48[t.shape[0]-t2.shape[0]:] = t2.creat.rolling(pd.Timedelta('52hours'), min_periods=1).min().values\n",
    "t['st'] = minc_48\n",
    "t = addRollingWindowAKI(t)\n",
    "#t['2020-01-29 08:14:00':]"
   ]
  },
  {
   "cell_type": "markdown",
   "metadata": {},
   "source": [
    "## eGFR-based imputation of creatinine based on CKD-EPI equation - along with using eGFR() function and Yu's to validate results"
   ]
  },
  {
   "cell_type": "code",
   "execution_count": 401,
   "metadata": {},
   "outputs": [],
   "source": [
    "def eGFR_impute(age, sex, race):\n",
    "    kappa  = (0.9 - 0.2*sex)\n",
    "    alpha  = (-0.411+0.082*sex)\n",
    "    creat_over_kappa = 75/(141*(1 + 0.018*sex)*(1 + 0.159*race)*0.993**age)\n",
    "    \n",
    "    if creat_over_kappa < 1:\n",
    "        creat = kappa*creat_over_kappa**(-1/1.209)\n",
    "    elif creat_over_kappa >= 1:\n",
    "        creat = kappa*creat_over_kappa**(1/alpha)\n",
    "    return creat\n",
    "\n",
    "def eGFR(creat, age, female, black):\n",
    "    '''\n",
    "    Calculates the estimated glomerular filtration rate based on the serum creatinine levels, age, sex, and race (black or not black);\n",
    "    Based on the formula in the paper A New Equation to Estimate Glomerular Filtration Rate (Levey et. Al, 2009) linked below\n",
    "    \n",
    "    Equation: https://www.niddk.nih.gov/health-information/professionals/clinical-tools-patient-management/kidney-disease/laboratory-evaluation/glomerular-filtration-rate/estimating\n",
    "    Full paper: https://pubmed.ncbi.nlm.nih.gov/19414839/\n",
    "    \n",
    "    \n",
    "    '''\n",
    "    min_ck = np.clip(creat/(0.9-0.2*female), a_min=None, a_max=1) #Equivalent to min(cr/k, 1)\n",
    "    max_ck = np.clip(creat/(0.9-0.2*female), a_min=1, a_max=None) #Equivalent to max(cr/k, 1)\n",
    "    \n",
    "    alpha = (-0.411+0.082*female)\n",
    "    \n",
    "    egfr = 141*(0.993**age)*(min_ck**alpha)*(max_ck**-1.209)*(1+female*0.018)*(1+black*0.159)\n",
    "    \n",
    "    return np.round(egfr, decimals=5)"
   ]
  },
  {
   "cell_type": "code",
   "execution_count": 478,
   "metadata": {
    "scrolled": true
   },
   "outputs": [
    {
     "name": "stdout",
     "output_type": "stream",
     "text": [
      "0 (53462, 8) 0.0\n",
      "Wall time: 7.51 s\n"
     ]
    }
   ],
   "source": [
    "%%time\n",
    "tmp = out[out.baseline_creat.isnull()]\n",
    "tmp = tmp[['mrn', 'enc', 'age', 'sex', 'race', 'baseline_creat']]\n",
    "tmp['imputed_creat'] = tmp.apply(lambda d: eGFRbasedCreatImputation(d.age, d.sex, d.race), axis=1)\n",
    "tmp['egfr'] = tmp.apply(lambda d: eGFR(d.imputed_creat, d.age, d.sex, d.race), axis=1)\n",
    "print((tmp.egfr != 75).sum(), tmp.shape, (tmp.egfr != 75).sum()/tmp.shape[0])\n",
    "#tmp.head(20)"
   ]
  },
  {
   "cell_type": "code",
   "execution_count": 479,
   "metadata": {
    "scrolled": true
   },
   "outputs": [],
   "source": [
    "yu = pd.read_csv(r'H:\\Data\\Standardized AKI definition\\dataset\\new aki flagger 1.csv')\n",
    "yu['mrn'] = yu.pat_mrn_id.str.strip('MR').astype('int')\n",
    "yu['enc'] = yu.enc_id\n",
    "yu = yu[['mrn', 'enc', 'imputed_baseline_creat', 'imputed_baseline']]\n",
    "#yu[yu.imputed_baseline.astype('bool')].head(20)"
   ]
  },
  {
   "cell_type": "code",
   "execution_count": 400,
   "metadata": {
    "scrolled": true
   },
   "outputs": [
    {
     "name": "stdout",
     "output_type": "stream",
     "text": [
      "female: False, black: False, kappa: 0.9, alpha: -0.411\n",
      "calculated creat_over_kappa: 1.020315716901371\n",
      "if c/k was > 1: 0.8851520517180937\n",
      "if c/k was < 1: 0.8570190948523533\n",
      "with creat > kappa: 74.01096\n",
      "with creat < kappa: 75.0\n",
      "with creat < kappa: 75.0\n"
     ]
    }
   ],
   "source": [
    "tmp = eGFR_impute_asr.iloc[7]\n",
    "\n",
    "kappa  = (0.9 - 0.2*tmp.sex)\n",
    "alpha  = (-0.411+0.082*tmp.sex)\n",
    "\n",
    "print('female: {}, black: {}, kappa: {}, alpha: {}'.format(tmp.sex, tmp.race, kappa, alpha))\n",
    "\n",
    "creat_over_kappa = 75/(141*(1 + 0.018*tmp.sex)*(1+0.159*tmp.race)*0.993**tmp.age)\n",
    "\n",
    "print('calculated creat_over_kappa: {}'.format(creat_over_kappa))\n",
    "\n",
    "if creat_over_kappa > 1:\n",
    "    creat = kappa*creat_over_kappa**(-1/1.209)\n",
    "    \n",
    "elif creat_over_kappa < 1:\n",
    "    creat = kappa*creat_over_kappa**alpha\n",
    "\n",
    "c_gt1 = kappa*creat_over_kappa**(-1/1.209)\n",
    "c_lt1 = kappa*creat_over_kappa**(1/alpha)\n",
    "\n",
    "print('if c/k was > 1: {}'.format(c_gt1))\n",
    "print('if c/k was < 1: {}'.format(c_lt1))\n",
    "\n",
    "print('with creat > kappa: {}'.format(eGFR(c_gt1, tmp.age, tmp.sex, tmp.race)))\n",
    "print('with creat < kappa: {}'.format(eGFR(c_lt1, tmp.age, tmp.sex, tmp.race)))\n"
   ]
  },
  {
   "cell_type": "code",
   "execution_count": 376,
   "metadata": {},
   "outputs": [
    {
     "name": "stdout",
     "output_type": "stream",
     "text": [
      "c/k: 0.6637105639363745 0.9825275751592961 0.6116867064253098\n",
      "min(c/k, 1): 0.9825275751592961\n",
      "max(c/k, 1): 1.0\n",
      "113.65828828125339\n"
     ]
    }
   ],
   "source": [
    "print('c/k:', creat_over_kappa, c_gt1, c_lt1)\n",
    "print('min(c/k, 1):', np.clip(c_gt1, a_min=None, a_max=1))\n",
    "print('max(c/k, 1):', np.clip(c_gt1, a_min=1, a_max=None))\n",
    "min_ck = np.clip(c_gt1, a_min=None, a_max=1)\n",
    "max_ck = np.clip(c_gt1, a_min=1, a_max=None)\n",
    "print(141*(min_ck**(-0.411+0.082*tmp.sex))*(max_ck**-1.209)*(0.993**tmp.age)*(1+tmp.sex*0.018)*(1+tmp.race*0.159))"
   ]
  },
  {
   "cell_type": "markdown",
   "metadata": {},
   "source": [
    "## Validating Stages"
   ]
  },
  {
   "cell_type": "code",
   "execution_count": 476,
   "metadata": {},
   "outputs": [
    {
     "name": "stdout",
     "output_type": "stream",
     "text": [
      "Wall time: 11min 29s\n"
     ]
    }
   ],
   "source": [
    "%%time\n",
    "out = returnAKIpatients(df, cond1time='52hours', cond2time='172hours')"
   ]
  },
  {
   "cell_type": "code",
   "execution_count": null,
   "metadata": {},
   "outputs": [],
   "source": [
    "print('shape: {}\\nstage1: {}\\nstage2: {}\\nstage3: {}\\n{}rollingwindow: {}'.format(out.shape, out.stage1.sum(), out.stage2.sum(), out.stage3.sum(), out.rollingwindow_aki.sum()))\n",
    "out.head()"
   ]
  },
  {
   "cell_type": "code",
   "execution_count": null,
   "metadata": {},
   "outputs": [],
   "source": []
  }
 ],
 "metadata": {
  "kernelspec": {
   "display_name": "Python 3",
   "language": "python",
   "name": "python3"
  },
  "language_info": {
   "codemirror_mode": {
    "name": "ipython",
    "version": 3
   },
   "file_extension": ".py",
   "mimetype": "text/x-python",
   "name": "python",
   "nbconvert_exporter": "python",
   "pygments_lexer": "ipython3",
   "version": "3.6.10"
  }
 },
 "nbformat": 4,
 "nbformat_minor": 4
}
