{
 "cells": [
  {
   "cell_type": "code",
   "execution_count": 1,
   "metadata": {},
   "outputs": [],
   "source": [
    "import pandas as pd\n",
    "import numpy as np\n",
    "import datetime, random\n",
    "\n",
    "from multiprocessing import Pool\n",
    "import time"
   ]
  },
  {
   "cell_type": "markdown",
   "metadata": {},
   "source": [
    "### Previous method: Function-based implementation"
   ]
  },
  {
   "cell_type": "code",
   "execution_count": 2,
   "metadata": {
    "code_folding": []
   },
   "outputs": [
    {
     "name": "stdout",
     "output_type": "stream",
     "text": [
      "Shape: (450399, 16)\n",
      "pat_mrn_id                 object\n",
      "PAT_ENC_CSN_ID              int64\n",
      "time               datetime64[ns]\n",
      "creatinine                float64\n",
      "hosp_admsn_time            object\n",
      "hosp_disch_time            object\n",
      "enc_id                      int64\n",
      "admission          datetime64[ns]\n",
      "discharge          datetime64[ns]\n",
      "age                       float64\n",
      "sex                          bool\n",
      "race                         bool\n",
      "inpatient                    bool\n",
      "mrn                         int32\n",
      "enc                         int64\n",
      "creat                     float64\n",
      "dtype: object\n",
      "Wall time: 9.42 s\n"
     ]
    }
   ],
   "source": [
    "%%time\n",
    "import akiFlagger\n",
    "covid_df = pd.read_csv(r'H:\\Data\\Standardized AKI definition\\dataset\\covid creatinines.csv')\n",
    "covid_df['mrn'] = covid_df.pat_mrn_id.str.strip('MR').astype('int')\n",
    "covid_df['enc'] = covid_df.enc_id\n",
    "covid_df['time'] = pd.to_datetime(covid_df.time)\n",
    "covid_df['sex'] = covid_df.sex.astype('bool')\n",
    "covid_df['race'] = covid_df.race.astype('bool')\n",
    "covid_df['inpatient'] = covid_df.inpatient.astype('bool')\n",
    "covid_df['creat'] = covid_df['creatinine']\n",
    "covid_df['admission'] = pd.to_datetime(covid_df.admission)\n",
    "covid_df['discharge'] = pd.to_datetime(covid_df.discharge)\n",
    "print('Shape:', covid_df.shape)\n",
    "print(covid_df.dtypes)\n",
    "\n",
    "df = covid_df[['mrn', 'enc', 'time', 'creat', 'age', 'sex', 'race', 'inpatient', 'admission', 'discharge']]\n",
    "df = df[:10000]\n",
    "df = df[~df.duplicated()] #The rows where the pat_enc_csn_id was lumped into enc_id become duplicates\n",
    "df = df.groupby('enc', sort=False).apply(lambda d: d.sort_values('time'))\n",
    "df = df.reset_index(drop=True)\n",
    "p = akiFlagger.returnAKIpatients(df, aki_calc_type = 'rolling_window')\n",
    "#p.head()"
   ]
  },
  {
   "cell_type": "markdown",
   "metadata": {},
   "source": [
    "## Class-based method for akiFlagger so that the required column names can be independent of my naming system"
   ]
  },
  {
   "cell_type": "code",
   "execution_count": 3,
   "metadata": {
    "code_folding": [
     0,
     4
    ]
   },
   "outputs": [],
   "source": [
    "class AKIFlagger:\n",
    "    '''Flagger to detect patients with acute kidney injury (AKI).\n",
    "    \n",
    "    '''\n",
    "    def __init__(self, patient_id = 'mrn', creatinine='creatinine', time = 'time', inpatient = 'inpatient', \n",
    "                 aki_calc_type=None, keep_extra_cols = False, eGFR_impute = False, add_stages = None,\n",
    "                 cond1time = '48hours', cond2time = '168hours', pad1time = '0hours', pad2time = '0hours', \n",
    "                 rolling_window = False, back_calculate = False,\n",
    "                 admission = 'admission', age = 'age', sex = 'sex', race = 'race', encounter_id = 'enc'):\n",
    "        \n",
    "        #Identifiers\n",
    "        self.patient_id = patient_id\n",
    "        self.encounter_id = encounter_id\n",
    "        \n",
    "        #Columns necessary for calculation (if admission not included it will be imputed)\n",
    "        self.creatinine = creatinine\n",
    "        self.time = time\n",
    "        self.inpatient = inpatient\n",
    "        self.admission = admission\n",
    "        \n",
    "        #Demographic variables\n",
    "        self.age = age\n",
    "        self.sex = sex\n",
    "        self.race = race\n",
    "        \n",
    "        #Rolling-window variables\n",
    "        self.cond1time = cond1time\n",
    "        self.cond2time = cond2time\n",
    "        self.pad1time = pad1time\n",
    "        self.pad2time = pad2time\n",
    "        \n",
    "        #Extra options to specify what is included in the output\n",
    "        self.eGFR_impute = eGFR_impute\n",
    "        self.add_stages = add_stages\n",
    "        self.keep_extra_cols = keep_extra_cols\n",
    "        \n",
    "        #Specifying the calculation type wanted in the flagger\n",
    "        self.aki_calc_type = aki_calc_type\n",
    "        self.rolling_window = rolling_window\n",
    "        self.back_calculate = back_calculate\n",
    "        \n",
    "        if self.aki_calc_type is not None:\n",
    "            if self.aki_calc_type == 'rolling_window':\n",
    "                self.rolling_window = True\n",
    "            elif self.aki_calc_type == 'back_calculate':\n",
    "                self.back_calculate = True\n",
    "            elif self.aki_calc_type == 'both':\n",
    "                self.rolling_window = True\n",
    "                self.back_calculate = True\n",
    "            \n",
    "    def returnAKIpatients(self, df, add_stages = None, \n",
    "                          cond1time = None, cond2time = None, pad1time = None, pad2time = None):\n",
    "        '''\n",
    "        Returns patients with AKI according to the KDIGO guidelines. The KDIGO guidelines are as follows:\n",
    "\n",
    "        * *Stage 1:* 0.3 increase in serum creatinine in < 48 hours OR 50% increase in serum creatinine in < 7 days (168 hours)\n",
    "        * *Stage 2:* 100% increase in (or doubling of) serum creatinine in < 7 days (168 hours)\n",
    "        * *Stage 3:* 200% increase in (our tripling of) serum creatinine in < 7 days (168 hours)\n",
    "\n",
    "        More information can be found in the documentation at akiflagger.readthedocs.io\n",
    "        Args: \n",
    "            df (pd.DataFrame): Patient dataframe, should include some sort of patient and encounter identifier(s) and age, sex, race, serum creatinine and timestamps.\n",
    "        Returns:\n",
    "            df (pd.DataFrame): Patient dataframe with AKI patients identified. \n",
    "\n",
    "        Raises:\n",
    "            AssertionError: If the dataframe is missing an expected column; e.g. if there is no age/sex/race and eGFR_impute is True.\n",
    "\n",
    "        '''\n",
    "        if add_stages is None:\n",
    "            add_stages = self.add_stages\n",
    "        self.add_stages = add_stages\n",
    "        \n",
    "        if cond1time is None:\n",
    "            cond1time = self.cond1time\n",
    "        self.cond1time = cond1time\n",
    "        \n",
    "        if cond2time is None:\n",
    "            cond2time = self.cond2time\n",
    "        self.cond2time = cond2time\n",
    "        \n",
    "        if pad1time is None:\n",
    "            pad1time = self.pad1time\n",
    "        self.pad1time = pad1time\n",
    "        \n",
    "        if pad2time is None:\n",
    "            pad2time = self.pad2time\n",
    "        self.pad2time = pad2time\n",
    "        \n",
    "        if self.admission not in df.columns:\n",
    "            df = self.addAdmissionColumn(df, add_encounter_col = self.encounter_id not in df.columns)\n",
    "            \n",
    "        if self.rolling_window: \n",
    "            df = df.groupby(self.patient_id, sort=False, as_index=False).apply(lambda d: self.addRollingWindowAKI(d))\n",
    "            df = df.reset_index(level=0, drop=True).reset_index() #this will leave time as the index\n",
    "            \n",
    "        if self.back_calculate:\n",
    "            df = df.groupby(self.patient_id, sort=False).apply(lambda d: self.addBaselineCreat(d, \n",
    "                                                                                               eGFR_impute=eGFR_impute))\n",
    "\n",
    "            df = df.groupby(self.encounter_id, sort=False).apply(lambda d: self.addBackCalcAKI(d,\n",
    "                                                                                  cond1time = self.cond1time,\n",
    "                                                                                  cond2time = self.cond2time))\n",
    "            df = df.reset_index(self.encounter_id, drop=True, as_index=False).reset_index()\n",
    "            \n",
    "        if not self.keep_extra_cols:\n",
    "            if self.rolling_window or self.aki_calc_type != 'back_calculate':\n",
    "                df = df.drop([self.mint1_colname, self.mint2_colname, self.delt1_colname, self.delt2_colname], axis=1)\n",
    "        return df\n",
    "    \n",
    "    def addAdmissionColumn(self, df, add_encounter_col = None):\n",
    "\n",
    "        pat_gb = df.groupby(self.patient_id)\n",
    "\n",
    "        #Check for those rows which are all inpatient; e.g. a hospital visit\n",
    "        df.loc[:, 'all_inp'] = pat_gb.inpatient.transform(lambda d: np.all(d))\n",
    "        df.loc[:, 'all_inp'] = df.all_inp & ~pat_gb.all_inp.shift(1, fill_value=False)\n",
    "\n",
    "        df.loc[:,'admission'] = df.inpatient & ~pat_gb.inpatient.shift(1, fill_value=False)\n",
    "        df.loc[:,'admission'] = df[np.logical_or(df.admission, df.all_inp)].time\n",
    "        df.loc[:,'admission'] = pat_gb.admission.apply(lambda s: s.bfill().ffill())\n",
    "\n",
    "        if add_encounter_col:\n",
    "            df.loc[:, 'enc'] = df.inpatient & ~pat_gb.inpatient.shift(1, fill_value=False)\n",
    "            df.loc[df.enc, 'enc'] = np.arange(1, df.enc.sum()+1)\n",
    "            df.loc[df.enc == False, 'enc'] = np.nan\n",
    "            df.loc[:,'enc'] = pat_gb.enc.apply(lambda s: s.bfill().ffill())\n",
    "        df = df.drop(['all_inp'], axis=1)\n",
    "        \n",
    "        return df\n",
    "    \n",
    "    def addRollingWindowAKI(self, df):\n",
    "        '''\n",
    "        Adds the AKI conditions based on rolling window definition: \n",
    "\n",
    "        * *Stage 1:* 0.3 increase in serum creatinine in < 48 hours OR 50% increase in serum creatinine in < 7 days (168 hours)\n",
    "        * *Stage 2:* 100% increase in (or doubling of) serum creatinine in < 48 hours\n",
    "        * *Stage 3:* 200% increase in (our tripling of) serum creatinine in < 48 hours\n",
    "\n",
    "        Args: \n",
    "            df (pd.DataFrame): dataframe, typically of a single encounter.\n",
    "            add_stages (bool): boolean, default **True**. \n",
    "                Choose whether or not to delineate the rolling-window AKI into the three stages (if False it will just lump Stage 1/2/3 into a boolean True/False)\n",
    "            cond1time (str): string, default **'48hours'**. \n",
    "                The amount of time for the rolling-window according to the first criterion; i.e. 0.3 increase in creatinine in ``cond1time`` hours. \n",
    "            cond2time (str): string, default **'168hours'**. \n",
    "                The amount of time for the rolling-window according to the second criterion; i.e. 50% increase in creatinine in ``cond2time`` hours.\n",
    "\n",
    "        Returns: \n",
    "            df (pd.DataFrame): dataframe with rolling-window aki values added in\n",
    "        '''\n",
    "        df = df.set_index(self.time).sort_index()\n",
    "        df_rw = df.loc[df.admission[0] - pd.Timedelta(hours=172):]\n",
    "        \n",
    "        t1 = pd.Timedelta(self.cond1time) + pd.Timedelta(self.pad1time)\n",
    "        t2 = pd.Timedelta(self.cond2time) + pd.Timedelta(self.pad2time)\n",
    "        \n",
    "        minc_t1, minc_t2 = np.empty(df.shape[0]), np.empty(df.shape[0])\n",
    "        minc_t1[:], minc_t2[:] = np.nan, np.nan \n",
    "        minc_t1[df.shape[0]-df_rw.shape[0]:] = df_rw[self.creatinine].rolling(t1, min_periods=1).min().values\n",
    "        minc_t2[df.shape[0]-df_rw.shape[0]:] = df_rw[self.creatinine].rolling(t2, min_periods=1).min().values\n",
    "\n",
    "        self.mint1_colname = 'mincreat_{}'.format(t1.days*24 + t1.seconds // 3600)\n",
    "        self.mint2_colname = 'mincreat_{}'.format(t2.days*24 + t2.seconds // 3600)\n",
    "        self.delt1_colname = 'deltacreat_{}'.format(t1.days*24 + t1.seconds // 3600)\n",
    "        self.delt2_colname = 'deltacreat_{}'.format(t2.days*24 + t2.seconds // 3600)\n",
    "        \n",
    "        df[self.mint1_colname] = minc_t1\n",
    "        df[self.mint2_colname] = minc_t2\n",
    "\n",
    "        df[self.delt1_colname] = np.round(df.creat - df[self.mint1_colname], decimals = 5)\n",
    "        df[self.delt2_colname] = np.round(df.creat - df[self.mint2_colname], decimals = 5)\n",
    "\n",
    "        if self.add_stages:\n",
    "            df['stage1'] = (df[self.delt1_colname] >= 0.3) | (df[self.delt2_colname] >= 0.5*df[self.mint2_colname])\n",
    "            df['stage2'] = df[self.delt2_colname] >= 2*df[self.mint2_colname]\n",
    "            df['stage3'] = df[self.delt2_colname] >= 3*df[self.mint2_colname]\n",
    "            \n",
    "        df['rollingwindow_aki'] = 1*df.stage1 + 1*df.stage2 + 1*df.stage3 if self.add_stages else (df[self.delt1_colname] >= 0.3) | (df[self.delt2_colname] >= 0.5*df[self.mint2_colname])\n",
    "  \n",
    "        return df"
   ]
  },
  {
   "cell_type": "markdown",
   "metadata": {},
   "source": [
    "### First, checking population-level values to make sure the output hasn't changed"
   ]
  },
  {
   "cell_type": "code",
   "execution_count": 6,
   "metadata": {},
   "outputs": [
    {
     "name": "stdout",
     "output_type": "stream",
     "text": [
      "Stage 1: 655 vs 655\n",
      "Stage 2: 21 vs 21\n",
      "Stage 3: 15 vs 15\n",
      "Unique mrns: (419,) vs (419,)\n",
      "Unique encs: (496,) vs (496,)\n",
      "All match, great!\n",
      "Wall time: 5.5 s\n"
     ]
    }
   ],
   "source": [
    "%%time\n",
    "flagger = AKIFlagger(rolling_window = True, creatinine = 'creat', add_stages = True)\n",
    "rw = flagger.returnAKIpatients(df)\n",
    "print('Stage 1: {} vs {}'.format(rw.stage1.sum(), p.stage1.sum()))\n",
    "print('Stage 2: {} vs {}'.format(rw.stage2.sum(), p.stage2.sum()))\n",
    "print('Stage 3: {} vs {}'.format(rw.stage3.sum(), p.stage3.sum()))\n",
    "print('Unique mrns: {} vs {}'.format(rw.mrn.unique().shape, p.mrn.unique().shape))\n",
    "print('Unique encs: {} vs {}'.format(rw.enc.unique().shape, p.enc.unique().shape))\n",
    "print('All match, great!')"
   ]
  },
  {
   "cell_type": "markdown",
   "metadata": {},
   "source": [
    "### Now against a dataframe with the bare minimum requirements (no admission or encounter columns)"
   ]
  },
  {
   "cell_type": "code",
   "execution_count": 9,
   "metadata": {},
   "outputs": [
    {
     "name": "stdout",
     "output_type": "stream",
     "text": [
      "Stage 1: 658 vs 655\n",
      "Stage 2: 21 vs 21\n",
      "Stage 3: 15 vs 15\n",
      "Unique mrns: (419,) vs (419,)\n",
      "Unique encs: (482,) vs (496,)\n",
      "If the numbers are pretty close, we're happy with the imputation performed.\n",
      "Wall time: 7.09 s\n"
     ]
    }
   ],
   "source": [
    "%%time\n",
    "noad = df.loc[:,['mrn', 'creat', 'time', 'inpatient']]\n",
    "rw = flagger.returnAKIpatients(noad)\n",
    "print('Stage 1: {} vs {}'.format(rw.stage1.sum(), p.stage1.sum()))\n",
    "print('Stage 2: {} vs {}'.format(rw.stage2.sum(), p.stage2.sum()))\n",
    "print('Stage 3: {} vs {}'.format(rw.stage3.sum(), p.stage3.sum()))\n",
    "print('Unique mrns: {} vs {}'.format(rw.mrn.unique().shape, p.mrn.unique().shape))\n",
    "print('Unique encs: {} vs {}'.format(rw.enc.unique().shape, p.enc.unique().shape))\n",
    "print('If the numbers are pretty close, we\\'re happy with the imputation performed.')"
   ]
  },
  {
   "cell_type": "markdown",
   "metadata": {},
   "source": [
    "## Code for generating admission column with intermediate steps as separate columns & edge-case checks"
   ]
  },
  {
   "cell_type": "code",
   "execution_count": 10,
   "metadata": {},
   "outputs": [
    {
     "data": {
      "text/plain": [
       "True"
      ]
     },
     "execution_count": 10,
     "metadata": {},
     "output_type": "execute_result"
    }
   ],
   "source": [
    "#Check to make sure that when switching from mrn to mrn it's still capturing admissions \n",
    "c1 = np.logical_and(noad.inpatient, noad.inpatient.shift(1)) #where T & T\n",
    "c2 = np.logical_and(noad.mrn != noad.mrn.shift(1), ~noad.all_inp)\n",
    "noad[np.logical_and(c1, c2)].head(10)\n",
    "\n",
    "#Verify that allinp is capturing the first \n",
    "pat_gb = noad.groupby('mrn')\n",
    "noad['all_inp'] = pat_gb.inpatient.transform(lambda d: np.all(d))\n",
    "noad['allinp'] = noad.all_inp & ~pat_gb.all_inp.shift(1, fill_value=False)\n",
    "#noad[np.logical_and(c1, c2)]\n",
    "np.all(noad[noad.all_inp].groupby('mrn').head(1) == noad[noad.allinp])"
   ]
  },
  {
   "cell_type": "code",
   "execution_count": 11,
   "metadata": {
    "scrolled": true
   },
   "outputs": [
    {
     "name": "stdout",
     "output_type": "stream",
     "text": [
      "Wall time: 1.01 s\n"
     ]
    }
   ],
   "source": [
    "%%time\n",
    "noad = df.loc[:,['mrn', 'creat', 'time', 'inpatient']]\n",
    "pat_gb = noad.groupby('mrn')\n",
    "\n",
    "#Check for those rows which are all inpatient; e.g. a hospital visit\n",
    "noad.loc[:,'all_inp'] = pat_gb.inpatient.transform(lambda d: np.all(d))\n",
    "noad.loc[:,'all_inp'] = noad.all_inp & ~pat_gb.all_inp.shift(1, fill_value=False)\n",
    "\n",
    "noad.loc[:,'admission'] = noad.inpatient & ~pat_gb.inpatient.shift(1, fill_value=False)\n",
    "noad.loc[:,'admission'] = noad[np.logical_or(noad.admission, noad.all_inp)].time\n",
    "noad.loc[:,'admission'] = pat_gb.admission.apply(lambda d: d.bfill().ffill())\n",
    "#noad.head()"
   ]
  },
  {
   "cell_type": "code",
   "execution_count": null,
   "metadata": {},
   "outputs": [],
   "source": []
  }
 ],
 "metadata": {
  "kernelspec": {
   "display_name": "Python 3",
   "language": "python",
   "name": "python3"
  },
  "language_info": {
   "codemirror_mode": {
    "name": "ipython",
    "version": 3
   },
   "file_extension": ".py",
   "mimetype": "text/x-python",
   "name": "python",
   "nbconvert_exporter": "python",
   "pygments_lexer": "ipython3",
   "version": "3.6.10"
  }
 },
 "nbformat": 4,
 "nbformat_minor": 4
}
