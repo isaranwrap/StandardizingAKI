{
 "cells": [
  {
   "cell_type": "markdown",
   "metadata": {},
   "source": [
    "## Imports"
   ]
  },
  {
   "cell_type": "code",
   "execution_count": null,
   "metadata": {},
   "outputs": [],
   "source": [
    "import pandas as pd\n",
    "import numpy as np\n",
    "import datetime, random\n",
    "\n",
    "from multiprocessing import Pool\n",
    "import time"
   ]
  },
  {
   "cell_type": "markdown",
   "metadata": {},
   "source": [
    "## Reading in file; managing columns"
   ]
  },
  {
   "cell_type": "code",
   "execution_count": null,
   "metadata": {
    "scrolled": true
   },
   "outputs": [],
   "source": [
    "%%time\n",
    "df = pd.read_csv(r'H:\\Data\\Standardized AKI definition\\dataset\\output.csv')\n",
    "df['time'] = pd.to_datetime(df.time)\n",
    "df = df.drop(['Unnamed: 0'], axis=1)\n",
    "\n",
    "yu = pd.read_csv(r'H:\\Data\\Standardized AKI definition\\dataset\\aki flagger covid creatinines with covidtest.csv')\n",
    "yu['pat_mrn_id'] = yu.pat_mrn_id.str.strip('MR').astype('int') #indexing with integers is quicker\n",
    "yu['time'] = pd.to_datetime(yu.time)\n",
    "yu['covidtest'] = yu.covidtest.astype('bool')\n",
    "yu.columns = ['mrn', #Renaming columns for ease\n",
    "              'pat_enc_id',\n",
    "              'time',\n",
    "              'creat',\n",
    "              'enc',\n",
    "              'running_aki_stage',\n",
    "              'historical_aki_stage',\n",
    "              'covid'] \n",
    "\n",
    "yu = yu.groupby('enc').apply(lambda d: d[~d.time.duplicated()])\n",
    "yu = yu.reset_index(drop=True)\n",
    "#yu = yu.set_index(['mrn', 'enc', 'time'])\n",
    "#yu.index = yu.sort_values(['time', 'enc', 'mrn']).index\n",
    "print(yu.shape)"
   ]
  },
  {
   "cell_type": "code",
   "execution_count": null,
   "metadata": {
    "scrolled": true
   },
   "outputs": [],
   "source": [
    "%%time\n",
    "df_subset = df.set_index(['mrn', 'enc', 'time']).loc[yu.set_index(['mrn','enc','time']).index]\n",
    "df_subset = df_subset.reset_index().groupby('enc').apply(lambda d: d[~d.time.duplicated()])\n",
    "df_subset = df_subset.reset_index(drop=True)\n",
    "print(np.all(df_subset.time == yu.time))\n",
    "print(np.all(df_subset.enc == yu.enc))\n",
    "print(np.all(df_subset.mrn == yu.mrn))\n",
    "#print('Subset shape:',df_subset.shape, 'Yu\\'s df shape:',yu.shape, 'Original df shape:',df.shape)"
   ]
  },
  {
   "cell_type": "code",
   "execution_count": null,
   "metadata": {},
   "outputs": [],
   "source": [
    "df_subset.loc[df_subset.rollingwindow_aki.isnull(), 'rollingwindow_aki'] = 0"
   ]
  },
  {
   "cell_type": "code",
   "execution_count": null,
   "metadata": {},
   "outputs": [],
   "source": [
    "yu['running_aki'] = yu.running_aki_stage > 0 "
   ]
  },
  {
   "cell_type": "code",
   "execution_count": null,
   "metadata": {},
   "outputs": [],
   "source": [
    "df_subset.iloc[np.where(df_subset.rollingwindow_aki != yu.running_aki)[0]"
   ]
  },
  {
   "cell_type": "code",
   "execution_count": null,
   "metadata": {
    "scrolled": true
   },
   "outputs": [],
   "source": [
    "(df_subset.rollingwindow_aki == yu.running_aki).sum()"
   ]
  },
  {
   "cell_type": "code",
   "execution_count": null,
   "metadata": {},
   "outputs": [],
   "source": [
    "df_subset.loc[df_subset.backcalc_aki.isnull(), 'backcalc_aki'] = 0"
   ]
  },
  {
   "cell_type": "code",
   "execution_count": null,
   "metadata": {},
   "outputs": [],
   "source": [
    "print('Back-calc match count:', , 119982/127254, 'Rolling-window match count:', 123471/127254)"
   ]
  },
  {
   "cell_type": "code",
   "execution_count": null,
   "metadata": {},
   "outputs": [],
   "source": [
    "(df_subset.backcalc_aki == yu.historical_aki_stage).sum(), df_subset.shape"
   ]
  },
  {
   "cell_type": "code",
   "execution_count": null,
   "metadata": {
    "scrolled": true
   },
   "outputs": [],
   "source": [
    "yu.iloc[np.where(df_subset.backcalc_aki != yu.historical_aki_stage)[0]]"
   ]
  },
  {
   "cell_type": "code",
   "execution_count": null,
   "metadata": {},
   "outputs": [],
   "source": [
    "df.loc[df.mrn == 2307280]"
   ]
  },
  {
   "cell_type": "code",
   "execution_count": null,
   "metadata": {
    "scrolled": true
   },
   "outputs": [],
   "source": [
    "yu.loc[yu.mrn == 2307280]"
   ]
  },
  {
   "cell_type": "code",
   "execution_count": null,
   "metadata": {},
   "outputs": [],
   "source": [
    "df_subset.iloc[np.where(df_subset.backcalc_aki != yu.historical_aki_stage)[0]]"
   ]
  },
  {
   "cell_type": "code",
   "execution_count": null,
   "metadata": {
    "scrolled": true
   },
   "outputs": [],
   "source": [
    "%%time\n",
    "mrn_diffs = [df.mrn[indx] in set(df.mrn.unique()) - set(yu.mrn.unique()) for indx in range(df.shape[0])]"
   ]
  },
  {
   "cell_type": "code",
   "execution_count": null,
   "metadata": {},
   "outputs": [],
   "source": []
  },
  {
   "cell_type": "code",
   "execution_count": null,
   "metadata": {},
   "outputs": [],
   "source": [
    "pd.read_csv(r\"H:\\Data\\Standardized AKI definition\\dataset\\covid test result.csv\").enc_id.unique().shape"
   ]
  },
  {
   "cell_type": "markdown",
   "metadata": {},
   "source": [
    "## Read in COVID-19 cases, same analysis "
   ]
  },
  {
   "cell_type": "code",
   "execution_count": null,
   "metadata": {
    "scrolled": true
   },
   "outputs": [],
   "source": [
    "cdf = pd.read_csv('/Users/saranmedical-smile/csv_files/covid creatinines.csv')\n",
    "cdf.pat_mrn_id = cdf.pat_mrn_id.str.strip('MR').astype('int') #Index with integers --> it's much quicker\n",
    "cdf.time = pd.to_datetime(cdf.time) # Convert to pandas datetime format\n",
    "cdf.admission = pd.to_datetime(cdf.admission)\n",
    "cdf.discharge = pd.to_datetime(cdf.discharge)\n",
    "cdf.drop(['enc_id',\n",
    "         'age',\n",
    "         'sex',\n",
    "         'inpatient',\n",
    "         'race',\n",
    "         'admission',\n",
    "         'discharge'], axis=1, inplace=True)\n",
    "print(cdf.dtypes) # Confirm all the column types are as we want it\n",
    "cdf.columns = ['mrn', #Renaming columns for ease\n",
    "              'enc',\n",
    "              'time',\n",
    "              'creat'] \n",
    "cdf.set_index(['time'], inplace=True)"
   ]
  },
  {
   "cell_type": "code",
   "execution_count": null,
   "metadata": {
    "code_folding": [],
    "scrolled": true
   },
   "outputs": [],
   "source": [
    "%%time\n",
    "#returnAKIpatients(cdf)\n",
    "print('done!')"
   ]
  },
  {
   "cell_type": "code",
   "execution_count": null,
   "metadata": {},
   "outputs": [],
   "source": [
    "%%time\n",
    "x = cdf.groupby('mrn', sort=False)['creat'].rolling(pd.Timedelta('52hours'), min_periods=1).min()#.reset_index('enc').creat\n",
    "y = cdf.groupby('mrn', sort=False)['creat'].rolling(pd.Timedelta('172hours'), min_periods=1).min()#.reset_index('enc').creat    "
   ]
  },
  {
   "cell_type": "code",
   "execution_count": null,
   "metadata": {},
   "outputs": [],
   "source": [
    "cdf = cdf.reset_index().set_index(['enc', 'time'])"
   ]
  },
  {
   "cell_type": "code",
   "execution_count": null,
   "metadata": {},
   "outputs": [],
   "source": [
    "cdf['running_min_48hrs'] = x.values\n",
    "cdf['running_min_7days'] = y.values\n",
    "\n",
    "cdf['running_delta_48hrs'] = np.round(cdf['creat'] - cdf['running_min_48hrs'], decimals = 3)\n",
    "cdf['running_delta_7days'] = np.round(cdf['creat'] - cdf['running_min_7days'], decimals = 3)    \n",
    "\n",
    "condition1 = cdf['running_delta_48hrs'] >= 0.3\n",
    "condition2 = cdf['running_delta_7days'] >= 0.5*cdf['running_min_7days']\n",
    "\n",
    "cdf['aki'] = condition1 | condition2"
   ]
  },
  {
   "cell_type": "code",
   "execution_count": null,
   "metadata": {},
   "outputs": [],
   "source": [
    "cdf.reset_index('enc', inplace=True)\n",
    "cdf.sort_index(inplace=True)\n",
    "cdf['aki_cumsum'] = cdf.aki.cumsum()\n",
    "#cdf['aki_cumsum_7d'] = cdf.reset_index('enc').aki.rolling(pd.Timedelta('7days')).cumsum()"
   ]
  },
  {
   "cell_type": "markdown",
   "metadata": {},
   "source": [
    "## Reading in df"
   ]
  },
  {
   "cell_type": "code",
   "execution_count": null,
   "metadata": {
    "code_folding": [],
    "scrolled": true
   },
   "outputs": [],
   "source": [
    "%%time\n",
    "\n",
    "#Read in dataframe - uncomment which data frame according to which you are working on\n",
    "\n",
    "#df = pd.read_csv('~/Desktop/patr/StandardizingAKI/inpatient 2014-2018 creatinine.csv') #1441707, 4\n",
    "#df = pd.read_csv(r'H:\\Data\\Standardized AKI definition\\dataset\\inpatient 2014-2018 creatinine.csv')\n",
    "#df = pd.read_csv('/Users/saranmedical-smile/csv_files/inpatient 2014-2018 creatinine.csv')\n",
    "#df = pd.read_csv('/Users/saranmedical-smile/csv_files/covid creatinines.csv')\n",
    "df = pd.read_csv(r'H:\\Data\\Standardized AKI definition\\dataset\\aki flagger covid creatinines with covidtest.csv')\n",
    "\n",
    "df['pat_mrn_id'] = df.pat_mrn_id.str.strip('MR').astype('int') #Index with integers --> it's much quicker\n",
    "df['time'] = pd.to_datetime(df.time) # Convert to pandas datetime format\n",
    "df['covidtest'] = df.covidtest.astype('bool')\n",
    "print(df.dtypes) # Confirm all the column types are as we want it\n",
    "\n",
    "#df.drop(['running_aki_stage',\n",
    "#         'historical_aki_stage'], axis=1, inplace=True)\n",
    "df.columns = ['mrn', #Renaming columns for ease\n",
    "              'pat_enc_id',\n",
    "              'time',\n",
    "              'creat',\n",
    "              'enc',\n",
    "              'running_aki_stage',\n",
    "              'historical_aki_stage',\n",
    "              'covid'] \n",
    "\n",
    "print(df.enc.unique().shape[0], \"unique encounters\")\n",
    "#df.set_index(['time'], inplace=True)\n",
    "#df.set_index(['mrn', 'enc'], inplace=True) #Turn the index into a hierarchical tuple (mrn, enc)"
   ]
  },
  {
   "cell_type": "code",
   "execution_count": null,
   "metadata": {},
   "outputs": [],
   "source": []
  }
 ],
 "metadata": {
  "kernelspec": {
   "display_name": "Python 3",
   "language": "python",
   "name": "python3"
  },
  "language_info": {
   "codemirror_mode": {
    "name": "ipython",
    "version": 3
   },
   "file_extension": ".py",
   "mimetype": "text/x-python",
   "name": "python",
   "nbconvert_exporter": "python",
   "pygments_lexer": "ipython3",
   "version": "3.6.10"
  }
 },
 "nbformat": 4,
 "nbformat_minor": 4
}
