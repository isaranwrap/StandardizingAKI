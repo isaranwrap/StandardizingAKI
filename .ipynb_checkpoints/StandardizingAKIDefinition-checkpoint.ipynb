{
 "cells": [
  {
   "cell_type": "code",
   "execution_count": 1,
   "metadata": {},
   "outputs": [],
   "source": [
    "import pandas as pd\n",
    "import numpy as np\n",
    "import datetime, random"
   ]
  },
  {
   "cell_type": "code",
   "execution_count": 2,
   "metadata": {},
   "outputs": [
    {
     "name": "stdout",
     "output_type": "stream",
     "text": [
      "pat_mrn_id                 int32\n",
      "pat_enc_csn_id             int64\n",
      "time              datetime64[ns]\n",
      "creatinine               float64\n",
      "dtype: object\n"
     ]
    }
   ],
   "source": [
    "df = pd.read_csv('inpatient 2014-2018 creatinine.csv') #1441707, 4\n",
    "df.pat_mrn_id = df.pat_mrn_id.str.strip('MR').astype('int')\n",
    "df.time = pd.to_datetime(df.time)\n",
    "print(df.dtypes)\n",
    "df.columns = ['mrn',\n",
    "              'enc',\n",
    "              'time',\n",
    "              'creat']\n",
    "df.set_index(['mrn', 'enc'], inplace=True)"
   ]
  },
  {
   "cell_type": "code",
   "execution_count": 3,
   "metadata": {},
   "outputs": [],
   "source": [
    "#Quick question to ask: say a patient comes in on a separate encounter within 7 days\n",
    "#and their creatinine has gone up by 50% since their previous encounter. Does that count as AKI?\n",
    "\n",
    "#((df.groupby(['pat_mrn_id']).shift(-1) - df).time < datetime.timedelta(days=7)).sum()\n",
    "#((df.groupby(['pat_mrn_id', 'pat_enc_csn_id']).shift(-1) - df).time < datetime.timedelta(days=7)).sum()\n",
    "\n",
    "delta_df = df.groupby(['mrn', 'enc']).shift(-1) - df"
   ]
  },
  {
   "cell_type": "code",
   "execution_count": 4,
   "metadata": {},
   "outputs": [],
   "source": [
    "df['delta_creat'] = delta_df['creat']\n",
    "df['delta_time'] = delta_df['time']\n",
    "#df[['delta_time, delta_creat']] = delta_df[['time', 'creatinine']]\n",
    "df.delta_creat = df.delta_creat.shift(1)\n",
    "df.delta_time = df.delta_time.shift(1)"
   ]
  },
  {
   "cell_type": "code",
   "execution_count": 5,
   "metadata": {},
   "outputs": [
    {
     "data": {
      "text/plain": [
       "(array([    676,    7397,   10250, ..., 1440145, 1440691, 1441349],\n",
       "       dtype=int64),)"
      ]
     },
     "execution_count": 5,
     "metadata": {},
     "output_type": "execute_result"
    }
   ],
   "source": [
    "np.where(np.logical_and(df.delta_creat > df.creat.shift(1)*0.5, df.delta_time > datetime.timedelta(days=2)))\n",
    "#676, 7397, ...\n",
    "#df.iloc[7390:7400]"
   ]
  },
  {
   "cell_type": "code",
   "execution_count": 6,
   "metadata": {},
   "outputs": [],
   "source": [
    "condition1 = np.logical_and(df.delta_creat > 0.3, df.delta_time < datetime.timedelta(hours=48))\n",
    "condition2 = np.logical_and(df.delta_creat > df.creat.shift(1)*0.5, df.delta_time < datetime.timedelta(days=7))\n",
    "df['AKI'] = np.logical_or(condition1, condition2)\n",
    "\n",
    "#Question: Once you've got AKI you've got AKI for the rest of the encounter, right?\n",
    "# df.loc['MR1000136']\n",
    "\n",
    "#Condition 1 examples:\n",
    "# MR1000136, MR1000468, MR1000507\n",
    "\n",
    "#Condition 2 examples:\n",
    "#MR1001546, MR1001806, \n",
    "\n",
    "#df[np.logical_xor(condition1, condition2)] gives unique examples of C1 or C2"
   ]
  },
  {
   "cell_type": "code",
   "execution_count": null,
   "metadata": {},
   "outputs": [],
   "source": []
  }
 ],
 "metadata": {
  "kernelspec": {
   "display_name": "Python 3",
   "language": "python",
   "name": "python3"
  },
  "language_info": {
   "codemirror_mode": {
    "name": "ipython",
    "version": 3
   },
   "file_extension": ".py",
   "mimetype": "text/x-python",
   "name": "python",
   "nbconvert_exporter": "python",
   "pygments_lexer": "ipython3",
   "version": "3.6.10"
  }
 },
 "nbformat": 4,
 "nbformat_minor": 4
}
