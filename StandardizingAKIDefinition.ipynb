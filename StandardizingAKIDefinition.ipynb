{
 "cells": [
  {
   "cell_type": "markdown",
   "metadata": {},
   "source": [
    "## Imports"
   ]
  },
  {
   "cell_type": "code",
   "execution_count": 1,
   "metadata": {},
   "outputs": [],
   "source": [
    "import pandas as pd\n",
    "import numpy as np\n",
    "import datetime, random\n",
    "\n",
    "from multiprocessing import Pool\n",
    "import time"
   ]
  },
  {
   "cell_type": "markdown",
   "metadata": {},
   "source": [
    "## Functions"
   ]
  },
  {
   "cell_type": "code",
   "execution_count": 2,
   "metadata": {
    "code_folding": [
     0,
     28,
     44,
     63
    ]
   },
   "outputs": [],
   "source": [
    "def returnAKIpatients(df, \n",
    "                      aki_calc_type = 'both', keep_cols = True, \n",
    "                      cond1time = '48hours', cond2time = '168hours'):\n",
    "    \n",
    "    if aki_calc_type == 'both': \n",
    "        df = df.groupby('mrn', sort=False).apply(lambda d: addRollingWindowAKI(d,#enc vs mrn\n",
    "                                                                              cond1time = cond1time,\n",
    "                                                                              cond2time = cond2time))\n",
    "        df = df.reset_index('mrn', drop=True).reset_index()\n",
    "        \n",
    "        df = df.groupby('mrn', sort=False).apply(lambda d: addBaselineCreat(d))\n",
    "        df = df.groupby('enc', sort=False).apply(lambda d: addBackCalcAKI(d,\n",
    "                                                                         cond2time = cond2time))\n",
    "        \n",
    "        df = df.reset_index('enc', drop=True).reset_index()\n",
    "        \n",
    "    elif aki_calc_type == 'rolling_window':\n",
    "        df = df.groupby('mrn', sort=False).apply(lambda d: addRollingWindowAKI(d,\n",
    "                                                                              cond1time = cond1time,\n",
    "                                                                              cond2time = cond2time))\n",
    "        \n",
    "    elif aki_calc_type == 'back_calculate':\n",
    "        df = df.groupby('mrn', sort=False).apply(lambda d: addBaselineCreat(d))\n",
    "        df = df.groupby('enc', sort=False).apply(lambda d: addBackCalcAKI(d,\n",
    "                                                                        cond2time = cond2time)) \n",
    "    \n",
    "    return df\n",
    "\n",
    "def addBaselineCreat(df):\n",
    "    '''\n",
    "    Adds the baseline creatinine to a dataframe. The baseline creatinine is defined as the median of the outpatient \n",
    "     creatinine values from 365 to 7 days prior to admission.\n",
    "    \n",
    "    Input: dataframe (typically of a single patient)\n",
    "    Output: dataframe with baseline creatinine column added in\n",
    "    '''\n",
    "    split_dfs = list()\n",
    "    for adm in df.admission.unique():\n",
    "        adm_df = df.loc[df.admission == adm]\n",
    "        adm_df['baseline_creat'] = adm_df[~adm_df.inpatient].set_index('time').loc[adm - pd.Timedelta(days=365):adm - pd.Timedelta(days=7)].creat.median()\n",
    "        split_dfs.append(adm_df)\n",
    "    \n",
    "    return pd.concat(split_dfs)\n",
    "\n",
    "def addBackCalcAKI(df, \n",
    "                   cond2time = '168hours'):\n",
    "    '''\n",
    "    Adds the back-calculated AKI conditions, the KDIGO standards on the outpatient values;\n",
    "    i.e. a 50% increase from baseline creatinine in <7 days\n",
    "    \n",
    "    Input: dataframe (typically of a single encounter)\n",
    "    Output: dataframe with back-calculated aki values added in\n",
    "    '''\n",
    "    #backcalc_aki = np.empty(df.shape[0])\n",
    "    #backcalc_aki[:] = np.nan\n",
    "    \n",
    "    df = df.reset_index(drop=True).set_index('time')\n",
    "    df = df[~df.index.duplicated()]\n",
    "    df_lf = df.loc[(df.admission - datetime.timedelta(hours=6)).values[0]:(df.admission + pd.Timedelta(cond2time)).values[0]]\n",
    "    df.loc[df_lf.index, 'backcalc_aki'] = df_lf.creat >= np.round(1.5*df_lf.baseline_creat, decimals=5)\n",
    "    \n",
    "    return df \n",
    "\n",
    "def addRollingWindowAKI(df,\n",
    "                        cond1time = '48hours', cond2time = '168hours'):\n",
    "    '''\n",
    "    Adds the AKI conditions based on rolling window definition: 0.3 creat increase in < 48 hrs OR 50% increase in < 7 days\n",
    "    \n",
    "    Input: dataframe (typically of a single encounter)\n",
    "    Output: dataframe with rolling-window aki values added in\n",
    "    '''\n",
    "    #df = df[~df.duplicated()]\n",
    "    df = df.set_index('time').sort_index()\n",
    "    #df = df[~df.duplicated()]\n",
    "    df_rw = df.loc[df.admission[0] - pd.Timedelta(hours=172):]\n",
    "    minc_48, minc_7d = np.empty(df.shape[0]), np.empty(df.shape[0])\n",
    "    minc_48[:], minc_7d[:] = np.nan, np.nan\n",
    "    minc_48[df.shape[0]-df_rw.shape[0]:] = df_rw.creat.rolling(pd.Timedelta(cond1time), min_periods=1).min().values\n",
    "    minc_7d[df.shape[0]-df_rw.shape[0]:] = df_rw.creat.rolling(pd.Timedelta(cond2time), min_periods=1).min().values\n",
    "    \n",
    "    df['mincreat_48hr'] = minc_48\n",
    "    df['mincreat_7day'] = minc_7d\n",
    "    \n",
    "    df['deltacreat_48hr'] = np.round(df.creat - df.mincreat_48hr, decimals = 5)\n",
    "    df['deltacreat_7day'] = np.round(df.creat - df.mincreat_7day, decimals = 5)\n",
    "\n",
    "    df['rollingwindow_aki'] = (df.deltacreat_48hr >= 0.3) | (df.deltacreat_7day >= 0.5*df.mincreat_7day)\n",
    "    \n",
    "    return df"
   ]
  },
  {
   "cell_type": "code",
   "execution_count": 20,
   "metadata": {},
   "outputs": [
    {
     "name": "stdout",
     "output_type": "stream",
     "text": [
      "Wall time: 7min 19s\n"
     ]
    }
   ],
   "source": [
    "%%time\n",
    "df2 = df.groupby('mrn', sort=False).apply(lambda d: addRollingWindowAKI(d, cond1time='52hours', cond2time='172hours'))\n",
    "df2 = df2.reset_index('mrn',drop=True).reset_index()"
   ]
  },
  {
   "cell_type": "code",
   "execution_count": 21,
   "metadata": {},
   "outputs": [],
   "source": [
    "df2.to_csv(r'H:\\Data\\Standardized AKI definition\\dataset\\output2.csv')"
   ]
  },
  {
   "cell_type": "markdown",
   "metadata": {},
   "source": [
    "## Reading in file; managing columns"
   ]
  },
  {
   "cell_type": "code",
   "execution_count": 3,
   "metadata": {
    "scrolled": true
   },
   "outputs": [
    {
     "name": "stdout",
     "output_type": "stream",
     "text": [
      "Shape: (299660, 16)\n",
      "pat_mrn_id                 object\n",
      "pat_enc_csn_id              int64\n",
      "time               datetime64[ns]\n",
      "creatinine                float64\n",
      "hosp_admsn_time            object\n",
      "hosp_disch_time            object\n",
      "age                       float64\n",
      "sex                          bool\n",
      "race                         bool\n",
      "enc_id                      int64\n",
      "admission          datetime64[ns]\n",
      "discharge          datetime64[ns]\n",
      "inpatient                    bool\n",
      "mrn                         int32\n",
      "enc                         int64\n",
      "creat                     float64\n",
      "dtype: object\n"
     ]
    }
   ],
   "source": [
    "covid_df = pd.read_csv(r'H:\\Data\\Standardized AKI definition\\dataset\\covid creatinines.csv')\n",
    "covid_df['mrn'] = covid_df.pat_mrn_id.str.strip('MR').astype('int')\n",
    "covid_df['enc'] = covid_df.enc_id\n",
    "covid_df['time'] = pd.to_datetime(covid_df.time)\n",
    "covid_df['sex'] = covid_df.sex.astype('bool')\n",
    "covid_df['race'] = covid_df.race.astype('bool')\n",
    "covid_df['inpatient'] = covid_df.inpatient.astype('bool')\n",
    "covid_df['creat'] = covid_df['creatinine']\n",
    "covid_df['admission'] = pd.to_datetime(covid_df.admission)\n",
    "covid_df['discharge'] = pd.to_datetime(covid_df.discharge)\n",
    "print('Shape:', covid_df.shape)\n",
    "print(covid_df.dtypes)"
   ]
  },
  {
   "cell_type": "code",
   "execution_count": 4,
   "metadata": {
    "scrolled": true
   },
   "outputs": [
    {
     "name": "stdout",
     "output_type": "stream",
     "text": [
      "Wall time: 1min\n"
     ]
    }
   ],
   "source": [
    "%%time\n",
    "df = covid_df[['mrn', 'enc', 'time', 'creat', 'age', 'sex', 'race', 'inpatient', 'admission', 'discharge']]\n",
    "df = df[~df.duplicated()] #The rows where the pat_enc_csn_id was lumped into enc_id become duplicates\n",
    "df = df.groupby('enc', sort=False).apply(lambda d: d.sort_values('time'))\n",
    "df = df.reset_index(drop=True)"
   ]
  },
  {
   "cell_type": "markdown",
   "metadata": {},
   "source": [
    "## Adding Rolling-window & Back-calculated AKI values"
   ]
  },
  {
   "cell_type": "code",
   "execution_count": 6,
   "metadata": {
    "scrolled": true
   },
   "outputs": [
    {
     "name": "stdout",
     "output_type": "stream",
     "text": [
      "Wall time: 6min 1s\n"
     ]
    }
   ],
   "source": [
    "%%time\n",
    "out_rw = returnAKIpatients(df, aki_calc_type = 'rolling_window')"
   ]
  },
  {
   "cell_type": "code",
   "execution_count": 6,
   "metadata": {},
   "outputs": [
    {
     "name": "stdout",
     "output_type": "stream",
     "text": [
      "Wall time: 3min 59s\n"
     ]
    }
   ],
   "source": [
    "%%time\n",
    "out_bc = returnAKIpatients(df, aki_calc_type = 'back_calculate')"
   ]
  },
  {
   "cell_type": "code",
   "execution_count": 5,
   "metadata": {},
   "outputs": [
    {
     "name": "stdout",
     "output_type": "stream",
     "text": [
      "Wall time: 18min 11s\n"
     ]
    }
   ],
   "source": [
    "%%time\n",
    "out = returnAKIpatients(df, cond1time='52hours', cond2time='172hours')"
   ]
  },
  {
   "cell_type": "code",
   "execution_count": 6,
   "metadata": {},
   "outputs": [],
   "source": [
    "out.to_csv(r'H:\\Data\\Standardized AKI definition\\dataset\\output.csv')"
   ]
  },
  {
   "cell_type": "markdown",
   "metadata": {},
   "source": [
    "## Two criterion for rolling-window definition of AKI:\n",
    "\n",
    "#### *$creat \\uparrow$ of 0.3 in < 48 hrs* OR *$creat \\uparrow$ of 50% in < 7 days*"
   ]
  },
  {
   "cell_type": "code",
   "execution_count": 9,
   "metadata": {},
   "outputs": [
    {
     "data": {
      "text/plain": [
       "array([ 80.41598874,  73.62356567,  75.77712721,  88.21709052,\n",
       "       110.22300329,  85.98249728,  89.78296331, 100.3245742 ,\n",
       "       109.57435179, 110.65195848])"
      ]
     },
     "execution_count": 9,
     "metadata": {},
     "output_type": "execute_result"
    }
   ],
   "source": [
    "def eGFR(creat, age, black, female):\n",
    "    '''\n",
    "    Calculates the estimated glomerular filtration rate based on the serum creatinine levels, age, sex, and race (black or not black);\n",
    "    Based on the formula in the paper A New Equation to Estimate Glomerular Filtration Rate (Levey et. Al, 2009) linked below\n",
    "    \n",
    "    https://pubmed.ncbi.nlm.nih.gov/19414839/\n",
    "    \n",
    "    '''\n",
    "    #Term 2 - np.clip(creat/(0.9-0.2*female, a_min=1, a_max=None) is the same as taking min(1, creat/k)\n",
    "    #Term 3 - np.clip(creat/(0.9-0.2*female, a_min=None, a_max=None) is the same as taking max(1, creat/k)\n",
    "    #where k is the data-derived constant given in the paper: 0.7 for females and 0.9 for males\n",
    "    \n",
    "    return 141*(np.clip(creat/(0.9-0.2*female), a_min=1, a_max=None)**(-0.411+0.082*female))*(np.clip(creat/(0.9-0.2*female), a_min=None, a_max=1)**-1.209)*(0.993**age)*(1+female*0.018)*(1+black*0.159)\n",
    "\n",
    "#Sample test data\n",
    "creat = np.random.normal(loc=1, scale=0.2, size=10)\n",
    "age = np.random.normal(loc=55, scale=10, size=10)\n",
    "black = np.random.rand(10) > 0.5\n",
    "female = np.random.rand(10) > 0.5\n",
    "\n",
    "eGFR(creat, age, black, female) \n",
    "#values seem pretty reasonable (80-120)"
   ]
  },
  {
   "cell_type": "markdown",
   "metadata": {},
   "source": [
    "## Mismatch cases"
   ]
  },
  {
   "cell_type": "code",
   "execution_count": 10,
   "metadata": {},
   "outputs": [],
   "source": [
    "tmp = out.loc[out.enc == 205472336]\n",
    "backcalc_aki = np.empty(tmp.shape[0])\n",
    "backcalc_aki[:] = np.nan\n",
    "tmp = tmp.sort_values('time')\n",
    "tmp2 = tmp.set_index('time').sort_index().loc[tmp.admission.values[0]:(tmp.admission + datetime.timedelta(days=7)).values[0]]\n",
    "backcalc_aki[:tmp2.shape[0]] = tmp2.creat > 1.5*tmp2.baseline_creat\n",
    "tmp['backcalc_aki'] = backcalc_aki"
   ]
  },
  {
   "cell_type": "code",
   "execution_count": 90,
   "metadata": {},
   "outputs": [],
   "source": [
    "tmp = df[df.mrn == 2307280]\n",
    "tmp = tmp.groupby('enc', sort=False).apply(lambda d: addRollingWindowAKI(d, cond1time='52hours', cond2time='172hours'))\n",
    "tmp = tmp.reset_index('enc', drop=True).reset_index()\n",
    "\n",
    "tmp = tmp.groupby('mrn', sort=False).apply(lambda d: addBaselineCreat(d))\n",
    "tmp = tmp.groupby('enc', sort=False).apply(lambda d: addBackCalcAKI(d))\n",
    "tmp        \n",
    "tmp = tmp.reset_index(drop=True)"
   ]
  },
  {
   "cell_type": "code",
   "execution_count": 12,
   "metadata": {},
   "outputs": [],
   "source": [
    "tmp = df[375:475]\n",
    "tmp = tmp.groupby('enc', sort=False).apply(lambda d: addRollingWindowAKI(d,\n",
    "                                                                         cond1time = '52hours',\n",
    "                                                                         cond2time = '172hours'))\n",
    "tmp = tmp.reset_index('enc', drop=True).reset_index()\n",
    "\n",
    "tmp = tmp.groupby('mrn', sort=False).apply(lambda d: addBaselineCreat(d))\n",
    "tmp = tmp.groupby('enc', sort=False).apply(lambda d: addBackCalcAKI(d))"
   ]
  },
  {
   "cell_type": "code",
   "execution_count": 92,
   "metadata": {},
   "outputs": [],
   "source": [
    "t = df.loc[df.mrn == 3660621]\n",
    "t = t.set_index('time')\n",
    "t2 = t.loc[t.admission[0] - pd.Timedelta(hours=172):]\n",
    "#t2.creat.rolling(pd.Timedelta('52hours'), min_periods=1).min().values.shape\n",
    "minc_48 = np.empty(t.shape[0])\n",
    "minc_48[:] = np.nan\n",
    "minc_48[t.shape[0]-t2.shape[0]:] = t2.creat.rolling(pd.Timedelta('52hours'), min_periods=1).min().values\n",
    "t['st'] = minc_48\n",
    "t = addRollingWindowAKI(t)\n",
    "#t['2020-01-29 08:14:00':]"
   ]
  },
  {
   "cell_type": "code",
   "execution_count": null,
   "metadata": {},
   "outputs": [],
   "source": []
  }
 ],
 "metadata": {
  "kernelspec": {
   "display_name": "Python 3",
   "language": "python",
   "name": "python3"
  },
  "language_info": {
   "codemirror_mode": {
    "name": "ipython",
    "version": 3
   },
   "file_extension": ".py",
   "mimetype": "text/x-python",
   "name": "python",
   "nbconvert_exporter": "python",
   "pygments_lexer": "ipython3",
   "version": "3.6.10"
  }
 },
 "nbformat": 4,
 "nbformat_minor": 4
}
