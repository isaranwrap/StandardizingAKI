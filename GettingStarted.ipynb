{
 "cells": [
  {
   "cell_type": "markdown",
   "metadata": {},
   "source": [
    "# Getting started"
   ]
  },
  {
   "cell_type": "code",
   "execution_count": 1,
   "metadata": {},
   "outputs": [],
   "source": [
    "import pandas as pd\n",
    "import numpy as np\n",
    "import random\n",
    "\n",
    "import akiFlagger"
   ]
  },
  {
   "cell_type": "markdown",
   "metadata": {},
   "source": [
    "### Let's start off by creating some toy data"
   ]
  },
  {
   "cell_type": "code",
   "execution_count": 90,
   "metadata": {},
   "outputs": [
    {
     "name": "stdout",
     "output_type": "stream",
     "text": [
      "Number of patients: 100\n",
      "Number of admissions: 100\n",
      "Number of encounters: 606\n"
     ]
    },
    {
     "data": {
      "text/html": [
       "<div>\n",
       "<style scoped>\n",
       "    .dataframe tbody tr th:only-of-type {\n",
       "        vertical-align: middle;\n",
       "    }\n",
       "\n",
       "    .dataframe tbody tr th {\n",
       "        vertical-align: top;\n",
       "    }\n",
       "\n",
       "    .dataframe thead th {\n",
       "        text-align: right;\n",
       "    }\n",
       "</style>\n",
       "<table border=\"1\" class=\"dataframe\">\n",
       "  <thead>\n",
       "    <tr style=\"text-align: right;\">\n",
       "      <th></th>\n",
       "      <th>mrn</th>\n",
       "      <th>enc</th>\n",
       "      <th>admn</th>\n",
       "      <th>time</th>\n",
       "      <th>creat</th>\n",
       "    </tr>\n",
       "  </thead>\n",
       "  <tbody>\n",
       "    <tr>\n",
       "      <th>0</th>\n",
       "      <td>12732</td>\n",
       "      <td>25741.0</td>\n",
       "      <td>2020-02-27 11:42:42</td>\n",
       "      <td>2020-02-29 05:42:42</td>\n",
       "      <td>1.11689</td>\n",
       "    </tr>\n",
       "    <tr>\n",
       "      <th>1</th>\n",
       "      <td>19845</td>\n",
       "      <td>81382.0</td>\n",
       "      <td>2020-05-12 06:02:54</td>\n",
       "      <td>2020-05-08 00:02:54</td>\n",
       "      <td>0.39054</td>\n",
       "    </tr>\n",
       "    <tr>\n",
       "      <th>2</th>\n",
       "      <td>13264</td>\n",
       "      <td>89464.0</td>\n",
       "      <td>2020-01-10 11:16:57</td>\n",
       "      <td>2020-01-12 17:16:57</td>\n",
       "      <td>1.35314</td>\n",
       "    </tr>\n",
       "    <tr>\n",
       "      <th>3</th>\n",
       "      <td>14859</td>\n",
       "      <td>75180.0</td>\n",
       "      <td>2020-06-07 12:27:38</td>\n",
       "      <td>2020-06-10 06:27:38</td>\n",
       "      <td>1.18235</td>\n",
       "    </tr>\n",
       "    <tr>\n",
       "      <th>4</th>\n",
       "      <td>19225</td>\n",
       "      <td>94917.0</td>\n",
       "      <td>2020-03-26 21:16:49</td>\n",
       "      <td>2020-03-28 09:16:49</td>\n",
       "      <td>1.23292</td>\n",
       "    </tr>\n",
       "  </tbody>\n",
       "</table>\n",
       "</div>"
      ],
      "text/plain": [
       "     mrn      enc                admn                time    creat\n",
       "0  12732  25741.0 2020-02-27 11:42:42 2020-02-29 05:42:42  1.11689\n",
       "1  19845  81382.0 2020-05-12 06:02:54 2020-05-08 00:02:54  0.39054\n",
       "2  13264  89464.0 2020-01-10 11:16:57 2020-01-12 17:16:57  1.35314\n",
       "3  14859  75180.0 2020-06-07 12:27:38 2020-06-10 06:27:38  1.18235\n",
       "4  19225  94917.0 2020-03-26 21:16:49 2020-03-28 09:16:49  1.23292"
      ]
     },
     "execution_count": 90,
     "metadata": {},
     "output_type": "execute_result"
    }
   ],
   "source": [
    "np.random.seed(0) #seed for reproducibility\n",
    "\n",
    "#pick admission dates from Jan 1, 2020 to July 1, 2020 (6 month period) and generate time deltas from +- 5 days\n",
    "date_range = (pd.to_datetime('2020-01-01').value // 10**9, pd.to_datetime('2020-07-01').value // 10**9) \n",
    "time_deltas = pd.timedelta_range(start='-5 days', end='5 days', freq='6H')\n",
    "\n",
    "#Generate random MRN #s, admission dates, and encounters\n",
    "#Generate between 3 and 10 encounters for each patient\n",
    "mrns = np.random.randint(10000, 20000, 100)\n",
    "admns = pd.to_datetime(np.random.randint(date_range[0], date_range[1], 100), unit = 's')\n",
    "encs = [np.random.randint(10000, 99999, np.random.randint(3,10)) for mrn, admn in zip(mrns, admns)]\n",
    "creats = np.clip(np.random.normal(loc = 1, scale = 0.3, size=100), a_min = 0, a_max = None)\n",
    "\n",
    "#Combine the two dataframes\n",
    "d1 = pd.DataFrame([mrns, admns, creats]).T\n",
    "d2 = pd.DataFrame(encs)\n",
    "\n",
    "d1.columns = ['mrn', 'admn', 'base_creat']\n",
    "d2 = d2.add_prefix('enc_')\n",
    "\n",
    "df = pd.concat([d1, d2], axis=1)\n",
    "df = pd.melt(df, id_vars = d1.columns, value_name = 'enc').drop('variable', axis=1)\n",
    "\n",
    "#Remove the duplicated & null values and reset the index\n",
    "df = df[np.logical_and(~df.enc.isnull(), ~df.enc.duplicated())].reset_index(drop=True) \n",
    "print('Number of patients: {}\\nNumber of admissions: {}\\nNumber of encounters: {}'.format(df.mrn.unique().shape[0],\n",
    "                                                                                          df.admn.unique().shape[0],\n",
    "                                                                                          df.enc.unique().shape[0]))\n",
    "\n",
    "df['creat'] = np.clip(df.base_creat + np.random.normal(loc = 0, scale = 0.25, size = df.shape[0]), a_min = 0.1, a_max = None)\n",
    "df['time'] = df.admn + np.array([random.choice(time_deltas) for i in range(df.shape[0])])\n",
    "df = df[['mrn', 'enc', 'admn', 'time', 'creat']]\n",
    "df.head()"
   ]
  },
  {
   "cell_type": "code",
   "execution_count": 91,
   "metadata": {},
   "outputs": [
    {
     "ename": "AssertionError",
     "evalue": "",
     "output_type": "error",
     "traceback": [
      "\u001b[0;31m---------------------------------------------------------------------------\u001b[0m",
      "\u001b[0;31mAssertionError\u001b[0m                            Traceback (most recent call last)",
      "\u001b[0;32m<ipython-input-91-a33f4acb6aaa>\u001b[0m in \u001b[0;36m<module>\u001b[0;34m\u001b[0m\n\u001b[0;32m----> 1\u001b[0;31m \u001b[0makiFlagger\u001b[0m\u001b[0;34m.\u001b[0m\u001b[0mreturnAKIpatients\u001b[0m\u001b[0;34m(\u001b[0m\u001b[0mdf\u001b[0m\u001b[0;34m)\u001b[0m\u001b[0;34m\u001b[0m\u001b[0;34m\u001b[0m\u001b[0m\n\u001b[0m",
      "\u001b[0;32m~/Desktop/patr/StandardizingAKI/akiFlagger.py\u001b[0m in \u001b[0;36mreturnAKIpatients\u001b[0;34m(df, aki_calc_type, keep_extra_cols, cond1time, cond2time, eGFR_impute, add_stages)\u001b[0m\n\u001b[1;32m     47\u001b[0m     \u001b[0;32massert\u001b[0m \u001b[0;34m(\u001b[0m\u001b[0;34m'creat'\u001b[0m \u001b[0;32mor\u001b[0m \u001b[0;34m'creatinine'\u001b[0m\u001b[0;34m)\u001b[0m \u001b[0;32min\u001b[0m \u001b[0mdf\u001b[0m\u001b[0;34m.\u001b[0m\u001b[0mcolumns\u001b[0m\u001b[0;34m\u001b[0m\u001b[0;34m\u001b[0m\u001b[0m\n\u001b[1;32m     48\u001b[0m     \u001b[0;32massert\u001b[0m \u001b[0;34m'time'\u001b[0m \u001b[0;32min\u001b[0m \u001b[0mdf\u001b[0m\u001b[0;34m.\u001b[0m\u001b[0mcolumns\u001b[0m\u001b[0;34m\u001b[0m\u001b[0;34m\u001b[0m\u001b[0m\n\u001b[0;32m---> 49\u001b[0;31m     \u001b[0;32massert\u001b[0m \u001b[0;34m'admission'\u001b[0m \u001b[0;32min\u001b[0m \u001b[0mdf\u001b[0m\u001b[0;34m.\u001b[0m\u001b[0mcolumns\u001b[0m\u001b[0;34m\u001b[0m\u001b[0;34m\u001b[0m\u001b[0m\n\u001b[0m\u001b[1;32m     50\u001b[0m \u001b[0;34m\u001b[0m\u001b[0m\n\u001b[1;32m     51\u001b[0m     \u001b[0;31m#Also, if eGFR_impute is True, then we need sex age and race\u001b[0m\u001b[0;34m\u001b[0m\u001b[0;34m\u001b[0m\u001b[0;34m\u001b[0m\u001b[0m\n",
      "\u001b[0;31mAssertionError\u001b[0m: "
     ]
    }
   ],
   "source": [
    "akiFlagger.returnAKIpatients(df)"
   ]
  },
  {
   "cell_type": "code",
   "execution_count": 61,
   "metadata": {},
   "outputs": [
    {
     "data": {
      "text/plain": [
       "(606,)"
      ]
     },
     "execution_count": 61,
     "metadata": {},
     "output_type": "execute_result"
    }
   ],
   "source": [
    "df.creat.unique().shape"
   ]
  },
  {
   "cell_type": "code",
   "execution_count": null,
   "metadata": {},
   "outputs": [],
   "source": []
  }
 ],
 "metadata": {
  "kernelspec": {
   "display_name": "Python 3",
   "language": "python",
   "name": "python3"
  },
  "language_info": {
   "codemirror_mode": {
    "name": "ipython",
    "version": 3
   },
   "file_extension": ".py",
   "mimetype": "text/x-python",
   "name": "python",
   "nbconvert_exporter": "python",
   "pygments_lexer": "ipython3",
   "version": "3.7.6"
  }
 },
 "nbformat": 4,
 "nbformat_minor": 2
}
