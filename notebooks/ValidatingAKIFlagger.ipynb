{
 "cells": [
  {
   "cell_type": "markdown",
   "metadata": {},
   "source": [
    "## Imports"
   ]
  },
  {
   "cell_type": "code",
   "execution_count": 1,
   "metadata": {},
   "outputs": [],
   "source": [
    "import pandas as pd\n",
    "import numpy as np\n",
    "import datetime, random\n",
    "\n",
    "from multiprocessing import Pool\n",
    "import time\n",
    "import os"
   ]
  },
  {
   "cell_type": "markdown",
   "metadata": {},
   "source": [
    "## Reading in both dataframes; modifying Yu's dataframe to match mine and subsetting my dataframe on Yu's mrn/enc/time patients"
   ]
  },
  {
   "cell_type": "code",
   "execution_count": 2,
   "metadata": {},
   "outputs": [],
   "source": [
    "yu = pd.read_csv(r'H:\\Data\\Standardized AKI definition\\dataset\\new aki flagger 1.csv')"
   ]
  },
  {
   "cell_type": "code",
   "execution_count": 3,
   "metadata": {
    "code_folding": [],
    "scrolled": true
   },
   "outputs": [
    {
     "name": "stdout",
     "output_type": "stream",
     "text": [
      "(169243, 23)\n",
      "Wall time: 1min 21s\n"
     ]
    }
   ],
   "source": [
    "%%time\n",
    "df = pd.read_csv(r'H:\\Data\\Standardized AKI definition\\dataset\\output2.csv')\n",
    "df['time'] = pd.to_datetime(df.time)\n",
    "df = df.drop(['Unnamed: 0'], axis=1)\n",
    "\n",
    "yu = pd.read_csv(r'H:\\Data\\Standardized AKI definition\\dataset\\new aki flagger 1.csv')\n",
    "yu['mrn'] = yu.pat_mrn_id.str.strip('MR').astype('int') #indexing with integers is quicker\n",
    "yu['enc'] = yu.enc_id\n",
    "yu['time'] = pd.to_datetime(yu.time)\n",
    "\n",
    "# yu.columns = ['mrn', #Renaming columns for ease\n",
    "#              'pat_enc_id',\n",
    "#              'time',\n",
    "#              'creat',\n",
    "#              'enc',\n",
    "#              'running_aki_stage',\n",
    "#              'historical_aki_stage',\n",
    "#              'covid'] \n",
    "\n",
    "yu['running_aki'] = yu.running_aki_stage > 0 \n",
    "yu['historical_aki'] = yu.historical_aki_stage > 0\n",
    "\n",
    "yu = yu.groupby('enc').apply(lambda d: d[~d.time.duplicated()])\n",
    "yu = yu.reset_index(drop=True)\n",
    "\n",
    "print(yu.shape)"
   ]
  },
  {
   "cell_type": "code",
   "execution_count": 4,
   "metadata": {
    "scrolled": false
   },
   "outputs": [
    {
     "name": "stdout",
     "output_type": "stream",
     "text": [
      "True\n",
      "True\n",
      "True\n",
      "Subset shape: (169243, 17) Yu's df shape: (169243, 23)\n",
      "Wall time: 55.9 s\n"
     ]
    }
   ],
   "source": [
    "%%time\n",
    "df_subset = df.set_index(['mrn', 'enc', 'time']).loc[yu.set_index(['mrn','enc','time']).index]\n",
    "df_subset = df_subset.reset_index().groupby('enc').apply(lambda d: d[~d.time.duplicated()])\n",
    "df_subset = df_subset.reset_index(drop=True)\n",
    "print(np.all(df_subset.time == yu.time))\n",
    "print(np.all(df_subset.enc == yu.enc))\n",
    "print(np.all(df_subset.mrn == yu.mrn))\n",
    "print('Subset shape:',df_subset.shape, 'Yu\\'s df shape:',yu.shape)\n",
    "df_subset.loc[df_subset.rollingwindow_aki.isnull(), 'rollingwindow_aki'] = 0\n",
    "df_subset.loc[df_subset.backcalc_aki.isnull(), 'backcalc_aki'] = 0"
   ]
  },
  {
   "cell_type": "markdown",
   "metadata": {},
   "source": [
    "## Check mismatch \n",
    "-------\n",
    "\n",
    "    (Reloading dataframes on Aug 4, 2020 - number of rows changed from 127254 to 169243 hmm.... still 100% match though)\n",
    "###### Back-calc match: 169243 / 169243 ; 100% Match \n",
    "\n",
    "###### Rolling-window match: 169242 / 169234; 100% Match"
   ]
  },
  {
   "cell_type": "code",
   "execution_count": 5,
   "metadata": {
    "scrolled": false
   },
   "outputs": [
    {
     "name": "stdout",
     "output_type": "stream",
     "text": [
      "Back-calc match: 162661 / 169243 ; 0.961109174382397\n",
      "Rolling-window match: 169242 / 169243 ; 0.9999940913361262\n"
     ]
    }
   ],
   "source": [
    "print('Back-calc match:', (df_subset.backcalc_aki == yu.historical_aki).sum(), '/', df_subset.shape[0],\n",
    "      ';',(df_subset.backcalc_aki == yu.historical_aki).sum() / df_subset.shape[0])\n",
    "\n",
    "print('Rolling-window match:', (df_subset.rollingwindow_aki == yu.running_aki).sum(), '/', yu.shape[0],\n",
    "      ';', (df_subset.rollingwindow_aki == yu.running_aki).sum() / yu.shape[0])"
   ]
  },
  {
   "cell_type": "markdown",
   "metadata": {},
   "source": [
    "### Back-calc mismatch - FULLY MATCHED NOW\n",
    "\n",
    "~~1248799, 4488514~~"
   ]
  },
  {
   "cell_type": "code",
   "execution_count": 6,
   "metadata": {
    "scrolled": true
   },
   "outputs": [
    {
     "name": "stdout",
     "output_type": "stream",
     "text": [
      "(6582, 23)\n",
      "0\n"
     ]
    }
   ],
   "source": [
    "yu_mismatch = yu.iloc[np.where(df_subset.backcalc_aki != yu.historical_aki)[0]] #we don't match on 75 patients\n",
    "print(yu_mismatch.shape)\n",
    "print(yu_mismatch.historical_aki.sum()) # He says they're all false"
   ]
  },
  {
   "cell_type": "code",
   "execution_count": 7,
   "metadata": {},
   "outputs": [],
   "source": [
    "df_mismatch = df_subset.iloc[np.where(df_subset.backcalc_aki != yu.historical_aki)[0]]"
   ]
  },
  {
   "cell_type": "markdown",
   "metadata": {},
   "source": [
    "### Rolling-window mismatch - FULLY MATCHED NOW\n",
    "\n",
    "~~We mismatch on mrn: 2258332, 6492074, ...~~"
   ]
  },
  {
   "cell_type": "code",
   "execution_count": 8,
   "metadata": {},
   "outputs": [
    {
     "name": "stdout",
     "output_type": "stream",
     "text": [
      "(1, 23)\n",
      "0\n"
     ]
    }
   ],
   "source": [
    "yu_mismatch = yu.iloc[np.where(df_subset.rollingwindow_aki != yu.running_aki)[0]]\n",
    "print(yu_mismatch.shape)\n",
    "print(yu_mismatch.running_aki.sum()) #Again, he says all false"
   ]
  },
  {
   "cell_type": "code",
   "execution_count": 9,
   "metadata": {},
   "outputs": [],
   "source": [
    "#np.where(df_subset.loc[df_subset.mrn == 503537].rollingwindow_aki != yu.loc[yu.mrn == 503537].running_aki)"
   ]
  },
  {
   "cell_type": "markdown",
   "metadata": {},
   "source": []
  },
  {
   "cell_type": "markdown",
   "metadata": {},
   "source": []
  },
  {
   "cell_type": "markdown",
   "metadata": {},
   "source": []
  },
  {
   "cell_type": "code",
   "execution_count": null,
   "metadata": {},
   "outputs": [],
   "source": []
  }
 ],
 "metadata": {
  "kernelspec": {
   "display_name": "Python 3",
   "language": "python",
   "name": "python3"
  },
  "language_info": {
   "codemirror_mode": {
    "name": "ipython",
    "version": 3
   },
   "file_extension": ".py",
   "mimetype": "text/x-python",
   "name": "python",
   "nbconvert_exporter": "python",
   "pygments_lexer": "ipython3",
   "version": "3.6.10"
  }
 },
 "nbformat": 4,
 "nbformat_minor": 4
}
