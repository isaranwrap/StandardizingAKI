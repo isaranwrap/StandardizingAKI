{
 "cells": [
  {
   "cell_type": "markdown",
   "metadata": {},
   "source": [
    "## Results notebook\n",
    "---\n",
    "\n",
    "Walking through the steps necessary to generate the results for the AKI Flagger paper. The main results are as follows: \n",
    "\n",
    "- the Venn (Euler) diagrams showing overlap between captured patient groups\n",
    "- the number of patients in each group who go on to have worsening kidney function (proxied by progression in AKI stage), receive dialysis, or die. \n",
    "- "
   ]
  },
  {
   "cell_type": "code",
   "execution_count": 1,
   "metadata": {},
   "outputs": [
    {
     "name": "stdout",
     "output_type": "stream",
     "text": [
      "\n",
      "(base) c:\\Users\\ishan\\Desktop\\ishan\\Projects\\StandardizingAKI\\notebooks>DOSKEY ls=dir \n",
      "\n",
      "(base) c:\\Users\\ishan\\Desktop\\ishan\\Projects\\StandardizingAKI\\notebooks>cls\n",
      "\fRequirement already satisfied: akiFlagger in c:\\users\\ishan\\anaconda3\\lib\\site-packages (1.0.3)\n",
      "Requirement already satisfied: numpy in c:\\users\\ishan\\anaconda3\\lib\\site-packages (from akiFlagger) (1.20.3)\n",
      "Requirement already satisfied: pandas in c:\\users\\ishan\\anaconda3\\lib\\site-packages (from akiFlagger) (1.3.4)\n",
      "Requirement already satisfied: pytz>=2017.3 in c:\\users\\ishan\\anaconda3\\lib\\site-packages (from pandas->akiFlagger) (2021.3)\n",
      "Requirement already satisfied: python-dateutil>=2.7.3 in c:\\users\\ishan\\anaconda3\\lib\\site-packages (from pandas->akiFlagger) (2.8.2)\n",
      "Requirement already satisfied: six>=1.5 in c:\\users\\ishan\\anaconda3\\lib\\site-packages (from python-dateutil>=2.7.3->pandas->akiFlagger) (1.16.0)\n"
     ]
    }
   ],
   "source": [
    "!pip install akiFlagger"
   ]
  },
  {
   "cell_type": "code",
   "execution_count": 2,
   "metadata": {
    "scrolled": true
   },
   "outputs": [],
   "source": [
    "# Imports\n",
    "import numpy as np\n",
    "import pandas as pd\n",
    "import matplotlib.pyplot as plt\n",
    "\n",
    "import os\n",
    "import sys\n",
    "\n",
    "import seaborn as sns\n",
    "from akiFlagger import AKIFlagger\n",
    "from matplotlib_venn import venn3\n",
    "\n",
    "from sklearn.metrics import confusion_matrix, roc_auc_score"
   ]
  },
  {
   "cell_type": "markdown",
   "metadata": {},
   "source": [
    "### User-defined functions\n",
    "\n",
    "***\n",
    "*plotAKIoverlap()* generates Euler plots (Venn diagrams) for the overlap between captured patient groups for each of the definitions\n",
    "\n",
    "    Args:\n",
    "        dataFRAME (pd.Dataframe) the dataframe with each of the AKI definitions\n",
    "        stage (int) the stage of AKI to select by\n",
    "        \n",
    "*printDescriptiveStatistics()* prints the sensitivity, specificity, precision, F1 score, positive and negative predictive values (PPV/NPV) for a given (yTRUE, yPRED) pair combin\n",
    "\n",
    "    Args: \n",
    "        dataFRAME (pd.Dataframe) the datamframe with each of the AKI definitions\n",
    "        yTRUE (string) ground truth / outcome variable; expected to be a column in dataFRAME \n",
    "        yPRED (string) prediction / AKI definition; expected to be a column in the dataFRAME"
   ]
  },
  {
   "cell_type": "code",
   "execution_count": 3,
   "metadata": {
    "code_folding": [
     0,
     11
    ]
   },
   "outputs": [],
   "source": [
    "def plotAKIoverlap(dataFRAME, stage = 1, returnCapturedPatients = False, plot = True):\n",
    "    ''' Plotting function to illustrate the differences between which patient populations are captured by each definition\n",
    "    '''\n",
    "    captured_patients = dict()\n",
    "    captured_patientsLIST = [set(dataFRAME[dataFRAME[col] > stage - 1].index.get_level_values(level='patient_id').unique()) for col in dataFRAME]\n",
    "    captured_patients[flaggerDefinitions[0]], captured_patients[flaggerDefinitions[1]], captured_patients[flaggerDefinitions[2]] = captured_patientsLIST \n",
    "\n",
    "    if returnCapturedPatients & plot:\n",
    "        return captured_patients, venn3(\n",
    "            subsets = [captured_patients[flaggerDefinitions[0]], \n",
    "            captured_patients[flaggerDefinitions[1]], \n",
    "            captured_patients[flaggerDefinitions[2]]], set_labels = tuple(df for df in flaggerDefinitions)\n",
    "        )\n",
    "\n",
    "    if returnCapturedPatients:\n",
    "        return captured_patients\n",
    "    \n",
    "    if plot:\n",
    "        return venn3(\n",
    "            subsets = [captured_patients[flaggerDefinitions[0]], \n",
    "            captured_patients[flaggerDefinitions[1]], \n",
    "            captured_patients[flaggerDefinitions[2]]], set_labels = tuple(df for df in flaggerDefinitions)\n",
    "        )\n",
    "\n",
    "def printDescriptiveStatistics(dataFRAME = None, level = \"creatinine\",\n",
    "                               yTRUE = None, yPRED = None):\n",
    "    ''' \n",
    "    For a given definition & percent increase, find the confusion matrix (& print corresponding descriptive statistics)\n",
    "    Each of these. \n",
    "    '''\n",
    "\n",
    "    #yTRUE = dataFRAME.outcome\n",
    "    #yPRED = dataFRAME[AKIdefinitions[AKIdefinitions.index(definitionOfInterest)]]\n",
    "    yTRUE = dataFRAME[yTRUE]\n",
    "    yPRED = dataFRAME[yPRED]\n",
    "    \n",
    "    TN, FP, FN, TP = confusion_matrix(yTRUE, yPRED).ravel()\n",
    "    AUC = roc_auc_score(yTRUE, yPRED)\n",
    "\n",
    "    SENS = TP / (TP + FN)\n",
    "    SPEC = TN / (TN + FP)\n",
    "    PREC = TP / (TP + FP)\n",
    "    F1Sc = 2*TP / (2*TP + (FP+FN))\n",
    "\n",
    "    PPV = TP / (TP + FP)\n",
    "    NPV = TN / (TN + FN)\n",
    "\n",
    "    STATS = np.array([SENS, SPEC, PREC, F1Sc, PPV, NPV, AUC])\n",
    "\n",
    "    print('''\n",
    "    SENS: {}\n",
    "    SPEC: {}\n",
    "    PREC: {}\n",
    "    F1 score: {}\n",
    "\n",
    "    PPV: {}\n",
    "    NPV: {}\n",
    "\n",
    "    AUC: {}\n",
    "\n",
    "    '''.format(*np.round(STATS, decimals = 3)))\n",
    "    print(\"TN: {}, FP: {}. FN: {}, TP: {}\".format(TN, FP, FN, TP), \" <- CM raveled\")\n",
    "\n",
    "    return(confusion_matrix(yTRUE, yPRED))\n",
    "\n",
    "def plotCreatinineTrajectory(MRN, rows = None):\n",
    "    plotSubset = flaggerOutput.loc[flaggerOutput.index.get_level_values(level='patient_id') == MRN]\n",
    "    plotSubset = plotSubset.merge(df.set_index(index).creatinine, on = index) # Add in the creatinine values from df\n",
    "    plotSubset = plotSubset[rows]\n",
    "\n",
    "    fig, ax = plt.subplots(nrows=1, ncols=1)\n",
    "    plt.plot(plotSubset.index.get_level_values(level='time'), plotSubset.creatinine)\n",
    "    plt.xlabel('Time')\n",
    "    plt.ylabel('Creatinine')"
   ]
  },
  {
   "cell_type": "markdown",
   "metadata": {},
   "source": [
    "### Parameters\n",
    "---\n",
    "\n",
    "#### _General parameters_\n",
    "\n",
    "*STAGE* is the staging of AKI; 1 2 or 3. \n",
    "\n",
    "*index* is a Python multi-index (id est hierarchical index) \n",
    "\n",
    "*flaggerDefinitions* \n",
    "\n",
    "#### _Flagger parameters_\n",
    "\n",
    "The definitions are specified as boolean parameters within the internal function (the main `AKIFlagger` class and the `returnAKIpatients()` function). The dictionary is essentially a mapping between the flagger definitions are string inputs to the boolean inputs; a more human-readable input into a 3D bool vector. \n",
    "\n",
    "`padding` defaults to 4 hours; I am *explicitly* mentioning this here to make it clear (the first small divergence from the KDIGO definitions."
   ]
  },
  {
   "cell_type": "code",
   "execution_count": 5,
   "metadata": {},
   "outputs": [],
   "source": [
    "# Parameters\n",
    "STAGE = 1 \n",
    "index = [\"patient_id\", \"time\"]\n",
    "flaggerDefinitions = [\"RMW\", \"HBT\", \"BCI\"]\n",
    "dataFolder = r\"H:\\AKIFlagger\\output\"\n",
    "dataPath = os.path.join(dataFolder, \"flaggerInput.csv\")\n",
    "outcomesPath = os.path.join(dataFolder, \"flaggerOutcomes.csv\") #H:\\AKIFlagger\\output\\flagger creatinine data 04-20-2022.csv\n",
    "outcomeCols = [\"death_time\", \"dialysis_time\", \"progression_time\"]\n",
    "selectCols = [\"patient_id\", \"time\", \"inpatient\", \"creatinine\", \"age\", \"sex\", \"admission\", # Flagger input columns\n",
    "              \"admit_creatinine\"] + outcomeCols # Outcome columns\n",
    "vennOutPath = \"vennDiagrams\" # Save directories\n",
    "colors = {\n",
    "    '###': 'green', # Replace ### with \n",
    "    '###': 'green', # \n",
    "    '###': 'red',   # (examplePatientsRMW)\n",
    "    '###': 'green', # \n",
    "    '###': 'green'  # 5 mrns in total\n",
    "}\n",
    "\n",
    "# Flagger-specific parameters\n",
    "fParams = dict() # A mapping between definition strings and booleans\n",
    "fParams[flaggerDefinitions[0]] = {\"RM_window\": True, \"HB_trumping\": False, \"eGFR_impute\": False}\n",
    "fParams[flaggerDefinitions[1]] = {\"RM_window\": False, \"HB_trumping\": True, \"eGFR_impute\": False}\n",
    "fParams[flaggerDefinitions[2]] = {\"RM_window\": False, \"HB_trumping\": True, \"eGFR_impute\": True}\n",
    "padding = '4hours'"
   ]
  },
  {
   "cell_type": "markdown",
   "metadata": {},
   "source": [
    "### Read in the data; take a peak at what the input looks like"
   ]
  },
  {
   "cell_type": "code",
   "execution_count": 31,
   "metadata": {},
   "outputs": [
    {
     "name": "stdout",
     "output_type": "stream",
     "text": [
      "(499942, 11)\n"
     ]
    }
   ],
   "source": [
    "# Read in data\n",
    "pDF1 = pd.read_csv(dataPath)\n",
    "pDF1['time'] = pd.to_datetime(pDF1.time)\n",
    "pDF1 = pDF1.rename(columns= {\"pat_mrn_id\": \"patient_id\",\n",
    "                             \"hosp_admsn_time\": \"admission\"})\n",
    "\n",
    "pDF1 = pDF1.loc[:, selectCols]\n",
    "flaggerInput = pDF1\n",
    "outcomes = pDF1.loc[:, outcomeCols]\n",
    "print(pDF1.shape)\n",
    "#pDF1.head()"
   ]
  },
  {
   "cell_type": "markdown",
   "metadata": {},
   "source": [
    "### Run the AKIFlagger "
   ]
  },
  {
   "cell_type": "code",
   "execution_count": null,
   "metadata": {},
   "outputs": [],
   "source": [
    "# Run the flagger\n",
    "_flaggerOutput = [AKIFlagger(**fParams[flaggerDefinitions[0]]).returnAKIpatients(flaggerInput).aki,\n",
    "                    AKIFlagger(**fParams[flaggerDefinitions[1]]).returnAKIpatients(flaggerInput).aki,\n",
    "                    AKIFlagger(**fParams[flaggerDefinitions[2]]).returnAKIpatients(flaggerInput).aki]\n",
    "flaggerOutput = pd.concat([i for i in _flaggerOutput], axis = 1)\n",
    "flaggerOutput.columns = [\"RMW\", \"HBT\", \"BCI\"]\n",
    "print(flaggerOutput.shape)\n",
    "print(flaggerInput.shape)\n",
    "flaggerOutput.head()"
   ]
  },
  {
   "cell_type": "code",
   "execution_count": 8,
   "metadata": {
    "scrolled": false
   },
   "outputs": [
    {
     "name": "stderr",
     "output_type": "stream",
     "text": [
      "c:\\Users\\ishan\\anaconda3\\lib\\site-packages\\matplotlib_venn\\_venn3.py:117: UserWarning: Bad circle positioning\n",
      "  warnings.warn(\"Bad circle positioning\")\n"
     ]
    },
    {
     "data": {
      "text/plain": [
       "<matplotlib_venn._common.VennDiagram at 0x29838afdc0>"
      ]
     },
     "execution_count": 8,
     "metadata": {},
     "output_type": "execute_result"
    },
    {
     "data": {
      "image/png": "[encoded data removed]",
      "text/plain": [
       "<Figure size 432x288 with 1 Axes>"
      ]
     },
     "metadata": {},
     "output_type": "display_data"
    },
    {
     "data": {
      "image/png": "[encoded data removed]",
      "text/plain": [
       "<Figure size 432x288 with 1 Axes>"
      ]
     },
     "metadata": {},
     "output_type": "display_data"
    },
    {
     "data": {
      "image/png": "[encoded data removed]",
      "text/plain": [
       "<Figure size 432x288 with 1 Axes>"
      ]
     },
     "metadata": {},
     "output_type": "display_data"
    }
   ],
   "source": [
    "STAGE = 1\n",
    "plt.figure()\n",
    "plotAKIoverlap(flaggerOutput, stage = STAGE)\n",
    "#plt.savefig(os.path.join(dataFolder, vennOutPath, \"01stage{}overlap.png\".format(STAGE)))\n",
    "\n",
    "STAGE = 2\n",
    "plt.figure()\n",
    "plotAKIoverlap(flaggerOutput, stage = STAGE)\n",
    "#plt.savefig(os.path.join(dataFolder, vennOutPath, \"01stage{}overlap.png\".format(STAGE)))\n",
    "\n",
    "\n",
    "STAGE = 3\n",
    "plt.figure()\n",
    "plotAKIoverlap(flaggerOutput, stage = STAGE)\n",
    "#plt.savefig(os.path.join(dataFolder, vennOutPath, \"01stage{}overlap.png\".format(STAGE)))"
   ]
  },
  {
   "cell_type": "code",
   "execution_count": 9,
   "metadata": {},
   "outputs": [
    {
     "name": "stdout",
     "output_type": "stream",
     "text": [
      "-------------------\n",
      "CONFUSION MATRICES: \n",
      "(creatinine-level)\n",
      "-------------------\n",
      "\n",
      "    SENS: 0.713\n",
      "    SPEC: 0.941\n",
      "    PREC: 0.233\n",
      "    F1 score: 0.351\n",
      "\n",
      "    PPV: 0.233\n",
      "    NPV: 0.992\n",
      "\n",
      "    AUC: 0.827\n",
      "\n",
      "    \n",
      "TN: 458791, FP: 28874. FN: 3521, TP: 8756  <- CM raveled\n",
      "----------------------------------------\n",
      "\n",
      "    SENS: 0.74\n",
      "    SPEC: 0.916\n",
      "    PREC: 0.182\n",
      "    F1 score: 0.293\n",
      "\n",
      "    PPV: 0.182\n",
      "    NPV: 0.993\n",
      "\n",
      "    AUC: 0.828\n",
      "\n",
      "    \n",
      "TN: 446888, FP: 40777. FN: 3188, TP: 9089  <- CM raveled\n",
      "----------------------------------------\n",
      "\n",
      "    SENS: 0.781\n",
      "    SPEC: 0.861\n",
      "    PREC: 0.124\n",
      "    F1 score: 0.214\n",
      "\n",
      "    PPV: 0.124\n",
      "    NPV: 0.994\n",
      "\n",
      "    AUC: 0.821\n",
      "\n",
      "    \n",
      "TN: 419758, FP: 67907. FN: 2689, TP: 9588  <- CM raveled\n",
      "----------------------------------------\n"
     ]
    }
   ],
   "source": [
    "STAGE = 1\n",
    "df = flaggerInput.merge(flaggerOutput > STAGE - 1, on = [\"patient_id\", \"time\"]) # Handles the boolean conversion\n",
    "df['outcome'] = df['creatinine'] >= df['admit_creatinine']*2\n",
    "\n",
    "# First, by creatinine\n",
    "print(\"-------------------\")\n",
    "print(\"CONFUSION MATRICES: \\n(creatinine-level)\")\n",
    "print(\"-------------------\")\n",
    "printDescriptiveStatistics(dataFRAME = df, level = 'creatinine',\n",
    "                           yTRUE = 'outcome', yPRED = 'RMW')\n",
    "print(\"----------------------------------------\")\n",
    "printDescriptiveStatistics(dataFRAME = df, level = 'creatinine',\n",
    "                           yTRUE = 'outcome', yPRED = 'HBT')\n",
    "print(\"----------------------------------------\")\n",
    "printDescriptiveStatistics(dataFRAME = df, level = 'creatinine',\n",
    "                           yTRUE = 'outcome', yPRED = 'BCI')\n",
    "print(\"----------------------------------------\")"
   ]
  },
  {
   "cell_type": "code",
   "execution_count": 10,
   "metadata": {},
   "outputs": [
    {
     "name": "stdout",
     "output_type": "stream",
     "text": [
      "-------------------\n",
      "CONFUSION MATRICES: \n",
      "(patient-level)\n",
      "-------------------\n",
      "\n",
      "    SENS: 0.859\n",
      "    SPEC: 0.824\n",
      "    PREC: 0.17\n",
      "    F1 score: 0.283\n",
      "\n",
      "    PPV: 0.17\n",
      "    NPV: 0.993\n",
      "\n",
      "    AUC: 0.842\n",
      "\n",
      "    \n",
      "TN: 31714, FP: 6780. FN: 227, TP: 1385  <- CM raveled\n",
      "----------------------------------------\n",
      "\n",
      "    SENS: 0.883\n",
      "    SPEC: 0.774\n",
      "    PREC: 0.14\n",
      "    F1 score: 0.242\n",
      "\n",
      "    PPV: 0.14\n",
      "    NPV: 0.994\n",
      "\n",
      "    AUC: 0.828\n",
      "\n",
      "    \n",
      "TN: 29786, FP: 8708. FN: 189, TP: 1423  <- CM raveled\n",
      "----------------------------------------\n",
      "\n",
      "    SENS: 0.927\n",
      "    SPEC: 0.684\n",
      "    PREC: 0.109\n",
      "    F1 score: 0.196\n",
      "\n",
      "    PPV: 0.109\n",
      "    NPV: 0.996\n",
      "\n",
      "    AUC: 0.805\n",
      "\n",
      "    \n",
      "TN: 26313, FP: 12181. FN: 117, TP: 1495  <- CM raveled\n",
      "----------------------------------------\n"
     ]
    }
   ],
   "source": [
    "# Then, by patient\n",
    "\n",
    "#combined_filterANY = flaggerOutput.groupby('patient_id').filter(lambda s: np.any(s))\n",
    "# If extra time, see what combined_filterANY is returning\n",
    "yPREDs = flaggerOutput.groupby('patient_id').any() # This is what I'm looking for : are there ANY \n",
    "df_ptlvl = yPREDs.merge(df.groupby('patient_id').outcome.any(), on = \"patient_id\")\n",
    "\n",
    "# ez\n",
    "print(\"-------------------\")\n",
    "print(\"CONFUSION MATRICES: \\n(patient-level)\")\n",
    "print(\"-------------------\")\n",
    "printDescriptiveStatistics(dataFRAME = df_ptlvl, level = 'creatinine',\n",
    "                           yTRUE = 'outcome', yPRED = 'RMW')\n",
    "print(\"----------------------------------------\")\n",
    "printDescriptiveStatistics(dataFRAME = df_ptlvl, level = 'creatinine',\n",
    "                           yTRUE = 'outcome', yPRED = 'HBT')\n",
    "print(\"----------------------------------------\")\n",
    "printDescriptiveStatistics(dataFRAME = df_ptlvl, level = 'creatinine',\n",
    "                           yTRUE = 'outcome', yPRED = 'BCI')\n",
    "print(\"----------------------------------------\")"
   ]
  },
  {
   "cell_type": "markdown",
   "metadata": {},
   "source": [
    "### Example patients flagged as AKI\n",
    "\n",
    "#### Basic measurement characteristics of patient data\n",
    "---\n",
    "`flaggerOutput.groupby('patient_id').count().RMW`  shows the number "
   ]
  },
  {
   "cell_type": "code",
   "execution_count": 11,
   "metadata": {},
   "outputs": [
    {
     "data": {
      "text/plain": [
       "['MR2110315']"
      ]
     },
     "execution_count": 11,
     "metadata": {},
     "output_type": "execute_result"
    }
   ],
   "source": [
    "captured_patients = plotAKIoverlap(flaggerOutput, stage = 1, returnCapturedPatients=True, plot = False)\n",
    "examplePatientsRMW = list(captured_patients['RMW'])[:1]\n",
    "examplePatientsRMW"
   ]
  },
  {
   "cell_type": "code",
   "execution_count": 13,
   "metadata": {},
   "outputs": [
    {
     "data": {
      "text/plain": [
       "[<matplotlib.lines.Line2D at 0x29aa9127c0>]"
      ]
     },
     "execution_count": 13,
     "metadata": {},
     "output_type": "execute_result"
    },
    {
     "data": {
      "image/png": "[encoded data removed]",
      "text/plain": [
       "<Figure size 432x288 with 1 Axes>"
      ]
     },
     "metadata": {
      "needs_background": "light"
     },
     "output_type": "display_data"
    }
   ],
   "source": [
    "plotSubset = flaggerOutput.loc[flaggerOutput.index.get_level_values(level='patient_id').isin(examplePatientsRMW)]\n",
    "plotSubset = plotSubset.merge(df.set_index(index).creatinine, on = index) # Add in the creatinine values from df\n",
    "# plotSubset = plotSubset.reset_index()\n",
    "# plotSubset['color'] = plotSubset.patient_id.map(colors)\n",
    "# plotSubset_ = plotSubset.pivot(index = 'time', columns = 'color', values = 'creatinine')\n",
    "# plotSubset_.plot(color = plotSubset_.columns)\n",
    "\n",
    "# Plotting\n",
    "fig, ax = plt.subplots(nrows=1, ncols=1)\n",
    "plt.plot(plotSubset.index.get_level_values(level='time'), plotSubset.creatinine)"
   ]
  },
  {
   "cell_type": "code",
   "execution_count": 29,
   "metadata": {},
   "outputs": [
    {
     "data": {
      "image/png": "[encoded data removed]",
      "text/plain": [
       "<Figure size 432x288 with 1 Axes>"
      ]
     },
     "metadata": {
      "needs_background": "light"
     },
     "output_type": "display_data"
    }
   ],
   "source": [
    "plotCreatinineTrajectory('MR2110315', rows = slice(0,4))asdf"
   ]
  },
  {
   "cell_type": "code",
   "execution_count": 30,
   "metadata": {},
   "outputs": [],
   "source": [
    "#captured_patients['RMW'].intersection(captured_patients['HBT']) # HBT & RMW\n",
    "#captured_patients['HBT'].intersection(captured_patients['HBT']).intersection(captured_patients['BCI'])"
   ]
  },
  {
   "cell_type": "code",
   "execution_count": null,
   "metadata": {},
   "outputs": [],
   "source": [
    "examplePatient = None # Replace with sample patient \n",
    "e1_creatTS = df.loc[df.patient_id == examplePatient, ['time', 'creatinine', 'RMW']]\n",
    "plt.plot(e1_creatTS.time, e1_creatTS.creatinine)\n",
    "plt.xlabel(\"time\")\n",
    "plt.ylabel(\"creatinine\")\n",
    "for t_aki in e1_creatTS[e1_creatTS.RMW].time:\n",
    "    plt.arrow(x = t_aki, y = 0.3, dx=0, dy=0.5, width=0.08, color = '#FFEBC1')\n",
    "    \n",
    "# Parameters \n",
    "creatTS = df.loc[df.patient_id == examplePatient, ['time', 'creatinine', 'RMW']] # this is the raw time series of the patient\n",
    "draws = 10 # How many times to draw the line\n",
    "diff_linewidth = 1.05 # Different line widths each draw\n",
    "alpha_value = 0.03 # Alpha values of glow effect\n",
    "glow_size = 5 # Glow linewidth\n",
    "mainDrawColor = \"#eae8ff\"\n",
    "bgColor = \"#361F27\"\n",
    "# Nice colors (main trajectory): \n",
    "# green - \"#00a676\"\n",
    "# pink - fe938c\n",
    "# yellowgreen - E2F89C\n",
    "# Laurel green - bdc4a7\n",
    "# lavendar - eae8ff\n",
    "\n",
    "# FIGURE 1: Create a figure for the creatinine trajectory\n",
    "fig, ax = plt.subplots(figsize=(10,6))\n",
    "plt.plot(creatTS.time, creatTS.creatinine, color = mainDrawColor) \n",
    "plt.xlabel(\"time\")\n",
    "plt.ylabel(\"creatinine\")\n",
    "\n",
    "\n",
    "arrowBounds = [sum(_) for _ in zip(list(e1_creatTS[e1_creatTS.RMW].creatinine)*3, [-0.3, 0, 0.3])]\n",
    "\n",
    "axProps = dict()\n",
    "axProps['text'] = \"AKI event\"\n",
    "axProps['xy'] = (t_aki, arrowBounds[1])\n",
    "axProps['xytext'] = (t_aki, arrowBounds[2])\n",
    "axProps['arrowprops'] = {'arrowstyle': '-|>'}\n",
    "axProps['va'] = 'center'\n",
    "for t_aki in e1_creatTS[e1_creatTS.RMW].time:\n",
    "    axProps = dict()\n",
    "    axProps['text'] = \"AKI event\"\n",
    "    axProps['xy'] = (t_aki, arrowBounds[1])\n",
    "    axProps['xytext'] = (t_aki, arrowBounds[2])\n",
    "    axProps['arrowprops'] = {'arrowstyle': '-|>'}\n",
    "    axProps['va'] = 'center'\n",
    "    ax.annotate(**axProps)\n",
    "ax.set_facecolor(bgColor)\n",
    "# Neon effect:\n",
    "draws = 10 # How many times to draw the line\n",
    "diff_linewidth = 1.05 # Different line widths each draw\n",
    "alpha_value = 0.03 # Alpha values of glow effect\n",
    "glow_size = 5 # Glow linewidth\n",
    "\n",
    "for n in range(draws):\n",
    "    ax.plot(creatTS.time, creatTS.creatinine, color = mainDrawColor,\n",
    "            linewidth=glow_size+(diff_linewidth*n), alpha = alpha_value)\n",
    "# Nice colors (background):\n",
    "# dark grey - #5d576b\n",
    "# beige - #EFD09E\n",
    "# burgundy - #361F27"
   ]
  },
  {
   "cell_type": "code",
   "execution_count": null,
   "metadata": {},
   "outputs": [],
   "source": [
    "# Define time to AKI event (from admission)\n",
    "\n",
    "# df[~df['death_time'].isnull()]\n",
    "df['aki.{}_time'.format(flaggerDefinitions[0])] = df[df.RMW > 0].time\n",
    "df['time2aki'] = df['aki.RMW_time'] - pd.to_datetime(df.admission)\n",
    "# plt.hist(df['time2aki'].astype('timedelta64[h]'))\n",
    "# sns.distplot(df.time2aki.astype('timedelta64[h]'))\n",
    "plt.hist(df['time2aki'].astype('timedelta64[h]'))"
   ]
  },
  {
   "cell_type": "code",
   "execution_count": null,
   "metadata": {},
   "outputs": [],
   "source": [
    "#plt.hist(df['time2aki'].astype('timedelta64[h]'))\n",
    "#sns.distplot(df.time2aki.astype('timedelta64[h]'))\n",
    "plt.hist(df['time2aki'].astype('timedelta64[h]'))"
   ]
  },
  {
   "cell_type": "markdown",
   "metadata": {},
   "source": [
    "---\n",
    "\n",
    "*changing up a bit here; work in progress...*\n",
    "\n",
    "---\n"
   ]
  },
  {
   "cell_type": "code",
   "execution_count": null,
   "metadata": {},
   "outputs": [],
   "source": [
    "dataFolder\n",
    "#pd.read_csv(os.path.join(dataFolder, \"flaggerInput.csv\"))"
   ]
  },
  {
   "cell_type": "code",
   "execution_count": null,
   "metadata": {},
   "outputs": [],
   "source": [
    "captured_patients = dict()\n",
    "captured_patientsLIST = [set(pDF1[pDF1[col] > STAGE - 1].index.get_level_values(level='patient_id').unique()) for col in flaggerDefinitions]\n",
    "captured_patients[flaggerDefinitions[0]], captured_patients[flaggerDefinitions[1]], captured_patients[flaggerDefinitions[2]] = captured_patientsLIST "
   ]
  },
  {
   "cell_type": "code",
   "execution_count": null,
   "metadata": {},
   "outputs": [],
   "source": [
    "for DFN, SET in captured_patients.items():\n",
    "    print(DFN, len(SET))\n",
    "    print(\"{DFN}\")\n",
    "\n",
    "    print(len(SET) / pDF1.index.get_level_values(level=\"patient_id\").nunique())"
   ]
  },
  {
   "cell_type": "code",
   "execution_count": null,
   "metadata": {},
   "outputs": [],
   "source": [
    "pDF1.index.get_level_values(level=\"patient_id\").nunique()"
   ]
  },
  {
   "cell_type": "code",
   "execution_count": null,
   "metadata": {},
   "outputs": [],
   "source": [
    "# Read in data\n",
    "pDF1 = pd.read_csv(dataPath)\n",
    "pDF1['time'] = pd.to_datetime(pDF1.time)\n",
    "print(pDF1.shape)\n",
    "\n",
    "qDF2 = pd.read_csv(outcomesPath)\n",
    "qDF2['time'] = pd.to_datetime(qDF2.time)\n",
    "print(qDF2.shape)\n",
    "\n",
    "assert np.all(pDF1[['patient_id', 'time']] == qDF2[['patient_id', 'time']]) # CHECK\n",
    "# Combine dataframe with definitions with dataframe with (hard) outcomes\n",
    "combined = pDF1.merge(qDF2)\n",
    "\n",
    "# Add in admission column\n",
    "combined = f.returnAKIpatients(combined)\n",
    "combined['admission'] = combined['imputed_admission']\n",
    "combined = combined.drop(['imputed_admission', 'aki'], axis = 1)\n",
    "combined = combined.reset_index()"
   ]
  },
  {
   "cell_type": "code",
   "execution_count": null,
   "metadata": {},
   "outputs": [],
   "source": [
    "# Write out the dataFRAME with the admission column\n",
    "outPath =  os.path.join(dataFolder, \"flaggerAdmission.csv\")\n",
    "combined.to_csv(outPath, index = False)\n",
    "\n",
    "# Right after writing out, Yu mentioned the problem that one patient has multiple\n",
    "# admissions in a dataset which theoretically only contains the first encounters...\n",
    "# Something strange is happening"
   ]
  },
  {
   "cell_type": "code",
   "execution_count": null,
   "metadata": {},
   "outputs": [],
   "source": [
    " # Create outcome3: Creatinine >= 2x creatinine at admission\n",
    "combined['admissionCreatinine'] = combined.loc[combined.time == combined.admission].creatinine\n",
    "combined['admissionCreatinine'] = combined.admissionCreatinine.ffill() # Find admit creat\n",
    "\n",
    "combined['outcome3'] = combined.creatinine >= 2*combined.admissionCreatinine\n",
    "combined.head()"
   ]
  },
  {
   "cell_type": "code",
   "execution_count": null,
   "metadata": {},
   "outputs": [],
   "source": [
    "#\"H:\\AKIFlagger\\output\\flagger creatinine data 03-28-2022.csv\""
   ]
  },
  {
   "cell_type": "code",
   "execution_count": null,
   "metadata": {},
   "outputs": [],
   "source": [
    "comb_olpp = combined[['patient_id', 'RMW', 'HBT', 'BCI']].groupby('patient_id').any()\n",
    "comb_olpp['outcome3'] = combined.groupby('patient_id').outcome3.any()"
   ]
  },
  {
   "cell_type": "code",
   "execution_count": null,
   "metadata": {},
   "outputs": [],
   "source": [
    "comb_olpp.head()"
   ]
  },
  {
   "cell_type": "code",
   "execution_count": null,
   "metadata": {},
   "outputs": [],
   "source": [
    "cmRMW = printDescriptiveStatistics(yTRUE = \"outcome3\", yPRED = flaggerDefinitions[0], dataFRAME = comb_olpp)\n",
    "cmHBT = printDescriptiveStatistics(yTRUE = \"outcome3\", yPRED = flaggerDefinitions[1], dataFRAME = comb_olpp)\n",
    "cmBCI = printDescriptiveStatistics(yTRUE = \"outcome3\", yPRED = flaggerDefinitions[2], dataFRAME = comb_olpp)\n",
    "\n",
    "## Check \n",
    "print(7698 + 2762 == comb_olpp[comb_olpp[flaggerDefinitions[0]] > 0].index.nunique())\n",
    "print(9389 + 3083 == comb_olpp[comb_olpp[flaggerDefinitions[1]] > 0].index.nunique())\n",
    "print(9389 + 3083 == comb_olpp[comb_olpp[flaggerDefinitions[2]] > 0].index.nunique())\n",
    "print([comb_olpp[comb_olpp[flaggerDefinitions[d]] > 0].index.nunique() for d in range(3)])"
   ]
  },
  {
   "cell_type": "code",
   "execution_count": null,
   "metadata": {},
   "outputs": [],
   "source": []
  }
 ],
 "metadata": {
  "interpreter": {
   "hash": "8bd05fd91d1085a9a77d969e102fce6dc1c4b7051d41da81d76bd66ece24e82e"
  },
  "kernelspec": {
   "display_name": "Python 3.9.7",
   "language": "python",
   "name": "python3"
  },
  "language_info": {
   "codemirror_mode": {
    "name": "ipython",
    "version": 3
   },
   "file_extension": ".py",
   "mimetype": "text/x-python",
   "name": "python",
   "nbconvert_exporter": "python",
   "pygments_lexer": "ipython3",
   "version": "3.9.7"
  }
 },
 "nbformat": 4,
 "nbformat_minor": 4
}
