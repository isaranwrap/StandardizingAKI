{
 "cells": [
  {
   "cell_type": "markdown",
   "metadata": {},
   "source": [
    "## Imports"
   ]
  },
  {
   "cell_type": "code",
   "execution_count": 1,
   "metadata": {},
   "outputs": [],
   "source": [
    "import pandas as pd\n",
    "import numpy as np\n",
    "import datetime, random\n",
    "\n",
    "from multiprocessing import Pool\n",
    "import time\n",
    "import os"
   ]
  },
  {
   "cell_type": "markdown",
   "metadata": {},
   "source": [
    "## Reading in files; managing columns"
   ]
  },
  {
   "cell_type": "code",
   "execution_count": 2,
   "metadata": {
    "code_folding": [
     9
    ],
    "scrolled": true
   },
   "outputs": [
    {
     "name": "stdout",
     "output_type": "stream",
     "text": [
      "(127254, 10)\n",
      "Wall time: 26.2 s\n"
     ]
    }
   ],
   "source": [
    "%%time\n",
    "df = pd.read_csv(r'H:\\Data\\Standardized AKI definition\\dataset\\output.csv')\n",
    "df['time'] = pd.to_datetime(df.time)\n",
    "df = df.drop(['Unnamed: 0'], axis=1)\n",
    "\n",
    "yu = pd.read_csv(r'H:\\Data\\Standardized AKI definition\\dataset\\aki flagger covid creatinines with covidtest.csv')\n",
    "yu['pat_mrn_id'] = yu.pat_mrn_id.str.strip('MR').astype('int') #indexing with integers is quicker\n",
    "yu['time'] = pd.to_datetime(yu.time)\n",
    "yu['covidtest'] = yu.covidtest.astype('bool')\n",
    "yu.columns = ['mrn', #Renaming columns for ease\n",
    "              'pat_enc_id',\n",
    "              'time',\n",
    "              'creat',\n",
    "              'enc',\n",
    "              'running_aki_stage',\n",
    "              'historical_aki_stage',\n",
    "              'covid'] \n",
    "\n",
    "yu['running_aki'] = yu.running_aki_stage > 0 \n",
    "yu['historical_aki'] = yu.historical_aki_stage > 0\n",
    "\n",
    "yu = yu.groupby('enc').apply(lambda d: d[~d.time.duplicated()])\n",
    "yu = yu.reset_index(drop=True)\n",
    "\n",
    "print(yu.shape)"
   ]
  },
  {
   "cell_type": "code",
   "execution_count": 3,
   "metadata": {
    "scrolled": true
   },
   "outputs": [
    {
     "name": "stdout",
     "output_type": "stream",
     "text": [
      "True\n",
      "True\n",
      "True\n",
      "Subset shape: (127254, 17) Yu's df shape: (127254, 10)\n",
      "Wall time: 35.7 s\n"
     ]
    }
   ],
   "source": [
    "%%time\n",
    "df_subset = df.set_index(['mrn', 'enc', 'time']).loc[yu.set_index(['mrn','enc','time']).index]\n",
    "df_subset = df_subset.reset_index().groupby('enc').apply(lambda d: d[~d.time.duplicated()])\n",
    "df_subset = df_subset.reset_index(drop=True)\n",
    "print(np.all(df_subset.time == yu.time))\n",
    "print(np.all(df_subset.enc == yu.enc))\n",
    "print(np.all(df_subset.mrn == yu.mrn))\n",
    "print('Subset shape:',df_subset.shape, 'Yu\\'s df shape:',yu.shape)\n",
    "df_subset.loc[df_subset.rollingwindow_aki.isnull(), 'rollingwindow_aki'] = 0\n",
    "df_subset.loc[df_subset.backcalc_aki.isnull(), 'backcalc_aki'] = 0"
   ]
  },
  {
   "cell_type": "code",
   "execution_count": 15,
   "metadata": {
    "scrolled": false
   },
   "outputs": [
    {
     "name": "stdout",
     "output_type": "stream",
     "text": [
      "Back-calc match: 126602 / 127254 ; 0.9948763889543747\n",
      "Rolling-window match: 127215 / 127254 ; 0.9996935263331604\n"
     ]
    }
   ],
   "source": [
    "print('Back-calc match:', (df_subset.backcalc_aki == yu.historical_aki).sum(), '/', df_subset.shape[0],\n",
    "      ';',(df_subset.backcalc_aki == yu.historical_aki).sum() / df_subset.shape[0])\n",
    "print('Rolling-window match:', (df_subset.rollingwindow_aki == yu.running_aki).sum(), '/', yu.shape[0],\n",
    "      ';', (df_subset.rollingwindow_aki == yu.running_aki).sum() / yu.shape[0])"
   ]
  },
  {
   "cell_type": "markdown",
   "metadata": {},
   "source": [
    "### Back-calc mismatch"
   ]
  },
  {
   "cell_type": "code",
   "execution_count": 250,
   "metadata": {
    "scrolled": false
   },
   "outputs": [],
   "source": [
    "#yu.iloc[np.where(df_subset.backcalc_aki != yu.historical_aki_stage)[0]]\n",
    "#df_subset.iloc[np.where(df_subset.backcalc_aki != yu.historical_aki_stage)[0]]"
   ]
  },
  {
   "cell_type": "markdown",
   "metadata": {},
   "source": [
    "### Rolling-window mismatch\n",
    "Ah... lol, I didn't use greater than or equal to just greater than. Wow! That amounts to 412 mismatches!"
   ]
  },
  {
   "cell_type": "code",
   "execution_count": 256,
   "metadata": {
    "scrolled": true
   },
   "outputs": [],
   "source": [
    "#yu.iloc[np.where(df_subset.rollingwindow_aki != yu.running_aki)[0]]\n",
    "#df_subset.iloc[np.where(df_subset.rollingwindow_aki != yu.running_aki)[0]]"
   ]
  },
  {
   "cell_type": "code",
   "execution_count": null,
   "metadata": {
    "scrolled": true
   },
   "outputs": [],
   "source": [
    "%%time\n",
    "mrn_diffs = [df.mrn[indx] in set(df.mrn.unique()) - set(yu.mrn.unique()) for indx in range(df.shape[0])]"
   ]
  },
  {
   "cell_type": "markdown",
   "metadata": {},
   "source": [
    "## Read in COVID-19 cases, same analysis "
   ]
  },
  {
   "cell_type": "code",
   "execution_count": null,
   "metadata": {
    "scrolled": true
   },
   "outputs": [],
   "source": [
    "cdf = pd.read_csv('/Users/saranmedical-smile/csv_files/covid creatinines.csv')\n",
    "cdf.pat_mrn_id = cdf.pat_mrn_id.str.strip('MR').astype('int') #Index with integers --> it's much quicker\n",
    "cdf.time = pd.to_datetime(cdf.time) # Convert to pandas datetime format\n",
    "cdf.admission = pd.to_datetime(cdf.admission)\n",
    "cdf.discharge = pd.to_datetime(cdf.discharge)\n",
    "cdf.drop(['enc_id',\n",
    "         'age',\n",
    "         'sex',\n",
    "         'inpatient',\n",
    "         'race',\n",
    "         'admission',\n",
    "         'discharge'], axis=1, inplace=True)\n",
    "print(cdf.dtypes) # Confirm all the column types are as we want it\n",
    "cdf.columns = ['mrn', #Renaming columns for ease\n",
    "              'enc',\n",
    "              'time',\n",
    "              'creat'] \n",
    "cdf.set_index(['time'], inplace=True)"
   ]
  },
  {
   "cell_type": "code",
   "execution_count": null,
   "metadata": {
    "code_folding": [],
    "scrolled": true
   },
   "outputs": [],
   "source": [
    "%%time\n",
    "#returnAKIpatients(cdf)\n",
    "print('done!')"
   ]
  },
  {
   "cell_type": "code",
   "execution_count": null,
   "metadata": {},
   "outputs": [],
   "source": [
    "%%time\n",
    "x = cdf.groupby('mrn', sort=False)['creat'].rolling(pd.Timedelta('52hours'), min_periods=1).min()#.reset_index('enc').creat\n",
    "y = cdf.groupby('mrn', sort=False)['creat'].rolling(pd.Timedelta('172hours'), min_periods=1).min()#.reset_index('enc').creat    "
   ]
  },
  {
   "cell_type": "code",
   "execution_count": null,
   "metadata": {},
   "outputs": [],
   "source": [
    "cdf = cdf.reset_index().set_index(['enc', 'time'])"
   ]
  },
  {
   "cell_type": "code",
   "execution_count": null,
   "metadata": {},
   "outputs": [],
   "source": [
    "cdf['running_min_48hrs'] = x.values\n",
    "cdf['running_min_7days'] = y.values\n",
    "\n",
    "cdf['running_delta_48hrs'] = np.round(cdf['creat'] - cdf['running_min_48hrs'], decimals = 3)\n",
    "cdf['running_delta_7days'] = np.round(cdf['creat'] - cdf['running_min_7days'], decimals = 3)    \n",
    "\n",
    "condition1 = cdf['running_delta_48hrs'] >= 0.3\n",
    "condition2 = cdf['running_delta_7days'] >= 0.5*cdf['running_min_7days']\n",
    "\n",
    "cdf['aki'] = condition1 | condition2"
   ]
  },
  {
   "cell_type": "code",
   "execution_count": null,
   "metadata": {},
   "outputs": [],
   "source": [
    "cdf.reset_index('enc', inplace=True)\n",
    "cdf.sort_index(inplace=True)\n",
    "cdf['aki_cumsum'] = cdf.aki.cumsum()\n",
    "#cdf['aki_cumsum_7d'] = cdf.reset_index('enc').aki.rolling(pd.Timedelta('7days')).cumsum()"
   ]
  },
  {
   "cell_type": "markdown",
   "metadata": {},
   "source": [
    "## Reading in other dataframes, trying to make heads and tails of what data is included and what isn't"
   ]
  },
  {
   "cell_type": "code",
   "execution_count": 124,
   "metadata": {},
   "outputs": [
    {
     "name": "stdout",
     "output_type": "stream",
     "text": [
      "(1089, 3)\n",
      "(127272, 8)\n",
      "(127272, 6)\n",
      "(25265, 5)\n",
      "(299718, 12) (215121, 17)\n"
     ]
    }
   ],
   "source": [
    "yu_covid_mrn = pd.read_csv(os.path.join(baseFolder, 'aki flagger covid creatinines with covidtest mrn.csv'))\n",
    "print(yu_covid_mrn.shape)\n",
    "\n",
    "yu_covid = pd.read_csv(os.path.join(baseFolder, 'aki flagger covid creatinines with covidtest.csv'))\n",
    "print(yu_covid.shape)\n",
    "\n",
    "yu = pd.read_csv(os.path.join(baseFolder, 'aki flagger covid creatinines.csv')) #these were all tested for covid\n",
    "print(yu.shape)\n",
    "\n",
    "covid_test_result = pd.read_csv(os.path.join(baseFolder, 'covid test result.csv'))\n",
    "covid_test_result['mrn'] = covid_test_result.pat_mrn_id.str.strip('MR').astype('int')\n",
    "covid_test_result['covidtest'] = covid_test_result.covidtest.astype('bool')\n",
    "print(covid_test_result.shape)\n",
    "\n",
    "covid_creats = pd.read_csv(os.path.join(baseFolder, 'covid creatinines.csv'))\n",
    "\n",
    "covid_creats['mrn'] = covid_creats.pat_mrn_id.str.strip('MR').astype('int')\n",
    "print(covid_creats.shape, df.shape)"
   ]
  },
  {
   "cell_type": "code",
   "execution_count": 233,
   "metadata": {
    "scrolled": true
   },
   "outputs": [
    {
     "name": "stdout",
     "output_type": "stream",
     "text": [
      "Wall time: 1min 25s\n"
     ]
    }
   ],
   "source": [
    "%%time\n",
    "indices = [df.mrn[indx] in covid_test_result.mrn.values for indx in range(df.shape[0])]\n",
    "yu_indices = [yu.mrn[indx] in covid_test_result.mrn.values for indx in range(yu.shape[0])]\n",
    "cc_indices = [covid_creats.mrn[indx] in yu.mrn.values for indx in range(covid_creats.shape[0])]\n",
    "df_indices = [df.mrn[indx] in yu.mrn.values for indx in range(df.shape[0])]\n",
    "df_enc_indices = [df.enc[indx] in yu.enc.values for indx in range(df.shape[0])]\n",
    "covid_mrn_indices = [df.mrn[indx] in covid_result.mrn.values for indx in range(df.shape[0])]\n",
    "covid_enc_indices = [df.enc[indx] in covidpos.enc.values for indx in range(df.shape[0])]"
   ]
  },
  {
   "cell_type": "code",
   "execution_count": 4,
   "metadata": {
    "scrolled": true
   },
   "outputs": [
    {
     "name": "stdout",
     "output_type": "stream",
     "text": [
      "covid_result shape: (25265, 4) df shape: (295435, 17) yu shape: (127254, 10)\n",
      "yu encs: 15730 yu mrns: 13821\n",
      "covid+ tests: 4688\n",
      "covid encs: 17441 covid mrns: 15454\n",
      "Wall time: 120 ms\n"
     ]
    }
   ],
   "source": [
    "%%time\n",
    "baseFolder = r'H:\\Data\\Standardized AKI definition\\dataset'\n",
    "covid_result = pd.read_csv(os.path.join(baseFolder, 'covid test result.csv'))\n",
    "covid_result['mrn'] = covid_result.pat_mrn_id.str.strip('MR').astype('int')\n",
    "covid_result['enc'] = covid_result.enc_id\n",
    "covid_result['covidtest'] = covid_result.covidtest.astype('bool')\n",
    "covid_result['time'] = pd.to_datetime(covid_result.time)\n",
    "covid_result = covid_result.drop(['pat_enc_csn_id','pat_mrn_id', 'enc_id'], axis=1)\n",
    "\n",
    "print('covid_result shape:',covid_result.shape, 'df shape:',df.shape,'yu shape:',yu.shape)\n",
    "print('yu encs:', yu.enc.unique().shape[0], 'yu mrns:', yu.mrn.unique().shape[0])\n",
    "print('covid+ tests:', covid_result.covidtest.sum())\n",
    "print('covid encs:',covid_result.enc.unique().shape[0], 'covid mrns:',covid_result.mrn.unique().shape[0])"
   ]
  },
  {
   "cell_type": "code",
   "execution_count": null,
   "metadata": {},
   "outputs": [],
   "source": []
  }
 ],
 "metadata": {
  "kernelspec": {
   "display_name": "Python 3",
   "language": "python",
   "name": "python3"
  },
  "language_info": {
   "codemirror_mode": {
    "name": "ipython",
    "version": 3
   },
   "file_extension": ".py",
   "mimetype": "text/x-python",
   "name": "python",
   "nbconvert_exporter": "python",
   "pygments_lexer": "ipython3",
   "version": "3.6.10"
  }
 },
 "nbformat": 4,
 "nbformat_minor": 4
}
