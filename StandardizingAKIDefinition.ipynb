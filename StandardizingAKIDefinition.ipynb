{
 "cells": [
  {
   "cell_type": "markdown",
   "metadata": {},
   "source": [
    "## Imports"
   ]
  },
  {
   "cell_type": "code",
   "execution_count": null,
   "metadata": {},
   "outputs": [],
   "source": [
    "import pandas as pd\n",
    "import numpy as np\n",
    "import datetime, random\n",
    "\n",
    "from multiprocessing import Pool\n",
    "import time\n",
    "\n",
    "#Potentially useful \n",
    "#MRNs - ENC\n",
    "#2307280 - 205472336"
   ]
  },
  {
   "cell_type": "markdown",
   "metadata": {},
   "source": [
    "## Functions"
   ]
  },
  {
   "cell_type": "code",
   "execution_count": null,
   "metadata": {
    "code_folding": [
     0,
     33,
     52
    ]
   },
   "outputs": [],
   "source": [
    "def returnAKIpatients(df, aki_calc_type = 'rolling_window', keep_cols = True):\n",
    "    \n",
    "    if aki_calc_type == 'both':\n",
    "        df = df.groupby('enc', sort=False).apply(lambda d: addRollingWindowAKI(d))\n",
    "        df = df.reset_index('enc', drop=True).reset_index()\n",
    "        \n",
    "        df = df.groupby('mrn', sort=False).apply(lambda d: addBaselineCreat(d))\n",
    "        df = df.groupby('enc', sort=False).apply(lambda d: addBackCalcAKI(d))\n",
    "        \n",
    "    elif aki_calc_type == 'rolling_window':\n",
    "        df = df.groupby('enc', sort=False).apply(lambda d: addRollingWindowAKI(d))\n",
    "        \n",
    "    elif aki_calc_type == 'back_calculate':\n",
    "        df = df.groupby('mrn', sort=False).apply(lambda d: addBaselineCreat(d))\n",
    "        df = df.groupby('enc', sort=False).apply(lambda d: addBackCalcAKI(d)) \n",
    "    \n",
    "    return df\n",
    "\n",
    "def addBaselineCreat(df):\n",
    "    '''\n",
    "    Adds the baseline creatinine to a dataframe. The baseline creatinine is defined as the median of the outpatient \n",
    "     creatinine values from 365 to 7 days prior to admission.\n",
    "    \n",
    "    Input: dataframe (typically of a single patient)\n",
    "    Output: dataframe with baseline creatinine column added in\n",
    "    '''\n",
    "    t_m1y = (df.admission - datetime.timedelta(days=365)).values\n",
    "    t_m7d = (df.admission - datetime.timedelta(days=7)).values\n",
    "    \n",
    "    df['baseline_creat'] = [df[~df.inpatient].set_index('time').sort_index().loc[t_m1y[indx]:t_m7d[indx]].creat.median() for indx in range(df.shape[0])]\n",
    "    \n",
    "    return df\n",
    "\n",
    "def addBackCalcAKI(df):\n",
    "    '''\n",
    "    Adds the back-calculated AKI conditions, the KDIGO standards on the outpatient values;\n",
    "     i.e. a 50% increase from baseline creatinine in <7 days\n",
    "    \n",
    "    Input: dataframe (typically of a single encounter)\n",
    "    Output: dataframe with back-calculated aki values added in\n",
    "    '''\n",
    "    backcalc_aki = np.empty(df.shape[0])\n",
    "    backcalc_aki[:] = np.nan\n",
    "    \n",
    "    df = df.sort_values('time')\n",
    "    df_lf = df.set_index('time').loc[df.admission.values[0]:(df.admission + datetime.timedelta(days=7)).values[0]]\n",
    "    backcalc_aki[:df_lf.shape[0]] = df_lf.creat > 1.5*df_lf.baseline_creat\n",
    "    \n",
    "    df['backcalc_aki'] = backcalc_aki\n",
    "    \n",
    "    return df \n",
    "\n",
    "def addRollingWindowAKI(df):\n",
    "    '''\n",
    "    Adds the AKI conditions based on rolling window definition: 0.3 creat increase in < 48 hrs OR 50% increase in < 7 days\n",
    "    \n",
    "    Input: dataframe (typically of a single encounter)\n",
    "    Output: dataframe with rolling-window aki values added in\n",
    "    '''\n",
    "    df = df.set_index('time').sort_index()\n",
    "    df = df[~df.duplicated()]\n",
    "    \n",
    "    df['mincreat_48hr'] = df.creat.rolling(pd.Timedelta('2days'), min_periods=1).min().values\n",
    "    df['mincreat_7day'] = df.creat.rolling(pd.Timedelta('7days'), min_periods=1).min().values\n",
    "\n",
    "    df['deltacreat_48hr'] = np.round(df.creat - df.mincreat_48hr, decimals = 3)\n",
    "    df['deltacreat_7day'] = np.round(df.creat - df.mincreat_7day, decimals = 3)\n",
    "\n",
    "    df['rollingwindow_aki'] = (df.deltacreat_48hr >= 0.3) | (df.deltacreat_7day > 0.5*df.mincreat_7day)\n",
    "    \n",
    "    return df"
   ]
  },
  {
   "cell_type": "markdown",
   "metadata": {},
   "source": [
    "## Reading in file; managing columns"
   ]
  },
  {
   "cell_type": "code",
   "execution_count": null,
   "metadata": {},
   "outputs": [],
   "source": [
    "tmp = out.loc[out.enc == 205472336]\n",
    "backcalc_aki = np.empty(tmp.shape[0])\n",
    "backcalc_aki[:] = np.nan\n",
    "tmp = tmp.sort_values('time')\n",
    "tmp2 = tmp.set_index('time').sort_index().loc[tmp.admission.values[0]:(tmp.admission + datetime.timedelta(days=7)).values[0]]\n",
    "backcalc_aki[:tmp2.shape[0]] = tmp2.creat > 1.5*tmp2.baseline_creat\n",
    "tmp['backcalc_aki'] = backcalc_aki\n",
    "tmp"
   ]
  },
  {
   "cell_type": "code",
   "execution_count": null,
   "metadata": {},
   "outputs": [],
   "source": [
    "covid_df = pd.read_csv(r'H:\\Data\\Standardized AKI definition\\dataset\\covid creatinines.csv')\n",
    "covid_df['mrn'] = covid_df.pat_mrn_id.str.strip('MR').astype('int')\n",
    "covid_df['enc'] = covid_df.enc_id\n",
    "covid_df['time'] = pd.to_datetime(covid_df.time)\n",
    "covid_df['sex'] = covid_df.sex.astype('bool')\n",
    "covid_df['race'] = covid_df.race.astype('bool')\n",
    "covid_df['inpatient'] = covid_df.inpatient.astype('bool')\n",
    "covid_df['creat'] = covid_df['creatinine']\n",
    "covid_df['admission'] = pd.to_datetime(covid_df.admission)\n",
    "covid_df['discharge'] = pd.to_datetime(covid_df.discharge)\n",
    "print('Shape:', covid_df.shape)\n",
    "print(covid_df.dtypes)"
   ]
  },
  {
   "cell_type": "code",
   "execution_count": null,
   "metadata": {},
   "outputs": [],
   "source": [
    "df = covid_df[['mrn', 'enc', 'time', 'creat', 'age', 'sex', 'race', 'inpatient', 'admission', 'discharge']]"
   ]
  },
  {
   "cell_type": "code",
   "execution_count": null,
   "metadata": {},
   "outputs": [],
   "source": [
    "%%time\n",
    "out = returnAKIpatients(df, aki_calc_type = 'both')"
   ]
  },
  {
   "cell_type": "markdown",
   "metadata": {},
   "source": [
    "## Adding Baseline Creat & Back-calculated AKI values"
   ]
  },
  {
   "cell_type": "code",
   "execution_count": null,
   "metadata": {
    "scrolled": true
   },
   "outputs": [],
   "source": [
    "%%time\n",
    "#out_rw = returnAKIpatients(df, aki_calc_type = 'rolling_window')"
   ]
  },
  {
   "cell_type": "code",
   "execution_count": null,
   "metadata": {},
   "outputs": [],
   "source": [
    "%%time\n",
    "out_bc = returnAKIpatients(df, aki_calc_type = 'back_calculate')"
   ]
  },
  {
   "cell_type": "code",
   "execution_count": null,
   "metadata": {},
   "outputs": [],
   "source": [
    "%%time\n",
    "out = returnAKIpatients(df, aki_calc_type = 'both')"
   ]
  },
  {
   "cell_type": "code",
   "execution_count": null,
   "metadata": {},
   "outputs": [],
   "source": [
    "#out.to_csv(r'H:\\Data\\Standardized AKI definition\\dataset\\output.csv')"
   ]
  },
  {
   "cell_type": "markdown",
   "metadata": {},
   "source": [
    "## Two criterion for rolling-window definition of AKI:\n",
    "\n",
    "#### *$creat \\uparrow$ of 0.3 in < 48 hrs* OR *$creat \\uparrow$ of 50% in < 7 days*"
   ]
  },
  {
   "cell_type": "code",
   "execution_count": null,
   "metadata": {},
   "outputs": [],
   "source": [
    "def eGFR(creat, age, black, female):\n",
    "    '''\n",
    "    Calculates the estimated glomerular filtration rate based on the serum creatinine levels, age, sex, and race (black or not black);\n",
    "    Based on the formula in the paper A New Equation to Estimate Glomerular Filtration Rate (Levey et. Al, 2009) linked below\n",
    "    \n",
    "    https://pubmed.ncbi.nlm.nih.gov/19414839/\n",
    "    \n",
    "    '''\n",
    "    #Term 2 - np.clip(creat/(0.9-0.2*female, a_min=1, a_max=None) is the same as taking min(1, creat/k)\n",
    "    #Term 3 - np.clip(creat/(0.9-0.2*female, a_min=None, a_max=None) is the same as taking max(1, creat/k)\n",
    "    #where k is the data-derived constant given in the paper: 0.7 for females and 0.9 for males\n",
    "    \n",
    "    return 141*(np.clip(creat/(0.9-0.2*female), a_min=1, a_max=None)**(-0.411+0.082*female))*(np.clip(creat/(0.9-0.2*female), a_min=None, a_max=1)**-1.209)*(0.993**age)*(1+female*0.018)*(1+black*0.159)\n",
    "\n",
    "#Sample test data\n",
    "creat = np.random.normal(loc=1, scale=0.2, size=10)\n",
    "age = np.random.normal(loc=55, scale=10, size=10)\n",
    "black = np.random.rand(10) > 0.5\n",
    "female = np.random.rand(10) > 0.5\n",
    "\n",
    "eGFR(creat, age, black, female) \n",
    "#values seem pretty reasonable (80-120)"
   ]
  },
  {
   "cell_type": "code",
   "execution_count": null,
   "metadata": {},
   "outputs": [],
   "source": []
  }
 ],
 "metadata": {
  "kernelspec": {
   "display_name": "Python 3",
   "language": "python",
   "name": "python3"
  },
  "language_info": {
   "codemirror_mode": {
    "name": "ipython",
    "version": 3
   },
   "file_extension": ".py",
   "mimetype": "text/x-python",
   "name": "python",
   "nbconvert_exporter": "python",
   "pygments_lexer": "ipython3",
   "version": "3.6.10"
  }
 },
 "nbformat": 4,
 "nbformat_minor": 4
}
